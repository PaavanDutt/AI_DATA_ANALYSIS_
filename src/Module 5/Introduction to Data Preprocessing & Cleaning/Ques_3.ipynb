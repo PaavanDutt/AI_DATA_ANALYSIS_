{
 "cells": [
  {
   "cell_type": "code",
   "execution_count": null,
   "metadata": {},
   "outputs": [],
   "source": [
    "# Steps in Data Preprocessing\n",
    "\n",
    "# 1. Data Collection: Gathering raw data from various sources.\n",
    "# Task 1: Collect data from two different sources and merge them.\n",
    "# Task 2: Validate the integrity of the collected datasets.\n",
    "# Task 3: Reflect on challenges faced during data collection and how they were addressed.\n",
    "\n",
    "\n"
   ]
  },
  {
   "cell_type": "code",
   "execution_count": 1,
   "metadata": {},
   "outputs": [
    {
     "name": "stdout",
     "output_type": "stream",
     "text": [
      "   ID     Name   Age         City   Income\n",
      "0   1    Alice  25.0     New York  70000.0\n",
      "1   2      Bob  30.0  Los Angeles  80000.0\n",
      "2   3  Charlie  35.0          NaN      NaN\n",
      "3   4      NaN   NaN      Chicago  65000.0\n"
     ]
    }
   ],
   "source": [
    "import pandas as pd\n",
    "\n",
    "# Source 1: CSV or API simulation\n",
    "data1 = {\n",
    "    'ID': [1, 2, 3],\n",
    "    'Name': ['Alice', 'Bob', 'Charlie'],\n",
    "    'Age': [25, 30, 35]\n",
    "}\n",
    "df1 = pd.DataFrame(data1)\n",
    "\n",
    "# Source 2: Another CSV or database export\n",
    "data2 = {\n",
    "    'ID': [1, 2, 4],\n",
    "    'City': ['New York', 'Los Angeles', 'Chicago'],\n",
    "    'Income': [70000, 80000, 65000]\n",
    "}\n",
    "df2 = pd.DataFrame(data2)\n",
    "\n",
    "# Merge the two sources on 'ID'\n",
    "merged_df = pd.merge(df1, df2, on='ID', how='outer')\n",
    "\n",
    "print(merged_df)\n"
   ]
  },
  {
   "cell_type": "code",
   "execution_count": 2,
   "metadata": {},
   "outputs": [
    {
     "name": "stdout",
     "output_type": "stream",
     "text": [
      "Missing values:\n",
      " ID        0\n",
      "Name      1\n",
      "Age       1\n",
      "City      1\n",
      "Income    1\n",
      "dtype: int64\n",
      "\n",
      "Data types:\n",
      " ID          int64\n",
      "Name       object\n",
      "Age       float64\n",
      "City       object\n",
      "Income    float64\n",
      "dtype: object\n"
     ]
    }
   ],
   "source": [
    "# Check for missing values\n",
    "print(\"Missing values:\\n\", merged_df.isnull().sum())\n",
    "\n",
    "# Check data types\n",
    "print(\"\\nData types:\\n\", merged_df.dtypes)\n",
    "\n",
    "# Validate primary key uniqueness\n",
    "assert merged_df['ID'].is_unique, \"Duplicate IDs found!\"\n"
   ]
  },
  {
   "cell_type": "code",
   "execution_count": null,
   "metadata": {},
   "outputs": [],
   "source": [
    "# 2. Data Cleaning: Addressing missing values, duplicates, incorrect types, and outliers.\n",
    "# Task 1: Clean a given dataset and document the changes made.\n",
    "# Task 2: Create a checklist to ensure comprehensive data cleaning in future projects.\n",
    "# Task 3: Collaborate with a peer to clean a new dataset and present your solutions.\n",
    "\n"
   ]
  },
  {
   "cell_type": "code",
   "execution_count": 3,
   "metadata": {},
   "outputs": [
    {
     "name": "stdout",
     "output_type": "stream",
     "text": [
      "Cleaned Dataset:\n",
      "   ID        Age  Score         City\n",
      "0   1  25.000000     85     New York\n",
      "1   2  30.000000     90  Los Angeles\n",
      "4   5  45.000000     88      Unknown\n",
      "5   6  33.333333     92        Miami\n"
     ]
    }
   ],
   "source": [
    "import pandas as pd\n",
    "import numpy as np\n",
    "\n",
    "# Sample raw data with issues\n",
    "data = {\n",
    "    'ID': [1, 2, 2, 4, 5, 6],\n",
    "    'Age': ['25', '30', '30', 'NaN', 45, 'fifty'],\n",
    "    'Score': [85, 90, 90, 300, 88, 92],\n",
    "    'City': ['New York', 'Los Angeles', 'Los Angeles', 'Chicago', None, 'Miami']\n",
    "}\n",
    "\n",
    "df = pd.DataFrame(data)\n",
    "\n",
    "# Documented cleaning steps:\n",
    "\n",
    "# 1. Remove duplicate rows based on all columns\n",
    "df = df.drop_duplicates()\n",
    "\n",
    "# 2. Handle missing values\n",
    "df['Age'] = pd.to_numeric(df['Age'], errors='coerce')  # Convert 'Age' to numeric, coercing errors to NaN\n",
    "df['Age'].fillna(df['Age'].mean(), inplace=True)       # Replace NaN in 'Age' with mean\n",
    "\n",
    "df['City'].fillna('Unknown', inplace=True)             # Fill missing 'City' with 'Unknown'\n",
    "\n",
    "# 3. Remove outliers in 'Score' using IQR\n",
    "Q1 = df['Score'].quantile(0.25)\n",
    "Q3 = df['Score'].quantile(0.75)\n",
    "IQR = Q3 - Q1\n",
    "lower_bound = Q1 - 1.5 * IQR\n",
    "upper_bound = Q3 + 1.5 * IQR\n",
    "df = df[(df['Score'] >= lower_bound) & (df['Score'] <= upper_bound)]\n",
    "\n",
    "print(\"Cleaned Dataset:\")\n",
    "print(df)\n"
   ]
  },
  {
   "cell_type": "code",
   "execution_count": null,
   "metadata": {},
   "outputs": [],
   "source": [
    "# 3. Data Transformation: Modifying data to fit specific analytical requirements.\n",
    "# Task 1: Transform a date column into separate 'day', 'month', and 'year' columns.\n",
    "# Task 2: Apply normalization to a dataset feature and confirm the changes.\n",
    "# Task 3: Discuss the importance of data transformation in model interpretability.\n",
    "\n",
    "\n"
   ]
  },
  {
   "cell_type": "code",
   "execution_count": 4,
   "metadata": {},
   "outputs": [
    {
     "name": "stdout",
     "output_type": "stream",
     "text": [
      "   ID       Date  Day  Month  Year\n",
      "0   1 2025-05-20   20      5  2025\n",
      "1   2 2025-06-15   15      6  2025\n",
      "2   3 2025-07-10   10      7  2025\n"
     ]
    }
   ],
   "source": [
    "import pandas as pd\n",
    "\n",
    "# Sample dataset with date column\n",
    "data = {\n",
    "    'ID': [1, 2, 3],\n",
    "    'Date': ['2025-05-20', '2025-06-15', '2025-07-10']\n",
    "}\n",
    "\n",
    "df = pd.DataFrame(data)\n",
    "\n",
    "# Convert 'Date' to datetime\n",
    "df['Date'] = pd.to_datetime(df['Date'])\n",
    "\n",
    "# Extract day, month, year into new columns\n",
    "df['Day'] = df['Date'].dt.day\n",
    "df['Month'] = df['Date'].dt.month\n",
    "df['Year'] = df['Date'].dt.year\n",
    "\n",
    "print(df)\n"
   ]
  },
  {
   "cell_type": "code",
   "execution_count": 5,
   "metadata": {},
   "outputs": [
    {
     "name": "stdout",
     "output_type": "stream",
     "text": [
      "   ID  Score  Score_Normalized\n",
      "0   1     50              0.00\n",
      "1   2     60              0.25\n",
      "2   3     70              0.50\n",
      "3   4     80              0.75\n",
      "4   5     90              1.00\n"
     ]
    }
   ],
   "source": [
    "from sklearn.preprocessing import MinMaxScaler\n",
    "import numpy as np\n",
    "\n",
    "# Sample dataset\n",
    "data = {\n",
    "    'ID': [1, 2, 3, 4, 5],\n",
    "    'Score': [50, 60, 70, 80, 90]\n",
    "}\n",
    "df = pd.DataFrame(data)\n",
    "\n",
    "# Initialize scaler\n",
    "scaler = MinMaxScaler()\n",
    "\n",
    "# Normalize 'Score' column\n",
    "df['Score_Normalized'] = scaler.fit_transform(df[['Score']])\n",
    "\n",
    "print(df)\n"
   ]
  },
  {
   "cell_type": "code",
   "execution_count": null,
   "metadata": {},
   "outputs": [],
   "source": [
    "# 4. Feature Scaling: Adjusting data features to a common scale.\n",
    "# Task 1: Apply Min-Max scaling to a dataset.\n",
    "# Task 2: Standardize a dataset and visualize the changes with a histogram.\n",
    "# Task 3: Analyze how feature scaling impacts the performance of different machine learning algorithms.\n",
    "\n",
    "\n",
    "\n"
   ]
  },
  {
   "cell_type": "code",
   "execution_count": 6,
   "metadata": {},
   "outputs": [
    {
     "name": "stdout",
     "output_type": "stream",
     "text": [
      "Original Data:\n",
      "    Height_cm  Weight_kg\n",
      "0        150         50\n",
      "1        160         60\n",
      "2        170         70\n",
      "3        180         80\n",
      "4        190         90\n",
      "\n",
      "Min-Max Scaled Data:\n",
      "    Height_cm  Weight_kg\n",
      "0       0.00       0.00\n",
      "1       0.25       0.25\n",
      "2       0.50       0.50\n",
      "3       0.75       0.75\n",
      "4       1.00       1.00\n"
     ]
    }
   ],
   "source": [
    "import pandas as pd\n",
    "from sklearn.preprocessing import MinMaxScaler\n",
    "\n",
    "# Sample dataset\n",
    "data = {\n",
    "    'Height_cm': [150, 160, 170, 180, 190],\n",
    "    'Weight_kg': [50, 60, 70, 80, 90]\n",
    "}\n",
    "df = pd.DataFrame(data)\n",
    "\n",
    "scaler = MinMaxScaler()\n",
    "\n",
    "# Apply Min-Max scaling to the dataset\n",
    "df_scaled = pd.DataFrame(scaler.fit_transform(df), columns=df.columns)\n",
    "\n",
    "print(\"Original Data:\\n\", df)\n",
    "print(\"\\nMin-Max Scaled Data:\\n\", df_scaled)\n"
   ]
  },
  {
   "cell_type": "code",
   "execution_count": 7,
   "metadata": {},
   "outputs": [
    {
     "data": {
      "image/png": "[encoded data removed]",
      "text/plain": [
       "<Figure size 1000x800 with 4 Axes>"
      ]
     },
     "metadata": {},
     "output_type": "display_data"
    }
   ],
   "source": [
    "import matplotlib.pyplot as plt\n",
    "from sklearn.preprocessing import StandardScaler\n",
    "\n",
    "scaler = StandardScaler()\n",
    "\n",
    "# Standardize the data\n",
    "df_standardized = pd.DataFrame(scaler.fit_transform(df), columns=df.columns)\n",
    "\n",
    "# Plot histograms before and after standardization\n",
    "fig, axes = plt.subplots(2, 2, figsize=(10, 8))\n",
    "\n",
    "# Original data histograms\n",
    "axes[0, 0].hist(df['Height_cm'], bins=5, color='skyblue')\n",
    "axes[0, 0].set_title('Original Height')\n",
    "\n",
    "axes[0, 1].hist(df['Weight_kg'], bins=5, color='lightgreen')\n",
    "axes[0, 1].set_title('Original Weight')\n",
    "\n",
    "# Standardized data histograms\n",
    "axes[1, 0].hist(df_standardized['Height_cm'], bins=5, color='skyblue')\n",
    "axes[1, 0].set_title('Standardized Height')\n",
    "\n",
    "axes[1, 1].hist(df_standardized['Weight_kg'], bins=5, color='lightgreen')\n",
    "axes[1, 1].set_title('Standardized Weight')\n",
    "\n",
    "plt.tight_layout()\n",
    "plt.show()\n"
   ]
  },
  {
   "cell_type": "code",
   "execution_count": null,
   "metadata": {},
   "outputs": [],
   "source": [
    "# 5. Feature Engineering: Creating new features from existing ones to improve model accuracy.\n",
    "# Task 1: Create a new synthetic feature from existing dataset features.\n",
    "# Task 2: Evaluate the impact of new features on model accuracy.\n",
    "# Task 3: Read an academic paper on feature engineering techniques and present the findings.\n",
    "\n",
    "\n"
   ]
  },
  {
   "cell_type": "code",
   "execution_count": 8,
   "metadata": {},
   "outputs": [
    {
     "name": "stdout",
     "output_type": "stream",
     "text": [
      "   Age  Income  Income_per_Age\n",
      "0   25   50000     2000.000000\n",
      "1   30   60000     2000.000000\n",
      "2   35   65000     1857.142857\n",
      "3   40   70000     1750.000000\n",
      "4   45   72000     1600.000000\n"
     ]
    }
   ],
   "source": [
    "import pandas as pd\n",
    "\n",
    "# Sample dataset\n",
    "data = {\n",
    "    'Age': [25, 30, 35, 40, 45],\n",
    "    'Income': [50000, 60000, 65000, 70000, 72000]\n",
    "}\n",
    "df = pd.DataFrame(data)\n",
    "\n",
    "# Create synthetic feature: Income per Age\n",
    "df['Income_per_Age'] = df['Income'] / df['Age']\n",
    "\n",
    "print(df)\n"
   ]
  },
  {
   "cell_type": "code",
   "execution_count": 9,
   "metadata": {},
   "outputs": [
    {
     "name": "stdout",
     "output_type": "stream",
     "text": [
      "MSE without synthetic feature: 0.0000\n",
      "MSE with synthetic feature: 99.8434\n"
     ]
    }
   ],
   "source": [
    "from sklearn.linear_model import LinearRegression\n",
    "from sklearn.model_selection import train_test_split\n",
    "from sklearn.metrics import mean_squared_error\n",
    "\n",
    "X_original = df[['Age', 'Income']]\n",
    "X_new = df[['Age', 'Income', 'Income_per_Age']]\n",
    "y = [200, 250, 300, 350, 400]  # Target variable\n",
    "\n",
    "# Split data\n",
    "X_train_o, X_test_o, y_train, y_test = train_test_split(X_original, y, test_size=0.2, random_state=42)\n",
    "X_train_n, X_test_n, _, _ = train_test_split(X_new, y, test_size=0.2, random_state=42)\n",
    "\n",
    "# Model without synthetic feature\n",
    "model_o = LinearRegression()\n",
    "model_o.fit(X_train_o, y_train)\n",
    "y_pred_o = model_o.predict(X_test_o)\n",
    "mse_o = mean_squared_error(y_test, y_pred_o)\n",
    "\n",
    "# Model with synthetic feature\n",
    "model_n = LinearRegression()\n",
    "model_n.fit(X_train_n, y_train)\n",
    "y_pred_n = model_n.predict(X_test_n)\n",
    "mse_n = mean_squared_error(y_test, y_pred_n)\n",
    "\n",
    "print(f'MSE without synthetic feature: {mse_o:.4f}')\n",
    "print(f'MSE with synthetic feature: {mse_n:.4f}')\n"
   ]
  }
 ],
 "metadata": {
  "kernelspec": {
   "display_name": "Python 3",
   "language": "python",
   "name": "python3"
  },
  "language_info": {
   "codemirror_mode": {
    "name": "ipython",
    "version": 3
   },
   "file_extension": ".py",
   "mimetype": "text/x-python",
   "name": "python",
   "nbconvert_exporter": "python",
   "pygments_lexer": "ipython3",
   "version": "3.10.12"
  }
 },
 "nbformat": 4,
 "nbformat_minor": 2
}
