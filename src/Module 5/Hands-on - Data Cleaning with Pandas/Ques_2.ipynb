{
 "cells": [
  {
   "cell_type": "code",
   "execution_count": null,
   "metadata": {},
   "outputs": [],
   "source": [
    "# Part 2: Remove Duplicates & Fix Data Types\n",
    "\n",
    "# Task 1: Remove Duplicates\n",
    "#     1. Load Extended Data:\n",
    "#     2. Remove Duplicates:\n",
    "        \n",
    "\n",
    "\n",
    "# Task 2: Fix Data Types\n",
    "#     1. Fix Incorrect Data Types:\n",
    "        \n",
    "\n",
    "\n",
    "# Task 3: Convert Data Type for Analysis\n",
    "#     1. Convert Date Strings to DateTime:\n",
    "\n",
    "\n"
   ]
  },
  {
   "cell_type": "code",
   "execution_count": 1,
   "metadata": {},
   "outputs": [
    {
     "name": "stdout",
     "output_type": "stream",
     "text": [
      "Data after removing duplicates:\n",
      "   ID     Name           Age    Price     Category     OrderDate\n",
      "0   1    Alice            25    19.99  Electronics    2023-01-10\n",
      "1   2      Bob            30    15.50     Clothing    2023-01-15\n",
      "2   3  Charlie            27    22.00  Electronics    2023-02-05\n",
      "3   4    David  twenty-eight    30.00         Toys    2023-02-10\n",
      "4   5      Eva            35  invalid      Grocery    2023-03-12\n",
      "5   6    Alice            25    19.99  Electronics    2023-01-10\n",
      "6   7     Fred            40    45.00     Clothing  invalid_date\n",
      "7   8    Grace           NaN    55.00     Clothing    2023-04-01\n"
     ]
    }
   ],
   "source": [
    "import pandas as pd\n",
    "\n",
    "# 1. Load Extended Data\n",
    "df_extended = pd.read_csv('/workspaces/AI_DATA_ANALYSIS_/src/Module 5/Hands-on - Data Cleaning with Pandas/extended.csv')\n",
    "\n",
    "# 2. Remove Duplicates\n",
    "df_no_duplicates = df_extended.drop_duplicates()\n",
    "\n",
    "print(\"Data after removing duplicates:\")\n",
    "print(df_no_duplicates)\n"
   ]
  },
  {
   "cell_type": "code",
   "execution_count": 2,
   "metadata": {},
   "outputs": [
    {
     "name": "stdout",
     "output_type": "stream",
     "text": [
      "Original data types:\n",
      "ID            int64\n",
      "Name         object\n",
      "Age          object\n",
      "Price        object\n",
      "Category     object\n",
      "OrderDate    object\n",
      "dtype: object\n",
      "Data types after fixing:\n",
      "ID              int64\n",
      "Name           object\n",
      "Age           float64\n",
      "Price         float64\n",
      "Category     category\n",
      "OrderDate      object\n",
      "dtype: object\n"
     ]
    }
   ],
   "source": [
    "# Example: Suppose some columns have wrong types, e.g., 'Age' as string, 'Price' as object\n",
    "\n",
    "# Check data types before fixing\n",
    "print(\"Original data types:\")\n",
    "print(df_no_duplicates.dtypes)\n",
    "\n",
    "# Fix data types explicitly\n",
    "df_no_duplicates['Age'] = pd.to_numeric(df_no_duplicates['Age'], errors='coerce')  # Convert to numeric, invalid parsing as NaN\n",
    "df_no_duplicates['Price'] = pd.to_numeric(df_no_duplicates['Price'], errors='coerce')\n",
    "\n",
    "# For categorical columns:\n",
    "df_no_duplicates['Category'] = df_no_duplicates['Category'].astype('category')\n",
    "\n",
    "print(\"Data types after fixing:\")\n",
    "print(df_no_duplicates.dtypes)\n"
   ]
  },
  {
   "cell_type": "code",
   "execution_count": 3,
   "metadata": {},
   "outputs": [
    {
     "name": "stdout",
     "output_type": "stream",
     "text": [
      "Sample data with datetime conversion:\n",
      "   OrderDate\n",
      "0 2023-01-10\n",
      "1 2023-01-15\n",
      "2 2023-02-05\n",
      "3 2023-02-10\n",
      "4 2023-03-12\n"
     ]
    }
   ],
   "source": [
    "# Convert date strings to datetime objects for analysis\n",
    "df_no_duplicates['OrderDate'] = pd.to_datetime(df_no_duplicates['OrderDate'], errors='coerce')\n",
    "\n",
    "print(\"Sample data with datetime conversion:\")\n",
    "print(df_no_duplicates[['OrderDate']].head())\n"
   ]
  }
 ],
 "metadata": {
  "kernelspec": {
   "display_name": "Python 3",
   "language": "python",
   "name": "python3"
  },
  "language_info": {
   "codemirror_mode": {
    "name": "ipython",
    "version": 3
   },
   "file_extension": ".py",
   "mimetype": "text/x-python",
   "name": "python",
   "nbconvert_exporter": "python",
   "pygments_lexer": "ipython3",
   "version": "3.10.12"
  }
 },
 "nbformat": 4,
 "nbformat_minor": 2
}
