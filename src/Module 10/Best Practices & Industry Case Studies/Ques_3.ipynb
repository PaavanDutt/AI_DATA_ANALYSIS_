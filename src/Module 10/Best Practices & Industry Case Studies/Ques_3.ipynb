{
 "cells": [
  {
   "cell_type": "markdown",
   "metadata": {},
   "source": [
    "## Real-World Case Studies\n",
    "\n",
    "### Finance - Fraud Detection Models:\n",
    "**Description**: Analyze a financial dataset, define SLAs for data accuracy and\n",
    "completeness, and ensure high data quality for fraud detection models."
   ]
  },
  {
   "cell_type": "code",
   "execution_count": 1,
   "metadata": {},
   "outputs": [
    {
     "ename": "AttributeError",
     "evalue": "module 'great_expectations' has no attribute 'from_pandas'",
     "output_type": "error",
     "traceback": [
      "\u001b[0;31m---------------------------------------------------------------------------\u001b[0m",
      "\u001b[0;31mAttributeError\u001b[0m                            Traceback (most recent call last)",
      "Cell \u001b[0;32mIn[1], line 56\u001b[0m\n\u001b[1;32m     53\u001b[0m             \u001b[38;5;28mprint\u001b[39m(\u001b[38;5;124mf\u001b[39m\u001b[38;5;124m\"\u001b[39m\u001b[38;5;124m  Failing values (sample): \u001b[39m\u001b[38;5;132;01m{\u001b[39;00mfailing_vals[:\u001b[38;5;241m5\u001b[39m]\u001b[38;5;132;01m}\u001b[39;00m\u001b[38;5;124m\"\u001b[39m)\n\u001b[1;32m     55\u001b[0m \u001b[38;5;28;01mif\u001b[39;00m \u001b[38;5;18m__name__\u001b[39m \u001b[38;5;241m==\u001b[39m \u001b[38;5;124m\"\u001b[39m\u001b[38;5;124m__main__\u001b[39m\u001b[38;5;124m\"\u001b[39m:\n\u001b[0;32m---> 56\u001b[0m     \u001b[43mrun_data_quality_checks\u001b[49m\u001b[43m(\u001b[49m\u001b[43m)\u001b[49m\n\u001b[1;32m     57\u001b[0m \u001b[38;5;66;03m# write your code from here\u001b[39;00m\n",
      "Cell \u001b[0;32mIn[1], line 22\u001b[0m, in \u001b[0;36mrun_data_quality_checks\u001b[0;34m()\u001b[0m\n\u001b[1;32m     19\u001b[0m df \u001b[38;5;241m=\u001b[39m pd\u001b[38;5;241m.\u001b[39mDataFrame(data)\n\u001b[1;32m     21\u001b[0m \u001b[38;5;66;03m# Convert to Great Expectations DataFrame\u001b[39;00m\n\u001b[0;32m---> 22\u001b[0m gdf \u001b[38;5;241m=\u001b[39m \u001b[43mge\u001b[49m\u001b[38;5;241;43m.\u001b[39;49m\u001b[43mfrom_pandas\u001b[49m(df)\n\u001b[1;32m     24\u001b[0m \u001b[38;5;66;03m# Define expectations (SLAs)\u001b[39;00m\n\u001b[1;32m     25\u001b[0m \n\u001b[1;32m     26\u001b[0m \u001b[38;5;66;03m# Completeness checks: no nulls in 'amount' and 'timestamp'\u001b[39;00m\n\u001b[1;32m     27\u001b[0m gdf\u001b[38;5;241m.\u001b[39mexpect_column_values_to_not_be_null(\u001b[38;5;124m'\u001b[39m\u001b[38;5;124mamount\u001b[39m\u001b[38;5;124m'\u001b[39m)\n",
      "\u001b[0;31mAttributeError\u001b[0m: module 'great_expectations' has no attribute 'from_pandas'"
     ]
    }
   ],
   "source": [
    "\n",
    "# Install Great Expectations if not installed\n",
    "# Uncomment below if running locally\n",
    "# !pip install great_expectations pandas\n",
    "\n",
    "import pandas as pd\n",
    "import great_expectations as ge\n",
    "\n",
    "def run_data_quality_checks():\n",
    "    # Sample dataset with intentional issues\n",
    "    data = {\n",
    "        'transaction_id': [1, 2, 3, 4],\n",
    "        'amount': [100.0, -50.0, None, 250.0],\n",
    "        'timestamp': ['2023-01-01T10:00:00', 'invalid_time', '2023-01-01T11:00:00', '2023-01-01T12:00:00'],\n",
    "        'merchant_category': ['grocery', 'electronics', '', 'travel'],\n",
    "        'is_fraud': [0, 1, 0, 1]\n",
    "    }\n",
    "\n",
    "    # Load into pandas DataFrame\n",
    "    df = pd.DataFrame(data)\n",
    "\n",
    "    # Convert to Great Expectations DataFrame\n",
    "    gdf = ge.from_pandas(df)\n",
    "\n",
    "    # Define expectations (SLAs)\n",
    "\n",
    "    # Completeness checks: no nulls in 'amount' and 'timestamp'\n",
    "    gdf.expect_column_values_to_not_be_null('amount')\n",
    "    gdf.expect_column_values_to_not_be_null('timestamp')\n",
    "\n",
    "    # Accuracy check: 'amount' must be > 0\n",
    "    gdf.expect_column_values_to_be_between('amount', min_value=0.01)\n",
    "\n",
    "    # Consistency check: 'timestamp' matches ISO8601 format (simple regex)\n",
    "    iso_regex = r\"^\\d{4}-\\d{2}-\\d{2}T\\d{2}:\\d{2}:\\d{2}$\"\n",
    "    gdf.expect_column_values_to_match_regex('timestamp', iso_regex)\n",
    "\n",
    "    # Completeness check: 'merchant_category' not null or empty\n",
    "    gdf.expect_column_values_to_not_be_null('merchant_category')\n",
    "    gdf.expect_column_values_to_not_match_regex('merchant_category', r\"^\\s*$\")\n",
    "\n",
    "    # Validate all expectations\n",
    "    results = gdf.validate()\n",
    "\n",
    "    # Print summary\n",
    "    print(\"Data Quality Validation Results:\")\n",
    "    for res in results['results']:\n",
    "        expectation_type = res['expectation_config']['expectation_type']\n",
    "        success = res['success']\n",
    "        print(f\"- {expectation_type}: {'PASS' if success else 'FAIL'}\")\n",
    "        if not success:\n",
    "            # Show sample failing values\n",
    "            failing_vals = res['result'].get('unexpected_list', [])\n",
    "            print(f\"  Failing values (sample): {failing_vals[:5]}\")\n",
    "\n",
    "if __name__ == \"__main__\":\n",
    "    run_data_quality_checks()\n",
    "# write your code from here"
   ]
  }
 ],
 "metadata": {
  "kernelspec": {
   "display_name": "Python 3",
   "language": "python",
   "name": "python3"
  },
  "language_info": {
   "codemirror_mode": {
    "name": "ipython",
    "version": 3
   },
   "file_extension": ".py",
   "mimetype": "text/x-python",
   "name": "python",
   "nbconvert_exporter": "python",
   "pygments_lexer": "ipython3",
   "version": "3.10.12"
  }
 },
 "nbformat": 4,
 "nbformat_minor": 2
}
