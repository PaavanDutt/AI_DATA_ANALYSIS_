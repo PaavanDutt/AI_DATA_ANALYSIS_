{
 "cells": [
  {
   "cell_type": "markdown",
   "metadata": {},
   "source": [
    "## Defining Data Quality SLAs\n",
    "### Data Completeness\n",
    "**Description**: Set an SLA that ensures that 95% of data fields in your dataset are filled (non-null values). Practice by checking a dataset of your choice and calculate its completeness."
   ]
  },
  {
   "cell_type": "code",
   "execution_count": 1,
   "metadata": {},
   "outputs": [
    {
     "name": "stdout",
     "output_type": "stream",
     "text": [
      "Sample Dataset:\n",
      "      Name   Age              Email         City\n",
      "0    Alice  25.0  alice@example.com     New York\n",
      "1      Bob   NaN    bob@example.com  Los Angeles\n",
      "2  Charlie  30.0               None      Chicago\n",
      "3    David  22.0  david@example.com         None\n",
      "4     None  28.0    eve@example.com      Houston\n",
      "\n",
      "Data Completeness: 80.00%\n",
      "❌ SLA not met: Investigate missing data.\n",
      "\n",
      "Missing Values per Column:\n",
      "Name     1\n",
      "Age      1\n",
      "Email    1\n",
      "City     1\n",
      "dtype: int64\n"
     ]
    }
   ],
   "source": [
    "# write your code from here\n",
    "import pandas as pd\n",
    "import numpy as np\n",
    "\n",
    "# Sample dataset defined in code\n",
    "data = {\n",
    "    'Name': ['Alice', 'Bob', 'Charlie', 'David', None],\n",
    "    'Age': [25, None, 30, 22, 28],\n",
    "    'Email': ['alice@example.com', 'bob@example.com', None, 'david@example.com', 'eve@example.com'],\n",
    "    'City': ['New York', 'Los Angeles', 'Chicago', None, 'Houston']\n",
    "}\n",
    "\n",
    "# Create DataFrame\n",
    "df = pd.DataFrame(data)\n",
    "\n",
    "# Print dataset\n",
    "print(\"Sample Dataset:\")\n",
    "print(df)\n",
    "\n",
    "# Calculate total cells and non-null cells\n",
    "total_cells = df.size\n",
    "non_null_cells = df.count().sum()\n",
    "\n",
    "# Calculate completeness\n",
    "completeness = (non_null_cells / total_cells) * 100\n",
    "\n",
    "# Print completeness\n",
    "print(f\"\\nData Completeness: {completeness:.2f}%\")\n",
    "\n",
    "# SLA check\n",
    "if completeness >= 95:\n",
    "    print(\"✅ SLA met: Data completeness is acceptable.\")\n",
    "else:\n",
    "    print(\"❌ SLA not met: Investigate missing data.\")\n",
    "\n",
    "# Optional: See missing values per column\n",
    "print(\"\\nMissing Values per Column:\")\n",
    "print(df.isnull().sum())\n"
   ]
  },
  {
   "cell_type": "markdown",
   "metadata": {},
   "source": [
    "### Data Timeliness:\n",
    "**Description**: Establish an SLA that specifies that data should be integrated and processed within 24 hours of acquisition. Monitor the data pipeline for timeliness."
   ]
  },
  {
   "cell_type": "code",
   "execution_count": 2,
   "metadata": {},
   "outputs": [
    {
     "name": "stdout",
     "output_type": "stream",
     "text": [
      "📊 Timeliness SLA Check:\n",
      "   record_id    acquisition_time     processing_time time_to_process  sla_met\n",
      "0          1 2025-05-27 10:00:00 2025-05-27 18:00:00 0 days 08:00:00     True\n",
      "1          2 2025-05-27 12:00:00 2025-05-28 11:00:00 0 days 23:00:00     True\n",
      "2          3 2025-05-27 09:30:00 2025-05-27 20:00:00 0 days 10:30:00     True\n",
      "3          4 2025-05-26 08:00:00 2025-05-27 12:00:00 1 days 04:00:00    False\n",
      "4          5 2025-05-27 14:00:00 2025-05-28 12:00:00 0 days 22:00:00     True\n",
      "\n",
      "📈 Data Timeliness Compliance: 80.00%\n",
      "❌ SLA not met: Investigate processing delays.\n"
     ]
    }
   ],
   "source": [
    "# write your code from here\n",
    "import pandas as pd\n",
    "from datetime import datetime, timedelta\n",
    "\n",
    "# Step 1: Sample dataset\n",
    "data = {\n",
    "    'record_id': [1, 2, 3, 4, 5],\n",
    "    'acquisition_time': [\n",
    "        datetime(2025, 5, 27, 10, 0),\n",
    "        datetime(2025, 5, 27, 12, 0),\n",
    "        datetime(2025, 5, 27, 9, 30),\n",
    "        datetime(2025, 5, 26, 8, 0),\n",
    "        datetime(2025, 5, 27, 14, 0)\n",
    "    ],\n",
    "    'processing_time': [\n",
    "        datetime(2025, 5, 27, 18, 0),   # 8 hrs\n",
    "        datetime(2025, 5, 28, 11, 0),   # 23 hrs\n",
    "        datetime(2025, 5, 27, 20, 0),   # 10.5 hrs\n",
    "        datetime(2025, 5, 27, 12, 0),   # 28 hrs ❌\n",
    "        datetime(2025, 5, 28, 12, 0)    # 22 hrs\n",
    "    ]\n",
    "}\n",
    "\n",
    "# Step 2: Create DataFrame\n",
    "df = pd.DataFrame(data)\n",
    "\n",
    "# Step 3: Calculate time delta\n",
    "df['time_to_process'] = df['processing_time'] - df['acquisition_time']\n",
    "\n",
    "# Step 4: Evaluate SLA (24 hours)\n",
    "sla_limit = pd.Timedelta(hours=24)\n",
    "df['sla_met'] = df['time_to_process'] <= sla_limit\n",
    "\n",
    "# Step 5: Calculate SLA compliance rate\n",
    "sla_compliance_rate = df['sla_met'].mean() * 100\n",
    "\n",
    "# Step 6: Display results\n",
    "print(\"📊 Timeliness SLA Check:\")\n",
    "print(df[['record_id', 'acquisition_time', 'processing_time', 'time_to_process', 'sla_met']])\n",
    "print(f\"\\n📈 Data Timeliness Compliance: {sla_compliance_rate:.2f}%\")\n",
    "\n",
    "if sla_compliance_rate >= 95:\n",
    "    print(\"✅ SLA met: Data is timely.\")\n",
    "else:\n",
    "    print(\"❌ SLA not met: Investigate processing delays.\")\n"
   ]
  },
  {
   "cell_type": "markdown",
   "metadata": {},
   "source": [
    "### Data Consistency:\n",
    "**Description**: Define an SLA for maintaining consistency across various related datasets. Implement a check to ensure that 99% of data entries are consistent."
   ]
  },
  {
   "cell_type": "code",
   "execution_count": 1,
   "metadata": {},
   "outputs": [
    {
     "name": "stdout",
     "output_type": "stream",
     "text": [
      "📊 Orders Dataset with Consistency Check:\n",
      "   order_id  customer_id  customer_exists\n",
      "0      1001          101             True\n",
      "1      1002          102             True\n",
      "2      1003          105            False\n",
      "3      1004          103             True\n",
      "4      1005          104             True\n",
      "5      1006          106            False\n",
      "\n",
      "📈 Data Consistency Rate: 66.67%\n",
      "❌ SLA not met: Investigate data mismatches.\n"
     ]
    }
   ],
   "source": [
    "# write your code from here\n",
    "import pandas as pd\n",
    "\n",
    "# Sample Dataset 1: Customers\n",
    "customers = pd.DataFrame({\n",
    "    'customer_id': [101, 102, 103, 104],\n",
    "    'name': ['Alice', 'Bob', 'Charlie', 'David']\n",
    "})\n",
    "\n",
    "# Sample Dataset 2: Orders\n",
    "orders = pd.DataFrame({\n",
    "    'order_id': [1001, 1002, 1003, 1004, 1005, 1006],\n",
    "    'customer_id': [101, 102, 105, 103, 104, 106],  # Note: 105 and 106 don't exist in customers\n",
    "    'amount': [250, 300, 150, 400, 500, 350]\n",
    "})\n",
    "\n",
    "# Step 1: Check consistency (join condition: customer_id exists)\n",
    "orders['customer_exists'] = orders['customer_id'].isin(customers['customer_id'])\n",
    "\n",
    "# Step 2: Calculate consistency rate\n",
    "consistency_rate = orders['customer_exists'].mean() * 100\n",
    "\n",
    "# Step 3: Display results\n",
    "print(\"📊 Orders Dataset with Consistency Check:\")\n",
    "print(orders[['order_id', 'customer_id', 'customer_exists']])\n",
    "\n",
    "print(f\"\\n📈 Data Consistency Rate: {consistency_rate:.2f}%\")\n",
    "\n",
    "# Step 4: SLA Evaluation\n",
    "if consistency_rate >= 99:\n",
    "    print(\"✅ SLA met: Data is consistent across datasets.\")\n",
    "else:\n",
    "    print(\"❌ SLA not met: Investigate data mismatches.\")\n"
   ]
  }
 ],
 "metadata": {
  "kernelspec": {
   "display_name": "Python 3",
   "language": "python",
   "name": "python3"
  },
  "language_info": {
   "codemirror_mode": {
    "name": "ipython",
    "version": 3
   },
   "file_extension": ".py",
   "mimetype": "text/x-python",
   "name": "python",
   "nbconvert_exporter": "python",
   "pygments_lexer": "ipython3",
   "version": "3.10.12"
  }
 },
 "nbformat": 4,
 "nbformat_minor": 2
}
