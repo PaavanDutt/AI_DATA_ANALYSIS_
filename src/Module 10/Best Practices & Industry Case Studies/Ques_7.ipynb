{
 "cells": [
  {
   "cell_type": "markdown",
   "metadata": {},
   "source": [
    "### Implementing and Logging an ML Experiment with MLFlow\n",
    "**Description**: Train an ML model for an e-commerce recommendation engine using MLFlow to track models and experiments.\n",
    "\n",
    "**Steps**:\n",
    "1. MLFlow Integration Setup\n",
    "2. Training the Model\n",
    "3. Logging the Experiment\n",
    "4. Accessing MLFlow UI"
   ]
  },
  {
   "cell_type": "code",
   "execution_count": 1,
   "metadata": {},
   "outputs": [
    {
     "name": "stderr",
     "output_type": "stream",
     "text": [
      "2025/05/28 14:19:05 INFO mlflow.tracking.fluent: Experiment with name 'ecommerce_recommendation_experiment' does not exist. Creating a new experiment.\n",
      "\u001b[31m2025/05/28 14:19:09 WARNING mlflow.models.model: Model logged without a signature and input example. Please set `input_example` parameter when logging the model to auto infer the model signature.\u001b[0m\n"
     ]
    },
    {
     "name": "stdout",
     "output_type": "stream",
     "text": [
      "Precision: 0.5000\n",
      "Recall: 1.0000\n",
      "Run ID: 5211ee3c32d64ddfa4b65f57543ec45d\n"
     ]
    }
   ],
   "source": [
    "# write your code from here\n",
    "# 1. Installation (run in terminal)\n",
    "# pip install mlflow scikit-learn pandas\n",
    "\n",
    "import mlflow\n",
    "import mlflow.sklearn\n",
    "import pandas as pd\n",
    "from sklearn.model_selection import train_test_split\n",
    "from sklearn.ensemble import RandomForestClassifier\n",
    "from sklearn.metrics import precision_score, recall_score\n",
    "\n",
    "# 2. Sample e-commerce data (user-item interaction simplified)\n",
    "data = {\n",
    "    \"user_id\": [1, 1, 2, 2, 3, 3, 4, 4],\n",
    "    \"item_id\": [101, 102, 101, 103, 102, 104, 101, 104],\n",
    "    \"interaction\": [1, 0, 1, 1, 0, 1, 0, 1],  # 1 = purchased, 0 = no purchase\n",
    "    \"user_age\": [25, 25, 30, 30, 22, 22, 35, 35],\n",
    "    \"item_category\": [5, 3, 5, 2, 3, 1, 5, 1]\n",
    "}\n",
    "\n",
    "df = pd.DataFrame(data)\n",
    "\n",
    "# Feature engineering: One-hot encode categorical variables\n",
    "X = pd.get_dummies(df[['user_age', 'item_category']])\n",
    "y = df['interaction']\n",
    "\n",
    "# 3. Split data\n",
    "X_train, X_test, y_train, y_test = train_test_split(X, y, test_size=0.25, random_state=42)\n",
    "\n",
    "# Set MLflow experiment\n",
    "mlflow.set_experiment(\"ecommerce_recommendation_experiment\")\n",
    "\n",
    "with mlflow.start_run():\n",
    "    # 4. Train model\n",
    "    n_estimators = 50\n",
    "    max_depth = 4\n",
    "    model = RandomForestClassifier(n_estimators=n_estimators, max_depth=max_depth, random_state=42)\n",
    "    model.fit(X_train, y_train)\n",
    "\n",
    "    # 5. Predict and evaluate\n",
    "    preds = model.predict(X_test)\n",
    "    precision = precision_score(y_test, preds)\n",
    "    recall = recall_score(y_test, preds)\n",
    "\n",
    "    # 6. Log params, metrics, and model\n",
    "    mlflow.log_param(\"n_estimators\", n_estimators)\n",
    "    mlflow.log_param(\"max_depth\", max_depth)\n",
    "    mlflow.log_metric(\"precision\", precision)\n",
    "    mlflow.log_metric(\"recall\", recall)\n",
    "    mlflow.sklearn.log_model(model, \"recommendation_model\")\n",
    "\n",
    "    print(f\"Precision: {precision:.4f}\")\n",
    "    print(f\"Recall: {recall:.4f}\")\n",
    "    print(f\"Run ID: {mlflow.active_run().info.run_id}\")\n",
    "\n",
    "# 7. To view the experiment, run in terminal:\n",
    "# mlflow ui\n",
    "# Then open http://localhost:5000 in your browser\n"
   ]
  }
 ],
 "metadata": {
  "kernelspec": {
   "display_name": "Python 3",
   "language": "python",
   "name": "python3"
  },
  "language_info": {
   "codemirror_mode": {
    "name": "ipython",
    "version": 3
   },
   "file_extension": ".py",
   "mimetype": "text/x-python",
   "name": "python",
   "nbconvert_exporter": "python",
   "pygments_lexer": "ipython3",
   "version": "3.10.12"
  }
 },
 "nbformat": 4,
 "nbformat_minor": 2
}
