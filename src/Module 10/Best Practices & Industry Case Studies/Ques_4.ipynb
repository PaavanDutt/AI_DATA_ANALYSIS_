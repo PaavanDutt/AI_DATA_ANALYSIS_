{
 "cells": [
  {
   "cell_type": "markdown",
   "metadata": {},
   "source": [
    "## Real-World Case Studies\n",
    "\n",
    "### Healthcare - Medical Prediction Errors:\n",
    "**Description**: Implement validation rules using a healthcare dataset to reduce errors in\n",
    "predictive models by automating data quality checks."
   ]
  },
  {
   "cell_type": "code",
   "execution_count": 1,
   "metadata": {},
   "outputs": [
    {
     "name": "stdout",
     "output_type": "stream",
     "text": [
      "Data validation errors found:\n",
      "- age: rows [1, 3]\n",
      "- blood_pressure: rows [2]\n",
      "- heart_rate: rows [1]\n",
      "- date_consistency: rows [1]\n",
      "- missing_diagnosis_code: rows [1]\n"
     ]
    }
   ],
   "source": [
    "# write your code from here\n",
    "import pandas as pd\n",
    "import numpy as np\n",
    "\n",
    "# Sample healthcare dataset\n",
    "data = {\n",
    "    'patient_id': [1, 2, 3, 4],\n",
    "    'age': [25, -5, 70, 130],                  # Age should be 0 < age < 120\n",
    "    'blood_pressure': [120, 85, 300, 90],      # Plausible range 50-200 mmHg\n",
    "    'heart_rate': [80, 0, 55, 180],             # Plausible range 40-180 bpm\n",
    "    'admission_date': ['2025-05-01', '2025-05-05', '2025-05-10', '2025-05-08'],\n",
    "    'discharge_date': ['2025-05-10', '2025-05-04', '2025-05-15', '2025-05-12'],\n",
    "    'diagnosis_code': ['A10', None, 'B20', 'C30']  # Should not be null\n",
    "}\n",
    "\n",
    "df = pd.DataFrame(data)\n",
    "\n",
    "# Convert dates to datetime\n",
    "df['admission_date'] = pd.to_datetime(df['admission_date'])\n",
    "df['discharge_date'] = pd.to_datetime(df['discharge_date'])\n",
    "\n",
    "# Validation rules\n",
    "def validate_data(df):\n",
    "    errors = {}\n",
    "\n",
    "    # Age check: 0 < age < 120\n",
    "    invalid_age = df[(df['age'] <= 0) | (df['age'] > 120)].index.tolist()\n",
    "    if invalid_age:\n",
    "        errors['age'] = invalid_age\n",
    "\n",
    "    # Blood pressure: 50 <= bp <= 200\n",
    "    invalid_bp = df[(df['blood_pressure'] < 50) | (df['blood_pressure'] > 200)].index.tolist()\n",
    "    if invalid_bp:\n",
    "        errors['blood_pressure'] = invalid_bp\n",
    "\n",
    "    # Heart rate: 40 <= hr <= 180\n",
    "    invalid_hr = df[(df['heart_rate'] < 40) | (df['heart_rate'] > 180)].index.tolist()\n",
    "    if invalid_hr:\n",
    "        errors['heart_rate'] = invalid_hr\n",
    "\n",
    "    # Admission date before discharge date\n",
    "    invalid_dates = df[df['admission_date'] > df['discharge_date']].index.tolist()\n",
    "    if invalid_dates:\n",
    "        errors['date_consistency'] = invalid_dates\n",
    "\n",
    "    # Diagnosis code not null\n",
    "    missing_diag = df[df['diagnosis_code'].isnull()].index.tolist()\n",
    "    if missing_diag:\n",
    "        errors['missing_diagnosis_code'] = missing_diag\n",
    "\n",
    "    return errors\n",
    "\n",
    "# Run validation\n",
    "validation_errors = validate_data(df)\n",
    "\n",
    "if validation_errors:\n",
    "    print(\"Data validation errors found:\")\n",
    "    for field, rows in validation_errors.items():\n",
    "        print(f\"- {field}: rows {rows}\")\n",
    "else:\n",
    "    print(\"No validation errors found. Data is clean.\")\n",
    "\n"
   ]
  }
 ],
 "metadata": {
  "kernelspec": {
   "display_name": "Python 3",
   "language": "python",
   "name": "python3"
  },
  "language_info": {
   "codemirror_mode": {
    "name": "ipython",
    "version": 3
   },
   "file_extension": ".py",
   "mimetype": "text/x-python",
   "name": "python",
   "nbconvert_exporter": "python",
   "pygments_lexer": "ipython3",
   "version": "3.10.12"
  }
 },
 "nbformat": 4,
 "nbformat_minor": 2
}
