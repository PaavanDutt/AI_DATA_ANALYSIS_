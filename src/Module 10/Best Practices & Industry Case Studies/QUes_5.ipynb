{
 "cells": [
  {
   "cell_type": "markdown",
   "metadata": {},
   "source": [
    "### Implementing Basic Data Validation with Great Expectations\n",
    "**Description**: Set up a simple data validation using Great Expectations to check the completeness of a dataset.\n",
    "\n",
    "**Steps**:\n",
    "1. Installation\n",
    "2. Initialize Great Expectations\n",
    "3. Create a Data Context in Python\n",
    "4. Create an Expectation Suite\n",
    "5. Load Sample Data and Validate Completeness\n",
    "6. Run Validations"
   ]
  },
  {
   "cell_type": "code",
   "execution_count": 1,
   "metadata": {},
   "outputs": [
    {
     "ename": "AttributeError",
     "evalue": "module 'great_expectations' has no attribute 'from_pandas'",
     "output_type": "error",
     "traceback": [
      "\u001b[0;31m---------------------------------------------------------------------------\u001b[0m",
      "\u001b[0;31mAttributeError\u001b[0m                            Traceback (most recent call last)",
      "Cell \u001b[0;32mIn[1], line 14\u001b[0m\n\u001b[1;32m     11\u001b[0m df \u001b[38;5;241m=\u001b[39m pd\u001b[38;5;241m.\u001b[39mDataFrame(data)\n\u001b[1;32m     13\u001b[0m \u001b[38;5;66;03m# Convert DataFrame to Great Expectations dataset\u001b[39;00m\n\u001b[0;32m---> 14\u001b[0m dataset \u001b[38;5;241m=\u001b[39m \u001b[43mge\u001b[49m\u001b[38;5;241;43m.\u001b[39;49m\u001b[43mfrom_pandas\u001b[49m(df)\n\u001b[1;32m     16\u001b[0m \u001b[38;5;66;03m# Add expectations to check completeness (no nulls) in columns\u001b[39;00m\n\u001b[1;32m     17\u001b[0m dataset\u001b[38;5;241m.\u001b[39mexpect_column_values_to_not_be_null(\u001b[38;5;124m\"\u001b[39m\u001b[38;5;124mpatient_id\u001b[39m\u001b[38;5;124m\"\u001b[39m)\n",
      "\u001b[0;31mAttributeError\u001b[0m: module 'great_expectations' has no attribute 'from_pandas'"
     ]
    }
   ],
   "source": [
    "# write your code from here\n",
    "import great_expectations as ge\n",
    "import pandas as pd\n",
    "\n",
    "# Sample data with missing values\n",
    "data = {\n",
    "    \"patient_id\": [1, 2, 3, 4],\n",
    "    \"age\": [25, None, 70, 45],\n",
    "    \"diagnosis_code\": [\"A10\", \"B20\", None, \"C30\"]\n",
    "}\n",
    "df = pd.DataFrame(data)\n",
    "\n",
    "# Convert DataFrame to Great Expectations dataset\n",
    "dataset = ge.from_pandas(df)\n",
    "\n",
    "# Add expectations to check completeness (no nulls) in columns\n",
    "dataset.expect_column_values_to_not_be_null(\"patient_id\")\n",
    "dataset.expect_column_values_to_not_be_null(\"age\")\n",
    "dataset.expect_column_values_to_not_be_null(\"diagnosis_code\")\n",
    "\n",
    "# Validate dataset against expectations\n",
    "results = dataset.validate()\n",
    "\n",
    "# Print validation results summary\n",
    "print(\"Validation Results:\")\n",
    "print(results)\n"
   ]
  }
 ],
 "metadata": {
  "kernelspec": {
   "display_name": "Python 3",
   "language": "python",
   "name": "python3"
  },
  "language_info": {
   "codemirror_mode": {
    "name": "ipython",
    "version": 3
   },
   "file_extension": ".py",
   "mimetype": "text/x-python",
   "name": "python",
   "nbconvert_exporter": "python",
   "pygments_lexer": "ipython3",
   "version": "3.10.12"
  }
 },
 "nbformat": 4,
 "nbformat_minor": 2
}
