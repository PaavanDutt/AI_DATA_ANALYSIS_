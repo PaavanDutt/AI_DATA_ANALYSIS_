{
 "cells": [
  {
   "cell_type": "markdown",
   "metadata": {},
   "source": [
    "### Feature Selection - Variance Threshold\n",
    "**Description**: Remove features with low variance."
   ]
  },
  {
   "cell_type": "code",
   "execution_count": 1,
   "metadata": {},
   "outputs": [
    {
     "name": "stdout",
     "output_type": "stream",
     "text": [
      "Before variance thresholding:\n",
      "   Feature1  Feature2  Feature3\n",
      "0         1         0       100\n",
      "1         1         1       100\n",
      "2         1         0       100\n",
      "3         1         1        99\n",
      "4         1         0       100\n",
      "\n",
      "After removing low-variance features:\n",
      "   Feature2  Feature3\n",
      "0         0       100\n",
      "1         1       100\n",
      "2         0       100\n",
      "3         1        99\n",
      "4         0       100\n"
     ]
    }
   ],
   "source": [
    "import pandas as pd\n",
    "from sklearn.feature_selection import VarianceThreshold\n",
    "\n",
    "def remove_low_variance_features(df, threshold=0.0):\n",
    "    \"\"\"\n",
    "    Removes features with variance below the specified threshold.\n",
    "    \"\"\"\n",
    "    selector = VarianceThreshold(threshold=threshold)\n",
    "    reduced_data = selector.fit_transform(df)\n",
    "    \n",
    "    # Get column names that were retained\n",
    "    retained_columns = df.columns[selector.get_support()]\n",
    "    \n",
    "    return pd.DataFrame(reduced_data, columns=retained_columns)\n",
    "\n",
    "# Example usage\n",
    "if __name__ == \"__main__\":\n",
    "    # Sample dataset with low-variance features\n",
    "    data = {\n",
    "        'Feature1': [1, 1, 1, 1, 1],        # Zero variance\n",
    "        'Feature2': [0, 1, 0, 1, 0],        # High variance\n",
    "        'Feature3': [100, 100, 100, 99, 100] # Low variance\n",
    "    }\n",
    "\n",
    "    df = pd.DataFrame(data)\n",
    "\n",
    "    print(\"Before variance thresholding:\")\n",
    "    print(df)\n",
    "\n",
    "    df_filtered = remove_low_variance_features(df, threshold=0.01)\n",
    "\n",
    "    print(\"\\nAfter removing low-variance features:\")\n",
    "    print(df_filtered)\n",
    "# write your code from here"
   ]
  }
 ],
 "metadata": {
  "kernelspec": {
   "display_name": "Python 3",
   "language": "python",
   "name": "python3"
  },
  "language_info": {
   "codemirror_mode": {
    "name": "ipython",
    "version": 3
   },
   "file_extension": ".py",
   "mimetype": "text/x-python",
   "name": "python",
   "nbconvert_exporter": "python",
   "pygments_lexer": "ipython3",
   "version": "3.10.12"
  }
 },
 "nbformat": 4,
 "nbformat_minor": 2
}
