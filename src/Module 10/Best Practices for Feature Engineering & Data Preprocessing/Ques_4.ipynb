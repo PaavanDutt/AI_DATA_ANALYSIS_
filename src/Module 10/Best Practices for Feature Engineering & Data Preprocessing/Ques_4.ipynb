{
 "cells": [
  {
   "cell_type": "markdown",
   "metadata": {},
   "source": [
    "### Feature Selection - Using Mutual Information\n",
    "**Description**: Use mutual information for feature selection to identify important features."
   ]
  },
  {
   "cell_type": "code",
   "execution_count": 1,
   "metadata": {},
   "outputs": [
    {
     "name": "stdout",
     "output_type": "stream",
     "text": [
      "Original features:\n",
      "   Age  Income  Gender\n",
      "0   25   50000       0\n",
      "1   30   60000       1\n",
      "2   22   55000       1\n",
      "3   45   80000       1\n",
      "4   35   75000       0\n",
      "\n",
      "Top 2 features selected by mutual information:\n",
      "   Income  Gender\n",
      "0   50000       0\n",
      "1   60000       1\n",
      "2   55000       1\n",
      "3   80000       1\n",
      "4   75000       0\n"
     ]
    }
   ],
   "source": [
    "# write your code from here\n",
    "import pandas as pd\n",
    "from sklearn.feature_selection import mutual_info_classif\n",
    "from sklearn.feature_selection import SelectKBest\n",
    "\n",
    "def select_top_features_with_mi(X, y, k=2):\n",
    "    \"\"\"\n",
    "    Selects top k features based on mutual information with the target.\n",
    "    \"\"\"\n",
    "    selector = SelectKBest(score_func=mutual_info_classif, k=k)\n",
    "    X_selected = selector.fit_transform(X, y)\n",
    "    \n",
    "    # Get selected feature names\n",
    "    selected_features = X.columns[selector.get_support()]\n",
    "    \n",
    "    return pd.DataFrame(X_selected, columns=selected_features)\n",
    "\n",
    "# Example usage\n",
    "if __name__ == \"__main__\":\n",
    "    # Sample dataset\n",
    "    data = {\n",
    "        'Age': [25, 30, 22, 45, 35],\n",
    "        'Income': [50000, 60000, 55000, 80000, 75000],\n",
    "        'Gender': [0, 1, 1, 1, 0],  # Encoded: 0=Male, 1=Female\n",
    "        'Purchased': [1, 0, 1, 0, 1]  # Target variable\n",
    "    }\n",
    "\n",
    "    df = pd.DataFrame(data)\n",
    "    X = df.drop(\"Purchased\", axis=1)\n",
    "    y = df[\"Purchased\"]\n",
    "\n",
    "    print(\"Original features:\")\n",
    "    print(X)\n",
    "\n",
    "    # Select top 2 features\n",
    "    X_selected = select_top_features_with_mi(X, y, k=2)\n",
    "\n",
    "    print(\"\\nTop 2 features selected by mutual information:\")\n",
    "    print(X_selected)\n"
   ]
  }
 ],
 "metadata": {
  "kernelspec": {
   "display_name": "Python 3",
   "language": "python",
   "name": "python3"
  },
  "language_info": {
   "codemirror_mode": {
    "name": "ipython",
    "version": 3
   },
   "file_extension": ".py",
   "mimetype": "text/x-python",
   "name": "python",
   "nbconvert_exporter": "python",
   "pygments_lexer": "ipython3",
   "version": "3.10.12"
  }
 },
 "nbformat": 4,
 "nbformat_minor": 2
}
