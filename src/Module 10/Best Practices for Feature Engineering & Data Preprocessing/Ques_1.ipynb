{
 "cells": [
  {
   "cell_type": "markdown",
   "metadata": {},
   "source": [
    "### Task 1: Handling Missing Values - Simple Imputation\n",
    "**Description**: Given a dataset with missing values, impute the missing values using the mean for numerical features and the mode for categorical features."
   ]
  },
  {
   "cell_type": "code",
   "execution_count": 1,
   "metadata": {},
   "outputs": [
    {
     "name": "stdout",
     "output_type": "stream",
     "text": [
      "Before imputation:\n",
      "    Age   Income  Gender      City\n",
      "0  25.0  50000.0    Male  New York\n",
      "1  30.0      NaN    None   Chicago\n",
      "2   NaN  60000.0  Female      None\n",
      "3  22.0  55000.0  Female   Chicago\n",
      "4  28.0      NaN    Male  New York\n",
      "\n",
      "After imputation:\n",
      "     Age   Income  Gender      City\n",
      "0  25.00  50000.0    Male  New York\n",
      "1  30.00  55000.0    None   Chicago\n",
      "2  26.25  60000.0  Female      None\n",
      "3  22.00  55000.0  Female   Chicago\n",
      "4  28.00  55000.0    Male  New York\n"
     ]
    }
   ],
   "source": [
    "# write your code from here\n",
    "import pandas as pd\n",
    "from sklearn.impute import SimpleImputer\n",
    "\n",
    "def impute_missing_values(df):\n",
    "    # Separate numerical and categorical columns\n",
    "    num_cols = df.select_dtypes(include=['number']).columns\n",
    "    cat_cols = df.select_dtypes(include=['object', 'category']).columns\n",
    "\n",
    "    # Imputer for numerical columns (mean)\n",
    "    num_imputer = SimpleImputer(strategy='mean')\n",
    "    df[num_cols] = num_imputer.fit_transform(df[num_cols])\n",
    "\n",
    "    # Imputer for categorical columns (mode)\n",
    "    cat_imputer = SimpleImputer(strategy='most_frequent')\n",
    "    df[cat_cols] = cat_imputer.fit_transform(df[cat_cols])\n",
    "\n",
    "    return df\n",
    "\n",
    "# Example usage\n",
    "if __name__ == \"__main__\":\n",
    "    # Sample dataset with missing values\n",
    "    data = {\n",
    "        'Age': [25, 30, None, 22, 28],\n",
    "        'Income': [50000, None, 60000, 55000, None],\n",
    "        'Gender': ['Male', None, 'Female', 'Female', 'Male'],\n",
    "        'City': ['New York', 'Chicago', None, 'Chicago', 'New York']\n",
    "    }\n",
    "    df = pd.DataFrame(data)\n",
    "\n",
    "    print(\"Before imputation:\")\n",
    "    print(df)\n",
    "\n",
    "    df_imputed = impute_missing_values(df)\n",
    "\n",
    "    print(\"\\nAfter imputation:\")\n",
    "    print(df_imputed)\n"
   ]
  },
  {
   "cell_type": "markdown",
   "metadata": {},
   "source": [
    "### Task 2: Feature Scaling - Min-Max Normalization\n",
    "**Description**: Normalize a numerical feature using Min-Max scaling to a range [0, 1]."
   ]
  },
  {
   "cell_type": "code",
   "execution_count": 2,
   "metadata": {},
   "outputs": [
    {
     "name": "stdout",
     "output_type": "stream",
     "text": [
      "Before Min-Max normalization:\n",
      "   Age  Income\n",
      "0   25   50000\n",
      "1   30   60000\n",
      "2   22   55000\n",
      "3   45   80000\n",
      "4   35   75000\n",
      "\n",
      "After Min-Max normalization:\n",
      "        Age    Income\n",
      "0  0.130435  0.000000\n",
      "1  0.347826  0.333333\n",
      "2  0.000000  0.166667\n",
      "3  1.000000  1.000000\n",
      "4  0.565217  0.833333\n"
     ]
    }
   ],
   "source": [
    "# write your code from here\n",
    "import pandas as pd\n",
    "from sklearn.preprocessing import MinMaxScaler\n",
    "\n",
    "def min_max_normalize(df, columns):\n",
    "    scaler = MinMaxScaler()\n",
    "    df[columns] = scaler.fit_transform(df[columns])\n",
    "    return df\n",
    "\n",
    "# Example usage\n",
    "if __name__ == \"__main__\":\n",
    "    # Sample dataset\n",
    "    data = {\n",
    "        'Age': [25, 30, 22, 45, 35],\n",
    "        'Income': [50000, 60000, 55000, 80000, 75000]\n",
    "    }\n",
    "    df = pd.DataFrame(data)\n",
    "\n",
    "    print(\"Before Min-Max normalization:\")\n",
    "    print(df)\n",
    "\n",
    "    # Normalize both 'Age' and 'Income' columns\n",
    "    df_scaled = min_max_normalize(df, ['Age', 'Income'])\n",
    "\n",
    "    print(\"\\nAfter Min-Max normalization:\")\n",
    "    print(df_scaled)\n"
   ]
  },
  {
   "cell_type": "markdown",
   "metadata": {},
   "source": [
    "### Task 3: Handling Missing Values - Drop Missing Values\n",
    "**Description**: Remove rows with missing values from a dataset."
   ]
  },
  {
   "cell_type": "code",
   "execution_count": 1,
   "metadata": {},
   "outputs": [
    {
     "name": "stdout",
     "output_type": "stream",
     "text": [
      "Before dropping missing values:\n",
      "      Name   Age         City\n",
      "0    Alice  25.0     New York\n",
      "1      Bob   NaN  Los Angeles\n",
      "2  Charlie  30.0         None\n",
      "3     None  22.0      Chicago\n",
      "\n",
      "After dropping missing values:\n",
      "    Name   Age      City\n",
      "0  Alice  25.0  New York\n"
     ]
    }
   ],
   "source": [
    "# write your code from here\n",
    "import pandas as pd\n",
    "\n",
    "def drop_missing_rows(df):\n",
    "    \"\"\"\n",
    "    Removes rows with any missing values from the DataFrame.\n",
    "    \"\"\"\n",
    "    df_cleaned = df.dropna()\n",
    "    return df_cleaned\n",
    "\n",
    "# Example usage\n",
    "if __name__ == \"__main__\":\n",
    "    # Sample dataset with missing values\n",
    "    data = {\n",
    "        'Name': ['Alice', 'Bob', 'Charlie', None],\n",
    "        'Age': [25, None, 30, 22],\n",
    "        'City': ['New York', 'Los Angeles', None, 'Chicago']\n",
    "    }\n",
    "\n",
    "    df = pd.DataFrame(data)\n",
    "\n",
    "    print(\"Before dropping missing values:\")\n",
    "    print(df)\n",
    "\n",
    "    # Drop rows with any NaN values\n",
    "    df_clean = drop_missing_rows(df)\n",
    "\n",
    "    print(\"\\nAfter dropping missing values:\")\n",
    "    print(df_clean)\n"
   ]
  },
  {
   "cell_type": "markdown",
   "metadata": {},
   "source": [
    "### Task 4: Feature Scaling - Standardization\n",
    "**Description**: Standardize a numerical feature to have zero mean and unit variance."
   ]
  },
  {
   "cell_type": "code",
   "execution_count": 2,
   "metadata": {},
   "outputs": [
    {
     "name": "stdout",
     "output_type": "stream",
     "text": [
      "Before standardization:\n",
      "   Age  Income\n",
      "0   25   50000\n",
      "1   30   60000\n",
      "2   22   55000\n",
      "3   45   80000\n",
      "4   35   75000\n",
      "\n",
      "After standardization:\n",
      "        Age    Income\n",
      "0 -0.788742 -1.209416\n",
      "1 -0.172537 -0.345547\n",
      "2 -1.158465 -0.777482\n",
      "3  1.676077  1.382189\n",
      "4  0.443667  0.950255\n"
     ]
    }
   ],
   "source": [
    "# write your code from here\n",
    "import pandas as pd\n",
    "from sklearn.preprocessing import StandardScaler\n",
    "\n",
    "def standardize_numerical_features(df, columns):\n",
    "    \"\"\"\n",
    "    Standardizes the specified numerical columns to have zero mean and unit variance.\n",
    "    \"\"\"\n",
    "    scaler = StandardScaler()\n",
    "    df[columns] = scaler.fit_transform(df[columns])\n",
    "    return df\n",
    "\n",
    "# Example usage\n",
    "if __name__ == \"__main__\":\n",
    "    # Sample dataset\n",
    "    data = {\n",
    "        'Age': [25, 30, 22, 45, 35],\n",
    "        'Income': [50000, 60000, 55000, 80000, 75000]\n",
    "    }\n",
    "    df = pd.DataFrame(data)\n",
    "\n",
    "    print(\"Before standardization:\")\n",
    "    print(df)\n",
    "\n",
    "    # Apply standardization\n",
    "    df_standardized = standardize_numerical_features(df, ['Age', 'Income'])\n",
    "\n",
    "    print(\"\\nAfter standardization:\")\n",
    "    print(df_standardized)\n"
   ]
  }
 ],
 "metadata": {
  "kernelspec": {
   "display_name": "Python 3",
   "language": "python",
   "name": "python3"
  },
  "language_info": {
   "codemirror_mode": {
    "name": "ipython",
    "version": 3
   },
   "file_extension": ".py",
   "mimetype": "text/x-python",
   "name": "python",
   "nbconvert_exporter": "python",
   "pygments_lexer": "ipython3",
   "version": "3.10.12"
  }
 },
 "nbformat": 4,
 "nbformat_minor": 2
}
