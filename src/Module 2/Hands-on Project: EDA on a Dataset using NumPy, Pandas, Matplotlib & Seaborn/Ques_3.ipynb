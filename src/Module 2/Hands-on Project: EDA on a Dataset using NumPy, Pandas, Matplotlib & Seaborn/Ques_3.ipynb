{
 "cells": [
  {
   "cell_type": "code",
   "execution_count": 1,
   "metadata": {},
   "outputs": [
    {
     "name": "stdout",
     "output_type": "stream",
     "text": [
      "   petal_length  petal_width  petal_ratio\n",
      "0           1.4          0.2          7.0\n",
      "1           1.4          0.2          7.0\n",
      "2           1.3          0.2          6.5\n",
      "3           1.5          0.2          7.5\n",
      "4           1.4          0.2          7.0\n"
     ]
    }
   ],
   "source": [
    "# Title: Data Manipulation with Pandas\n",
    "# Description: Add a new column that calculates the ratio of petal length to petal width.\n",
    "\n",
    "import seaborn as sns\n",
    "import pandas as pd\n",
    "\n",
    "# Load the iris dataset\n",
    "iris = sns.load_dataset('iris')\n",
    "\n",
    "# Add a new column 'petal_ratio' = petal_length / petal_width\n",
    "iris['petal_ratio'] = iris['petal_length'] / iris['petal_width']\n",
    "\n",
    "# Display the first 5 rows to verify\n",
    "print(iris[['petal_length', 'petal_width', 'petal_ratio']].head())\n"
   ]
  }
 ],
 "metadata": {
  "kernelspec": {
   "display_name": "Python 3",
   "language": "python",
   "name": "python3"
  },
  "language_info": {
   "codemirror_mode": {
    "name": "ipython",
    "version": 3
   },
   "file_extension": ".py",
   "mimetype": "text/x-python",
   "name": "python",
   "nbconvert_exporter": "python",
   "pygments_lexer": "ipython3",
   "version": "3.10.12"
  }
 },
 "nbformat": 4,
 "nbformat_minor": 2
}
