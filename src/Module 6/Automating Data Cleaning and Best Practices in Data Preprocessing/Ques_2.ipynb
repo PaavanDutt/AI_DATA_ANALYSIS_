{
 "cells": [
  {
   "cell_type": "markdown",
   "metadata": {},
   "source": [
    "    Task: Complete Pipeline for a Dataset\n",
    "1. Objective: Build a complex pipeline with multiple transformations.\n",
    "2. Steps:\n",
    "    - Load a sample dataset.\n",
    "    - Define a transformation pipeline with both imputation and scaling."
   ]
  },
  {
   "cell_type": "code",
   "execution_count": 8,
   "metadata": {},
   "outputs": [
    {
     "name": "stdout",
     "output_type": "stream",
     "text": [
      "Original data with missing values (first 5 rows):\n",
      "   sepal_length  sepal_width  petal_length  petal_width\n",
      "0           5.1          3.5           1.4          0.2\n",
      "1           4.9          3.0           NaN          0.2\n",
      "2           4.7          3.2           NaN          0.2\n",
      "3           4.6          3.1           1.5          0.2\n",
      "4           5.0          3.6           1.4          0.2\n",
      "\n",
      "Transformed data after imputation and scaling (first 5 rows):\n",
      "[[-1.02472346  1.08451012 -1.43456995 -1.32386852]\n",
      " [-1.29195113 -0.10968944  0.         -1.32386852]\n",
      " [-1.55917881  0.36799038  0.         -1.32386852]\n",
      " [-1.69279265  0.12915047 -1.37322779 -1.32386852]\n",
      " [-1.1583373   1.32335003 -1.43456995 -1.32386852]]\n"
     ]
    }
   ],
   "source": [
    "import pandas as pd\n",
    "import numpy as np\n",
    "from sklearn.pipeline import Pipeline\n",
    "from sklearn.impute import SimpleImputer\n",
    "from sklearn.preprocessing import StandardScaler\n",
    "\n",
    "# Step 1: Load a sample dataset (Iris) and introduce missing values\n",
    "url = \"https://archive.ics.uci.edu/ml/machine-learning-databases/iris/iris.data\"\n",
    "columns = ['sepal_length', 'sepal_width', 'petal_length', 'petal_width', 'class']\n",
    "df = pd.read_csv(url, header=None, names=columns)\n",
    "\n",
    "# Introduce missing values for demonstration\n",
    "np.random.seed(42)\n",
    "mask = np.random.rand(*df.iloc[:, :-1].shape) < 0.1  # 10% missingness\n",
    "df.loc[:, df.columns != 'class'] = df.loc[:, df.columns != 'class'].mask(mask)\n",
    "\n",
    "X = df.drop(columns=['class'])  # features only\n",
    "\n",
    "# Step 2: Define a pipeline with imputation + scaling\n",
    "pipeline = Pipeline([\n",
    "    ('imputer', SimpleImputer(strategy='mean')),  # fill missing numeric values with mean\n",
    "    ('scaler', StandardScaler())                   # standardize features\n",
    "])\n",
    "\n",
    "# Step 3: Fit pipeline and transform data\n",
    "X_transformed = pipeline.fit_transform(X)\n",
    "\n",
    "print(\"Original data with missing values (first 5 rows):\")\n",
    "print(X.head())\n",
    "print(\"\\nTransformed data after imputation and scaling (first 5 rows):\")\n",
    "print(X_transformed[:5])\n"
   ]
  },
  {
   "cell_type": "code",
   "execution_count": 11,
   "metadata": {},
   "outputs": [],
   "source": [
    "import numpy as np\n",
    "import pandas as pd\n",
    "from sklearn.impute import SimpleImputer\n",
    "from sklearn.preprocessing import StandardScaler\n",
    "\n",
    "\n",
    "# Imputation Function\n",
    "def impute_data(X, strategy='mean'):\n",
    "    \"\"\"\n",
    "    Imputes missing values in X using SimpleImputer.\n",
    "    \n",
    "    Parameters:\n",
    "    - X: pd.DataFrame or np.ndarray with missing values\n",
    "    - strategy: str, imputation strategy ('mean', 'median', 'most_frequent', 'constant')\n",
    "    \n",
    "    Returns:\n",
    "    - np.ndarray: imputed data\n",
    "    \"\"\"\n",
    "    imputer = SimpleImputer(strategy=strategy)\n",
    "    return imputer.fit_transform(X)\n",
    "\n",
    "\n",
    "# Scaling Function\n",
    "def scale_data(X):\n",
    "    \"\"\"\n",
    "    Scales numerical data using StandardScaler.\n",
    "    \n",
    "    Parameters:\n",
    "    - X: np.ndarray or pd.DataFrame with numerical features\n",
    "    \n",
    "    Returns:\n",
    "    - np.ndarray: scaled data\n",
    "    \"\"\"\n",
    "    scaler = StandardScaler()\n",
    "    return scaler.fit_transform(X)\n",
    "\n",
    "\n",
    "# Combined Transformation Function\n",
    "def impute_and_scale(X, impute_strategy='mean'):\n",
    "    \"\"\"\n",
    "    Performs imputation followed by scaling on dataset X.\n",
    "    \n",
    "    Parameters:\n",
    "    - X: pd.DataFrame or np.ndarray with numerical features and missing values\n",
    "    - impute_strategy: str, strategy for imputation\n",
    "    \n",
    "    Returns:\n",
    "    - np.ndarray: transformed data after imputation and scaling\n",
    "    \"\"\"\n",
    "    X_imputed = impute_data(X, strategy=impute_strategy)\n",
    "    X_scaled = scale_data(X_imputed)\n",
    "    return X_scaled\n"
   ]
  }
 ],
 "metadata": {
  "kernelspec": {
   "display_name": "Python 3",
   "language": "python",
   "name": "python3"
  },
  "language_info": {
   "codemirror_mode": {
    "name": "ipython",
    "version": 3
   },
   "file_extension": ".py",
   "mimetype": "text/x-python",
   "name": "python",
   "nbconvert_exporter": "python",
   "pygments_lexer": "ipython3",
   "version": "3.10.12"
  }
 },
 "nbformat": 4,
 "nbformat_minor": 2
}
