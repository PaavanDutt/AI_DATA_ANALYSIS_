{
 "cells": [
  {
   "cell_type": "markdown",
   "metadata": {},
   "source": [
    "    Task: Complete Pipeline for a Dataset\n",
    "1. Objective: Build a complex pipeline with multiple transformations.\n",
    "2. Steps:\n",
    "    - Load a sample dataset.\n",
    "    - Define a transformation pipeline with both imputation and scaling."
   ]
  },
  {
   "cell_type": "code",
   "execution_count": 1,
   "metadata": {},
   "outputs": [
    {
     "name": "stdout",
     "output_type": "stream",
     "text": [
      "Original data:\n",
      "    age   salary\n",
      "0  25.0  50000.0\n",
      "1   NaN  60000.0\n",
      "2  22.0      NaN\n",
      "3  40.0  80000.0\n",
      "4   NaN  70000.0\n",
      "\n",
      "Data after imputation and scaling:\n",
      "[[-0.65582584 -1.5       ]\n",
      " [ 0.         -0.5       ]\n",
      " [-1.14769521  0.        ]\n",
      " [ 1.80352105  1.5       ]\n",
      " [ 0.          0.5       ]]\n"
     ]
    }
   ],
   "source": [
    "# Write your code from here\n",
    "import pandas as pd\n",
    "import numpy as np\n",
    "from sklearn.pipeline import Pipeline\n",
    "from sklearn.impute import SimpleImputer\n",
    "from sklearn.preprocessing import StandardScaler\n",
    "\n",
    "# Step 1: Create a sample dataset with missing values\n",
    "data = {\n",
    "    'age': [25, np.nan, 22, 40, np.nan],\n",
    "    'salary': [50000, 60000, np.nan, 80000, 70000]\n",
    "}\n",
    "df = pd.DataFrame(data)\n",
    "\n",
    "# Features matrix\n",
    "X = df\n",
    "\n",
    "# Step 2: Define a pipeline with imputation and scaling\n",
    "pipeline = Pipeline([\n",
    "    ('imputer', SimpleImputer(strategy='mean')),   # Fill missing values with mean\n",
    "    ('scaler', StandardScaler())                    # Scale features to zero mean and unit variance\n",
    "])\n",
    "\n",
    "# Step 3: Fit the pipeline and transform the data\n",
    "X_transformed = pipeline.fit_transform(X)\n",
    "\n",
    "print(\"Original data:\")\n",
    "print(X)\n",
    "print(\"\\nData after imputation and scaling:\")\n",
    "print(X_transformed)\n",
    "\n"
   ]
  },
  {
   "cell_type": "code",
   "execution_count": 2,
   "metadata": {},
   "outputs": [],
   "source": [
    "import numpy as np\n",
    "import pandas as pd\n",
    "from sklearn.impute import SimpleImputer\n",
    "from sklearn.preprocessing import StandardScaler\n",
    "\n",
    "# Imputation Function\n",
    "def impute_data(X, strategy='mean'):\n",
    "    \"\"\"\n",
    "    Imputes missing values in the dataset X using SimpleImputer.\n",
    "    \n",
    "    Parameters:\n",
    "    - X: pd.DataFrame or np.ndarray with missing values.\n",
    "    - strategy: str, imputation strategy ('mean', 'median', 'most_frequent', or 'constant').\n",
    "    \n",
    "    Returns:\n",
    "    - np.ndarray: imputed data.\n",
    "    \"\"\"\n",
    "    imputer = SimpleImputer(strategy=strategy)\n",
    "    X_imputed = imputer.fit_transform(X)\n",
    "    return X_imputed\n",
    "\n",
    "# Scaling Function\n",
    "def scale_data(X):\n",
    "    \"\"\"\n",
    "    Scales features in the dataset X using StandardScaler.\n",
    "    \n",
    "    Parameters:\n",
    "    - X: np.ndarray or pd.DataFrame of numerical data.\n",
    "    \n",
    "    Returns:\n",
    "    - np.ndarray: scaled data.\n",
    "    \"\"\"\n",
    "    scaler = StandardScaler()\n",
    "    X_scaled = scaler.fit_transform(X)\n",
    "    return X_scaled\n",
    "\n",
    "# Combined Transformation Function\n",
    "def impute_and_scale(X, impute_strategy='mean'):\n",
    "    \"\"\"\n",
    "    Imputes missing values and scales the dataset X.\n",
    "    \n",
    "    Parameters:\n",
    "    - X: pd.DataFrame or np.ndarray with numerical features.\n",
    "    - impute_strategy: str, imputation strategy passed to SimpleImputer.\n",
    "    \n",
    "    Returns:\n",
    "    - np.ndarray: transformed data after imputation and scaling.\n",
    "    \"\"\"\n",
    "    # Step 1: Impute missing values\n",
    "    X_imputed = impute_data(X, strategy=impute_strategy)\n",
    "    \n",
    "    # Step 2: Scale the imputed data\n",
    "    X_transformed = scale_data(X_imputed)\n",
    "    \n",
    "    return X_transformed\n"
   ]
  },
  {
   "cell_type": "code",
   "execution_count": 4,
   "metadata": {},
   "outputs": [
    {
     "name": "stdout",
     "output_type": "stream",
     "text": [
      "[[-0.65582584 -1.5       ]\n",
      " [ 0.         -0.5       ]\n",
      " [-1.14769521  0.        ]\n",
      " [ 1.80352105  1.5       ]\n",
      " [ 0.          0.5       ]]\n"
     ]
    }
   ],
   "source": [
    "import pandas as pd\n",
    "import numpy as np\n",
    "\n",
    "data = {\n",
    "    'age': [25, np.nan, 22, 40, np.nan],\n",
    "    'salary': [50000, 60000, np.nan, 80000, 70000]\n",
    "}\n",
    "df = pd.DataFrame(data)\n",
    "\n",
    "result = impute_and_scale(df, impute_strategy='mean')\n",
    "print(result)\n"
   ]
  }
 ],
 "metadata": {
  "kernelspec": {
   "display_name": "Python 3",
   "language": "python",
   "name": "python3"
  },
  "language_info": {
   "codemirror_mode": {
    "name": "ipython",
    "version": 3
   },
   "file_extension": ".py",
   "mimetype": "text/x-python",
   "name": "python",
   "nbconvert_exporter": "python",
   "pygments_lexer": "ipython3",
   "version": "3.10.12"
  }
 },
 "nbformat": 4,
 "nbformat_minor": 2
}
