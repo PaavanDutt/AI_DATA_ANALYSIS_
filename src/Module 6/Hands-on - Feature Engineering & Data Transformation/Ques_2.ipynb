{
 "cells": [
  {
   "cell_type": "code",
   "execution_count": null,
   "metadata": {},
   "outputs": [],
   "source": [
    "# Feature Scaling & Encoding\n",
    "\n",
    "# Objective: Learn to scale numerical features and encode categorical features for better model performance.\n",
    "# Instructions:\n",
    "# For each example, perform the following steps:\n",
    "#     1. Load the Dataset: Load the dataset into your environment.\n",
    "#     2. Feature Scaling: Apply scaling methods (StandardScaler or MinMaxScaler) to specified numerical columns.\n",
    "#     3. Feature Encoding: Apply encoding methods (One-Hot Encoding or Label Encoding) to specified categorical columns.\n",
    "#     4. Verify Changes: Check the data to ensure proper scaling and encoding. \n",
    "\n",
    "\n",
    "# Task:\n",
    "#     Dataset: customer_data.csv (get it by your own it includes the columns of Age , Annual_Income)\n",
    "#     Columns to scale: Age , Annual_Income\n",
    "#     Column to encode: Region\n",
    "#     Steps:\n",
    "#         1. Load customer_data.csv .\n",
    "#         2. Use MinMaxScaler on Age and Annual_Income .\n",
    "#         3. Perform One-Hot Encoding on Region .\n",
    "#         4. Verify by assessing the transformed dataset.\n",
    "\n",
    "\n",
    "\n",
    "    \n",
    "    \n",
    "    "
   ]
  },
  {
   "cell_type": "code",
   "execution_count": 1,
   "metadata": {},
   "outputs": [
    {
     "name": "stdout",
     "output_type": "stream",
     "text": [
      "Dataset 'customer_data.csv' created successfully.\n"
     ]
    }
   ],
   "source": [
    "import pandas as pd\n",
    "\n",
    "# Create sample data\n",
    "data = {\n",
    "    'Customer_ID': ['C001', 'C002', 'C003', 'C004', 'C005', \n",
    "                    'C006', 'C007', 'C008', 'C009', 'C010'],\n",
    "    'Age': [25, 32, 47, 51, 38, 29, 45, 36, 52, 41],\n",
    "    'Annual_Income': [40000, 52000, 75000, 61000, 48000, \n",
    "                      58000, 69000, 57000, 82000, 49000],\n",
    "    'Region': ['North', 'South', 'East', 'West', 'North',\n",
    "               'East', 'South', 'West', 'North', 'South']\n",
    "}\n",
    "\n",
    "# Convert to DataFrame\n",
    "df = pd.DataFrame(data)\n",
    "\n",
    "# Save as CSV\n",
    "df.to_csv('customer_data.csv', index=False)\n",
    "\n",
    "print(\"Dataset 'customer_data.csv' created successfully.\")\n"
   ]
  },
  {
   "cell_type": "code",
   "execution_count": 2,
   "metadata": {},
   "outputs": [
    {
     "name": "stdout",
     "output_type": "stream",
     "text": [
      "  Customer_ID       Age  Annual_Income  Region_East  Region_North  \\\n",
      "0        C001  0.000000       0.000000        False          True   \n",
      "1        C002  0.259259       0.285714        False         False   \n",
      "2        C003  0.814815       0.833333         True         False   \n",
      "3        C004  0.962963       0.500000        False         False   \n",
      "4        C005  0.481481       0.190476        False          True   \n",
      "\n",
      "   Region_South  Region_West  \n",
      "0         False        False  \n",
      "1          True        False  \n",
      "2         False        False  \n",
      "3         False         True  \n",
      "4         False        False  \n"
     ]
    }
   ],
   "source": [
    "import pandas as pd\n",
    "from sklearn.preprocessing import MinMaxScaler, OneHotEncoder\n",
    "\n",
    "# Step 1: Load the dataset\n",
    "df = pd.read_csv('customer_data.csv')\n",
    "\n",
    "# Step 2: Apply MinMaxScaler on 'Age' and 'Annual_Income'\n",
    "scaler = MinMaxScaler()\n",
    "df[['Age', 'Annual_Income']] = scaler.fit_transform(df[['Age', 'Annual_Income']])\n",
    "\n",
    "# Step 3: Perform One-Hot Encoding on 'Region'\n",
    "df_encoded = pd.get_dummies(df, columns=['Region'])\n",
    "\n",
    "# Step 4: Verify the transformed dataset\n",
    "print(df_encoded.head())\n"
   ]
  }
 ],
 "metadata": {
  "kernelspec": {
   "display_name": "Python 3",
   "language": "python",
   "name": "python3"
  },
  "language_info": {
   "codemirror_mode": {
    "name": "ipython",
    "version": 3
   },
   "file_extension": ".py",
   "mimetype": "text/x-python",
   "name": "python",
   "nbconvert_exporter": "python",
   "pygments_lexer": "ipython3",
   "version": "3.10.12"
  }
 },
 "nbformat": 4,
 "nbformat_minor": 2
}
