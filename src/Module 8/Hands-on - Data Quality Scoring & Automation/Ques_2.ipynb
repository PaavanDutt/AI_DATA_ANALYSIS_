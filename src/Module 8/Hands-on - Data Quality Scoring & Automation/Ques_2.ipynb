{
 "cells": [
  {
   "cell_type": "markdown",
   "metadata": {},
   "source": [
    "## Calculate Data Quality Score\n",
    "**Introduction**: In this activity, you will calculate data quality scores for datasets using different metrics. You will explore examples where you assess completeness, accuracy, and consistency.\n",
    "\n",
    "### Task 1: Completeness Score\n",
    "1. Objective: Determine the percentage of non-missing values in a dataset.\n",
    "2. Steps:\n",
    "    - Load a sample dataset using Pandas.\n",
    "    - Identify the columns with missing values.\n",
    "    - Calculate the completeness score as the ratio of non-missing values to total values.\n",
    "    - E.g., a dataset with customer information."
   ]
  },
  {
   "cell_type": "code",
   "execution_count": 1,
   "metadata": {},
   "outputs": [
    {
     "name": "stdout",
     "output_type": "stream",
     "text": [
      "📄 Sample Data:\n",
      "    CustomerID     Name                Email         Phone\n",
      "0           1    Alice    alice@example.com  123-456-7890\n",
      "1           2      Bob                 None  987-654-3210\n",
      "2           3  Charlie  charlie@example.com          None\n",
      "3           4     None     dave@example.com          None\n",
      "4           5      Eve                 None  456-789-0123\n",
      "\n",
      "🔍 Missing Values Per Column:\n",
      " CustomerID    0\n",
      "Name          1\n",
      "Email         2\n",
      "Phone         2\n",
      "dtype: int64\n",
      "\n",
      "✅ Overall Completeness Score: 75.00%\n",
      "\n",
      "📊 Completeness Per Column (%):\n",
      " CustomerID    100.0\n",
      "Name           80.0\n",
      "Email          60.0\n",
      "Phone          60.0\n",
      "dtype: float64\n"
     ]
    }
   ],
   "source": [
    "import pandas as pd\n",
    "\n",
    "# Sample customer dataset\n",
    "data = {\n",
    "    'CustomerID': [1, 2, 3, 4, 5],\n",
    "    'Name': ['Alice', 'Bob', 'Charlie', None, 'Eve'],\n",
    "    'Email': ['alice@example.com', None, 'charlie@example.com', 'dave@example.com', None],\n",
    "    'Phone': ['123-456-7890', '987-654-3210', None, None, '456-789-0123']\n",
    "}\n",
    "\n",
    "# Load data into a DataFrame\n",
    "df = pd.DataFrame(data)\n",
    "\n",
    "# Calculate total and non-missing values\n",
    "total_values = df.size\n",
    "non_missing_values = df.count().sum()\n",
    "\n",
    "# Calculate overall completeness score\n",
    "completeness_score = (non_missing_values / total_values) * 100\n",
    "\n",
    "# Calculate per-column completeness (optional)\n",
    "column_completeness = df.notnull().mean() * 100\n",
    "\n",
    "# Display results\n",
    "print(\"📄 Sample Data:\\n\", df)\n",
    "print(\"\\n🔍 Missing Values Per Column:\\n\", df.isnull().sum())\n",
    "print(f\"\\n✅ Overall Completeness Score: {completeness_score:.2f}%\")\n",
    "print(\"\\n📊 Completeness Per Column (%):\\n\", column_completeness)\n"
   ]
  },
  {
   "cell_type": "markdown",
   "metadata": {},
   "source": [
    "### Task 2: Accuracy Score\n",
    "\n",
    "1. Objective: Measure the accuracy of a dataset by comparing it against a reference dataset.\n",
    "2. Steps:\n",
    "    - Load the main dataset and a reference dataset.\n",
    "    - Select key columns for accuracy check.\n",
    "    - Match values from both datasets and calculate the accuracy percentage.\n",
    "    - E.g., along existing dataset with sales information."
   ]
  },
  {
   "cell_type": "code",
   "execution_count": 1,
   "metadata": {},
   "outputs": [
    {
     "name": "stdout",
     "output_type": "stream",
     "text": [
      "📄 Merged Dataset for Accuracy Check:\n",
      "    TransactionID Product_main  Amount_main Product_ref  Amount_ref\n",
      "0            101       Laptop         1200      Laptop        1200\n",
      "1            102        Mouse           25       Mouse          25\n",
      "2            103     Keyboard           45    Keyboard          45\n",
      "3            104      Monitor          300     Monitor         310\n",
      "4            105      Headset           80     Speaker          80\n",
      "\n",
      "✅ Accuracy Score: 80.00%\n"
     ]
    }
   ],
   "source": [
    "# Write your code from here\n",
    "import pandas as pd\n",
    "\n",
    "# Main dataset (e.g., collected sales records)\n",
    "main_data = {\n",
    "    'TransactionID': [101, 102, 103, 104, 105],\n",
    "    'Product': ['Laptop', 'Mouse', 'Keyboard', 'Monitor', 'Headset'],\n",
    "    'Amount': [1200, 25, 45, 300, 80]\n",
    "}\n",
    "\n",
    "# Reference dataset (e.g., trusted system of record)\n",
    "reference_data = {\n",
    "    'TransactionID': [101, 102, 103, 104, 105],\n",
    "    'Product': ['Laptop', 'Mouse', 'Keyboard', 'Monitor', 'Speaker'],  # Note: 'Headset' vs 'Speaker'\n",
    "    'Amount': [1200, 25, 45, 310, 80]  # Note: '300' vs '310'\n",
    "}\n",
    "\n",
    "# Load both into DataFrames\n",
    "df_main = pd.DataFrame(main_data)\n",
    "df_ref = pd.DataFrame(reference_data)\n",
    "\n",
    "# Merge datasets on TransactionID\n",
    "df_merged = pd.merge(df_main, df_ref, on='TransactionID', suffixes=('_main', '_ref'))\n",
    "\n",
    "# Columns to check for accuracy\n",
    "columns_to_check = ['Product', 'Amount']\n",
    "\n",
    "# Count matches\n",
    "total_checks = len(df_merged) * len(columns_to_check)\n",
    "match_count = 0\n",
    "\n",
    "for col in columns_to_check:\n",
    "    match_count += (df_merged[f\"{col}_main\"] == df_merged[f\"{col}_ref\"]).sum()\n",
    "\n",
    "# Calculate accuracy score\n",
    "accuracy_score = (match_count / total_checks) * 100\n",
    "\n",
    "# Show results\n",
    "print(\"📄 Merged Dataset for Accuracy Check:\\n\", df_merged)\n",
    "print(f\"\\n✅ Accuracy Score: {accuracy_score:.2f}%\")\n"
   ]
  },
  {
   "cell_type": "markdown",
   "metadata": {},
   "source": [
    "### Task 3: Consistency Score\n",
    "\n",
    "1. Objective: Evaluate the consistency within a dataset for specific columns.\n",
    "2. Steps:\n",
    "    - Choose a column expected to have consistent values.\n",
    "    - Use statistical or rule-based checks to identify inconsistencies.\n",
    "    - Calculate the consistency score by the ratio of consistent to total entries.\n",
    "    - E.g., validating phone number formats in a contact list."
   ]
  },
  {
   "cell_type": "code",
   "execution_count": 3,
   "metadata": {},
   "outputs": [
    {
     "name": "stdout",
     "output_type": "stream",
     "text": [
      "📄 Dataset with Consistency Check:\n",
      "    CustomerID     Name           Phone  Phone_Consistent\n",
      "0           1    Alice    123-456-7890              True\n",
      "1           2      Bob  (987) 654-3210              True\n",
      "2           3  Charlie      4567890123             False\n",
      "3           4    David        123-4567             False\n",
      "4           5      Eve    987-654-3210              True\n",
      "\n",
      "✅ Consistency Score: 60.00%\n"
     ]
    }
   ],
   "source": [
    "# Write your code from here\n",
    "import pandas as pd\n",
    "import re\n",
    "\n",
    "# Sample dataset with phone numbers\n",
    "data = {\n",
    "    'CustomerID': [1, 2, 3, 4, 5],\n",
    "    'Name': ['Alice', 'Bob', 'Charlie', 'David', 'Eve'],\n",
    "    'Phone': ['123-456-7890', '(987) 654-3210', '4567890123', '123-4567', '987-654-3210']\n",
    "}\n",
    "\n",
    "# Load into DataFrame\n",
    "df = pd.DataFrame(data)\n",
    "\n",
    "# Define regex pattern for valid phone format: e.g., XXX-XXX-XXXX or (XXX) XXX-XXXX\n",
    "pattern = re.compile(r'^(\\(\\d{3}\\)\\s?\\d{3}-\\d{4}|\\d{3}-\\d{3}-\\d{4})$')\n",
    "\n",
    "# Check consistency using the pattern\n",
    "df['Phone_Consistent'] = df['Phone'].apply(lambda x: bool(pattern.match(str(x))))\n",
    "\n",
    "# Calculate consistency score\n",
    "total_entries = df.shape[0]\n",
    "consistent_entries = df['Phone_Consistent'].sum()\n",
    "consistency_score = (consistent_entries / total_entries) * 100\n",
    "\n",
    "# Show results\n",
    "print(\"📄 Dataset with Consistency Check:\\n\", df)\n",
    "print(f\"\\n✅ Consistency Score: {consistency_score:.2f}%\")\n",
    "\n"
   ]
  }
 ],
 "metadata": {
  "kernelspec": {
   "display_name": "Python 3",
   "language": "python",
   "name": "python3"
  },
  "language_info": {
   "codemirror_mode": {
    "name": "ipython",
    "version": 3
   },
   "file_extension": ".py",
   "mimetype": "text/x-python",
   "name": "python",
   "nbconvert_exporter": "python",
   "pygments_lexer": "ipython3",
   "version": "3.10.12"
  }
 },
 "nbformat": 4,
 "nbformat_minor": 2
}
