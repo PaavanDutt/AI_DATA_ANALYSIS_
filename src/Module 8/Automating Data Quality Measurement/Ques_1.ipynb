{
 "cells": [
  {
   "cell_type": "markdown",
   "metadata": {},
   "source": [
    "### Task 1: Basic Data Profiling of a CSV File\n",
    "**Description**: Load a CSV file and generate a Pandas-Profiling report.\n",
    "\n",
    "**Steps**:\n",
    "1. Load a CSV File: Make sure you have a CSV file (e.g., data.csv ). Load it using pandas.\n",
    "2. Generate a Profile Report."
   ]
  },
  {
   "cell_type": "code",
   "execution_count": 12,
   "metadata": {},
   "outputs": [
    {
     "name": "stdout",
     "output_type": "stream",
     "text": [
      "Defaulting to user installation because normal site-packages is not writeable\n",
      "Requirement already satisfied: pandas in /home/vscode/.local/lib/python3.10/site-packages (2.1.4)\n",
      "Requirement already satisfied: pandas-profiling in /home/vscode/.local/lib/python3.10/site-packages (3.6.6)\n",
      "Requirement already satisfied: pytz>=2020.1 in /home/vscode/.local/lib/python3.10/site-packages (from pandas) (2025.2)\n",
      "Requirement already satisfied: python-dateutil>=2.8.2 in /home/vscode/.local/lib/python3.10/site-packages (from pandas) (2.9.0.post0)\n",
      "Requirement already satisfied: tzdata>=2022.1 in /home/vscode/.local/lib/python3.10/site-packages (from pandas) (2025.2)\n",
      "Requirement already satisfied: numpy<2,>=1.22.4 in /home/vscode/.local/lib/python3.10/site-packages (from pandas) (1.26.4)\n",
      "Requirement already satisfied: ydata-profiling in /home/vscode/.local/lib/python3.10/site-packages (from pandas-profiling) (4.16.1)\n",
      "Requirement already satisfied: six>=1.5 in /home/vscode/.local/lib/python3.10/site-packages (from python-dateutil>=2.8.2->pandas) (1.17.0)\n",
      "Requirement already satisfied: tqdm<5,>=4.48.2 in /home/vscode/.local/lib/python3.10/site-packages (from ydata-profiling->pandas-profiling) (4.67.1)\n",
      "Requirement already satisfied: multimethod<2,>=1.4 in /home/vscode/.local/lib/python3.10/site-packages (from ydata-profiling->pandas-profiling) (1.12)\n",
      "Requirement already satisfied: visions[type_image_path]<0.8.2,>=0.7.5 in /home/vscode/.local/lib/python3.10/site-packages (from ydata-profiling->pandas-profiling) (0.8.1)\n",
      "Requirement already satisfied: PyYAML<6.1,>=5.0.0 in /home/vscode/.local/lib/python3.10/site-packages (from ydata-profiling->pandas-profiling) (6.0.2)\n",
      "Requirement already satisfied: htmlmin==0.1.12 in /home/vscode/.local/lib/python3.10/site-packages (from ydata-profiling->pandas-profiling) (0.1.12)\n",
      "Requirement already satisfied: wordcloud>=1.9.3 in /home/vscode/.local/lib/python3.10/site-packages (from ydata-profiling->pandas-profiling) (1.9.4)\n",
      "Requirement already satisfied: dacite>=1.8 in /home/vscode/.local/lib/python3.10/site-packages (from ydata-profiling->pandas-profiling) (1.9.2)\n",
      "Requirement already satisfied: statsmodels<1,>=0.13.2 in /home/vscode/.local/lib/python3.10/site-packages (from ydata-profiling->pandas-profiling) (0.14.4)\n",
      "Requirement already satisfied: jinja2<3.2,>=2.11.1 in /home/vscode/.local/lib/python3.10/site-packages (from ydata-profiling->pandas-profiling) (3.1.6)\n",
      "Requirement already satisfied: pydantic>=2 in /home/vscode/.local/lib/python3.10/site-packages (from ydata-profiling->pandas-profiling) (2.11.5)\n",
      "Requirement already satisfied: imagehash==4.3.1 in /home/vscode/.local/lib/python3.10/site-packages (from ydata-profiling->pandas-profiling) (4.3.1)\n",
      "Requirement already satisfied: typeguard<5,>=3 in /home/vscode/.local/lib/python3.10/site-packages (from ydata-profiling->pandas-profiling) (4.4.2)\n",
      "Requirement already satisfied: numba<=0.61,>=0.56.0 in /home/vscode/.local/lib/python3.10/site-packages (from ydata-profiling->pandas-profiling) (0.61.0)\n",
      "Requirement already satisfied: phik<0.13,>=0.11.1 in /home/vscode/.local/lib/python3.10/site-packages (from ydata-profiling->pandas-profiling) (0.12.4)\n",
      "Requirement already satisfied: matplotlib<=3.10,>=3.5 in /home/vscode/.local/lib/python3.10/site-packages (from ydata-profiling->pandas-profiling) (3.10.0)\n",
      "Requirement already satisfied: scipy<1.16,>=1.4.1 in /home/vscode/.local/lib/python3.10/site-packages (from ydata-profiling->pandas-profiling) (1.15.3)\n",
      "Requirement already satisfied: requests<3,>=2.24.0 in /home/vscode/.local/lib/python3.10/site-packages (from ydata-profiling->pandas-profiling) (2.32.3)\n",
      "Requirement already satisfied: seaborn<0.14,>=0.10.1 in /home/vscode/.local/lib/python3.10/site-packages (from ydata-profiling->pandas-profiling) (0.13.2)\n",
      "Requirement already satisfied: pillow in /home/vscode/.local/lib/python3.10/site-packages (from imagehash==4.3.1->ydata-profiling->pandas-profiling) (11.2.1)\n",
      "Requirement already satisfied: PyWavelets in /home/vscode/.local/lib/python3.10/site-packages (from imagehash==4.3.1->ydata-profiling->pandas-profiling) (1.8.0)\n",
      "Requirement already satisfied: MarkupSafe>=2.0 in /home/vscode/.local/lib/python3.10/site-packages (from jinja2<3.2,>=2.11.1->ydata-profiling->pandas-profiling) (3.0.2)\n",
      "Requirement already satisfied: cycler>=0.10 in /home/vscode/.local/lib/python3.10/site-packages (from matplotlib<=3.10,>=3.5->ydata-profiling->pandas-profiling) (0.12.1)\n",
      "Requirement already satisfied: pyparsing>=2.3.1 in /home/vscode/.local/lib/python3.10/site-packages (from matplotlib<=3.10,>=3.5->ydata-profiling->pandas-profiling) (3.2.3)\n",
      "Requirement already satisfied: contourpy>=1.0.1 in /home/vscode/.local/lib/python3.10/site-packages (from matplotlib<=3.10,>=3.5->ydata-profiling->pandas-profiling) (1.3.2)\n",
      "Requirement already satisfied: packaging>=20.0 in /home/vscode/.local/lib/python3.10/site-packages (from matplotlib<=3.10,>=3.5->ydata-profiling->pandas-profiling) (24.2)\n",
      "Requirement already satisfied: kiwisolver>=1.3.1 in /home/vscode/.local/lib/python3.10/site-packages (from matplotlib<=3.10,>=3.5->ydata-profiling->pandas-profiling) (1.4.8)\n",
      "Requirement already satisfied: fonttools>=4.22.0 in /home/vscode/.local/lib/python3.10/site-packages (from matplotlib<=3.10,>=3.5->ydata-profiling->pandas-profiling) (4.58.0)\n",
      "Requirement already satisfied: llvmlite<0.45,>=0.44.0dev0 in /home/vscode/.local/lib/python3.10/site-packages (from numba<=0.61,>=0.56.0->ydata-profiling->pandas-profiling) (0.44.0)\n",
      "Requirement already satisfied: joblib>=0.14.1 in /home/vscode/.local/lib/python3.10/site-packages (from phik<0.13,>=0.11.1->ydata-profiling->pandas-profiling) (1.5.0)\n",
      "Requirement already satisfied: pydantic-core==2.33.2 in /home/vscode/.local/lib/python3.10/site-packages (from pydantic>=2->ydata-profiling->pandas-profiling) (2.33.2)\n",
      "Requirement already satisfied: typing-inspection>=0.4.0 in /home/vscode/.local/lib/python3.10/site-packages (from pydantic>=2->ydata-profiling->pandas-profiling) (0.4.0)\n",
      "Requirement already satisfied: annotated-types>=0.6.0 in /home/vscode/.local/lib/python3.10/site-packages (from pydantic>=2->ydata-profiling->pandas-profiling) (0.7.0)\n",
      "Requirement already satisfied: typing-extensions>=4.12.2 in /home/vscode/.local/lib/python3.10/site-packages (from pydantic>=2->ydata-profiling->pandas-profiling) (4.13.2)\n",
      "Requirement already satisfied: certifi>=2017.4.17 in /home/vscode/.local/lib/python3.10/site-packages (from requests<3,>=2.24.0->ydata-profiling->pandas-profiling) (2025.4.26)\n",
      "Requirement already satisfied: urllib3<3,>=1.21.1 in /home/vscode/.local/lib/python3.10/site-packages (from requests<3,>=2.24.0->ydata-profiling->pandas-profiling) (2.4.0)\n",
      "Requirement already satisfied: idna<4,>=2.5 in /home/vscode/.local/lib/python3.10/site-packages (from requests<3,>=2.24.0->ydata-profiling->pandas-profiling) (3.10)\n",
      "Requirement already satisfied: charset-normalizer<4,>=2 in /home/vscode/.local/lib/python3.10/site-packages (from requests<3,>=2.24.0->ydata-profiling->pandas-profiling) (3.4.2)\n",
      "Requirement already satisfied: patsy>=0.5.6 in /home/vscode/.local/lib/python3.10/site-packages (from statsmodels<1,>=0.13.2->ydata-profiling->pandas-profiling) (1.0.1)\n",
      "\u001b[33mWARNING: visions 0.8.1 does not provide the extra 'type_image_path'\u001b[0m\u001b[33m\n",
      "\u001b[0mRequirement already satisfied: attrs>=19.3.0 in /home/vscode/.local/lib/python3.10/site-packages (from visions[type_image_path]<0.8.2,>=0.7.5->ydata-profiling->pandas-profiling) (25.3.0)\n",
      "Requirement already satisfied: networkx>=2.4 in /home/vscode/.local/lib/python3.10/site-packages (from visions[type_image_path]<0.8.2,>=0.7.5->ydata-profiling->pandas-profiling) (3.4.2)\n",
      "Requirement already satisfied: puremagic in /home/vscode/.local/lib/python3.10/site-packages (from visions[type_image_path]<0.8.2,>=0.7.5->ydata-profiling->pandas-profiling) (1.29)\n",
      "\n",
      "\u001b[1m[\u001b[0m\u001b[34;49mnotice\u001b[0m\u001b[1;39;49m]\u001b[0m\u001b[39;49m A new release of pip is available: \u001b[0m\u001b[31;49m23.0.1\u001b[0m\u001b[39;49m -> \u001b[0m\u001b[32;49m25.1.1\u001b[0m\n",
      "\u001b[1m[\u001b[0m\u001b[34;49mnotice\u001b[0m\u001b[1;39;49m]\u001b[0m\u001b[39;49m To update, run: \u001b[0m\u001b[32;49mpip install --upgrade pip\u001b[0m\n"
     ]
    }
   ],
   "source": [
    "# Write your code from here\n",
    "!pip install pandas pandas-profiling\n",
    "\n"
   ]
  },
  {
   "cell_type": "code",
   "execution_count": 25,
   "metadata": {},
   "outputs": [
    {
     "name": "stderr",
     "output_type": "stream",
     "text": [
      "Done! Use 'show' commands to display/save.   |██████████| [100%]   00:00 -> (00:00 left)"
     ]
    },
    {
     "name": "stdout",
     "output_type": "stream",
     "text": [
      "Report sweetviz_report.html was generated! NOTEBOOK/COLAB USERS: the web browser MAY not pop up, regardless, the report IS saved in your notebook/colab files.\n"
     ]
    },
    {
     "name": "stderr",
     "output_type": "stream",
     "text": [
      "\n"
     ]
    }
   ],
   "source": [
    "import pandas as pd\n",
    "\n",
    "\n",
    "import pandas as pd\n",
    "import sweetviz as sv\n",
    "\n",
    "df = pd.read_csv('/workspaces/AI_DATA_ANALYSIS_/src/Module 8/Automating Data Quality Measurement/data.csv')\n",
    "report = sv.analyze(df)\n",
    "report.show_html('sweetviz_report.html')\n",
    "\n",
    "\n"
   ]
  },
  {
   "cell_type": "code",
   "execution_count": 21,
   "metadata": {},
   "outputs": [
    {
     "data": {
      "text/html": [
       "\n",
       "        <iframe\n",
       "            width=\"900\"\n",
       "            height=\"600\"\n",
       "            src=\"sweetviz_report.html\"\n",
       "            frameborder=\"0\"\n",
       "            allowfullscreen\n",
       "            \n",
       "        ></iframe>\n",
       "        "
      ],
      "text/plain": [
       "<IPython.lib.display.IFrame at 0x7b24d1ba7a60>"
      ]
     },
     "execution_count": 21,
     "metadata": {},
     "output_type": "execute_result"
    }
   ],
   "source": [
    "from IPython.display import IFrame\n",
    "\n",
    "IFrame(src='sweetviz_report.html', width=900, height=600)\n"
   ]
  },
  {
   "cell_type": "code",
   "execution_count": 18,
   "metadata": {},
   "outputs": [
    {
     "name": "stdout",
     "output_type": "stream",
     "text": [
      "Defaulting to user installation because normal site-packages is not writeable\n",
      "Collecting sweetviz\n",
      "  Downloading sweetviz-2.3.1-py3-none-any.whl (15.1 MB)\n",
      "\u001b[2K     \u001b[90m━━━━━━━━━━━━━━━━━━━━━━━━━━━━━━━━━━━━━━━━\u001b[0m \u001b[32m15.1/15.1 MB\u001b[0m \u001b[31m27.6 MB/s\u001b[0m eta \u001b[36m0:00:00\u001b[0m00:01\u001b[0m00:01\u001b[0m\n",
      "\u001b[?25hRequirement already satisfied: numpy>=1.16.0 in /home/vscode/.local/lib/python3.10/site-packages (from sweetviz) (1.26.4)\n",
      "Requirement already satisfied: pandas!=1.0.0,!=1.0.1,!=1.0.2,>=0.25.3 in /home/vscode/.local/lib/python3.10/site-packages (from sweetviz) (2.1.4)\n",
      "Collecting importlib-resources>=1.2.0\n",
      "  Downloading importlib_resources-6.5.2-py3-none-any.whl (37 kB)\n",
      "Requirement already satisfied: jinja2>=2.11.1 in /home/vscode/.local/lib/python3.10/site-packages (from sweetviz) (3.1.6)\n",
      "Requirement already satisfied: scipy>=1.3.2 in /home/vscode/.local/lib/python3.10/site-packages (from sweetviz) (1.15.3)\n",
      "Requirement already satisfied: tqdm>=4.43.0 in /home/vscode/.local/lib/python3.10/site-packages (from sweetviz) (4.67.1)\n",
      "Requirement already satisfied: matplotlib>=3.1.3 in /home/vscode/.local/lib/python3.10/site-packages (from sweetviz) (3.10.0)\n",
      "Requirement already satisfied: MarkupSafe>=2.0 in /home/vscode/.local/lib/python3.10/site-packages (from jinja2>=2.11.1->sweetviz) (3.0.2)\n",
      "Requirement already satisfied: contourpy>=1.0.1 in /home/vscode/.local/lib/python3.10/site-packages (from matplotlib>=3.1.3->sweetviz) (1.3.2)\n",
      "Requirement already satisfied: packaging>=20.0 in /home/vscode/.local/lib/python3.10/site-packages (from matplotlib>=3.1.3->sweetviz) (24.2)\n",
      "Requirement already satisfied: python-dateutil>=2.7 in /home/vscode/.local/lib/python3.10/site-packages (from matplotlib>=3.1.3->sweetviz) (2.9.0.post0)\n",
      "Requirement already satisfied: kiwisolver>=1.3.1 in /home/vscode/.local/lib/python3.10/site-packages (from matplotlib>=3.1.3->sweetviz) (1.4.8)\n",
      "Requirement already satisfied: pyparsing>=2.3.1 in /home/vscode/.local/lib/python3.10/site-packages (from matplotlib>=3.1.3->sweetviz) (3.2.3)\n",
      "Requirement already satisfied: pillow>=8 in /home/vscode/.local/lib/python3.10/site-packages (from matplotlib>=3.1.3->sweetviz) (11.2.1)\n",
      "Requirement already satisfied: fonttools>=4.22.0 in /home/vscode/.local/lib/python3.10/site-packages (from matplotlib>=3.1.3->sweetviz) (4.58.0)\n",
      "Requirement already satisfied: cycler>=0.10 in /home/vscode/.local/lib/python3.10/site-packages (from matplotlib>=3.1.3->sweetviz) (0.12.1)\n",
      "Requirement already satisfied: pytz>=2020.1 in /home/vscode/.local/lib/python3.10/site-packages (from pandas!=1.0.0,!=1.0.1,!=1.0.2,>=0.25.3->sweetviz) (2025.2)\n",
      "Requirement already satisfied: tzdata>=2022.1 in /home/vscode/.local/lib/python3.10/site-packages (from pandas!=1.0.0,!=1.0.1,!=1.0.2,>=0.25.3->sweetviz) (2025.2)\n",
      "Requirement already satisfied: six>=1.5 in /home/vscode/.local/lib/python3.10/site-packages (from python-dateutil>=2.7->matplotlib>=3.1.3->sweetviz) (1.17.0)\n",
      "Installing collected packages: importlib-resources, sweetviz\n",
      "Successfully installed importlib-resources-6.5.2 sweetviz-2.3.1\n",
      "\n",
      "\u001b[1m[\u001b[0m\u001b[34;49mnotice\u001b[0m\u001b[1;39;49m]\u001b[0m\u001b[39;49m A new release of pip is available: \u001b[0m\u001b[31;49m23.0.1\u001b[0m\u001b[39;49m -> \u001b[0m\u001b[32;49m25.1.1\u001b[0m\n",
      "\u001b[1m[\u001b[0m\u001b[34;49mnotice\u001b[0m\u001b[1;39;49m]\u001b[0m\u001b[39;49m To update, run: \u001b[0m\u001b[32;49mpip install --upgrade pip\u001b[0m\n"
     ]
    }
   ],
   "source": [
    "!pip3 install sweetviz\n"
   ]
  },
  {
   "cell_type": "markdown",
   "metadata": {},
   "source": [
    "### Task 2: Understanding Missing Values with Pandas-Profiling\n",
    "\n",
    "**Description**: Identify missing values in your dataset using pandas-profiling.\n",
    "\n",
    "**Steps**: \n",
    "1. Generate a Profile Report to Analyze Missing Values\n"
   ]
  },
  {
   "cell_type": "code",
   "execution_count": 26,
   "metadata": {},
   "outputs": [
    {
     "name": "stdout",
     "output_type": "stream",
     "text": [
      "            Missing Count  Missing %\n",
      "Name                    0        0.0\n",
      "Age                     1       20.0\n",
      "Gender                  1       20.0\n",
      "Score                   1       20.0\n",
      "Registered              1       20.0\n"
     ]
    }
   ],
   "source": [
    "# Write your code from here\n",
    "import pandas as pd\n",
    "\n",
    "df = pd.read_csv('data.csv')\n",
    "\n",
    "# Summary of missing values per column\n",
    "missing_summary = df.isnull().sum().to_frame(name='Missing Count')\n",
    "missing_summary['Missing %'] = (missing_summary['Missing Count'] / len(df)) * 100\n",
    "\n",
    "print(missing_summary)\n"
   ]
  },
  {
   "cell_type": "markdown",
   "metadata": {},
   "source": [
    "### Task 3: Analyze Data Types Using Pandas-Profiling\n",
    "**Description**: Use Pandas-Profiling to analyze and check data types of your dataset."
   ]
  },
  {
   "cell_type": "code",
   "execution_count": 27,
   "metadata": {},
   "outputs": [
    {
     "name": "stderr",
     "output_type": "stream",
     "text": [
      "Done! Use 'show' commands to display/save.   |██████████| [100%]   00:00 -> (00:00 left)"
     ]
    },
    {
     "name": "stdout",
     "output_type": "stream",
     "text": [
      "Report sweetviz_data_types_report.html was generated! NOTEBOOK/COLAB USERS: the web browser MAY not pop up, regardless, the report IS saved in your notebook/colab files.\n"
     ]
    },
    {
     "name": "stderr",
     "output_type": "stream",
     "text": [
      "\n"
     ]
    }
   ],
   "source": [
    "# Write your code from here\n",
    "import pandas as pd\n",
    "import sweetviz as sv\n",
    "\n",
    "df = pd.read_csv('/workspaces/AI_DATA_ANALYSIS_/src/Module 8/Automating Data Quality Measurement/data.csv')\n",
    "report = sv.analyze(df)\n",
    "report.show_html('sweetviz_data_types_report.html')\n"
   ]
  },
  {
   "cell_type": "markdown",
   "metadata": {},
   "source": [
    "### Task 4: Detect Unique Values and Duplicates\n",
    "**Description**: Use Pandas-Profiling to detect unique values and duplicates in your dataset."
   ]
  },
  {
   "cell_type": "code",
   "execution_count": 28,
   "metadata": {},
   "outputs": [
    {
     "name": "stdout",
     "output_type": "stream",
     "text": [
      "            Unique Values\n",
      "Name                    5\n",
      "Age                     4\n",
      "Gender                  2\n",
      "Score                   4\n",
      "Registered              4\n",
      "Number of duplicate rows: 0\n",
      "Duplicate rows:\n",
      "Empty DataFrame\n",
      "Columns: [Name, Age, Gender, Score, Registered]\n",
      "Index: []\n"
     ]
    }
   ],
   "source": [
    "# Write your code from here\n",
    "import pandas as pd\n",
    "\n",
    "df = pd.read_csv('data.csv')\n",
    "\n",
    "# Unique values per column\n",
    "unique_counts = df.nunique().to_frame(name='Unique Values')\n",
    "print(unique_counts)\n",
    "\n",
    "# Total duplicate rows count\n",
    "duplicate_count = df.duplicated().sum()\n",
    "print(f\"Number of duplicate rows: {duplicate_count}\")\n",
    "\n",
    "# Optionally, get all duplicate rows\n",
    "duplicates = df[df.duplicated()]\n",
    "print(\"Duplicate rows:\")\n",
    "print(duplicates)\n"
   ]
  }
 ],
 "metadata": {
  "kernelspec": {
   "display_name": "Python 3",
   "language": "python",
   "name": "python3"
  },
  "language_info": {
   "codemirror_mode": {
    "name": "ipython",
    "version": 3
   },
   "file_extension": ".py",
   "mimetype": "text/x-python",
   "name": "python",
   "nbconvert_exporter": "python",
   "pygments_lexer": "ipython3",
   "version": "3.10.12"
  }
 },
 "nbformat": 4,
 "nbformat_minor": 2
}
