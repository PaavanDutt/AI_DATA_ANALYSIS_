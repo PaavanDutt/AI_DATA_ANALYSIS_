{
 "cells": [
  {
   "cell_type": "markdown",
   "metadata": {},
   "source": [
    "### Implementing Adversarial Validation for Data Drift\n",
    "Description: Create and train a classifier that distinguishes between train and test datasets, using the classifier’s performance to infer data drift."
   ]
  },
  {
   "cell_type": "code",
   "execution_count": 1,
   "metadata": {},
   "outputs": [
    {
     "ename": "SyntaxError",
     "evalue": "incomplete input (2677017767.py, line 77)",
     "output_type": "error",
     "traceback": [
      "\u001b[0;36m  Cell \u001b[0;32mIn[1], line 77\u001b[0;36m\u001b[0m\n\u001b[0;31m    'f1': np.random.normal(0.5, 1, 1000),  # Slight shift on f1\u001b[0m\n\u001b[0m                                                               ^\u001b[0m\n\u001b[0;31mSyntaxError\u001b[0m\u001b[0;31m:\u001b[0m incomplete input\n"
     ]
    }
   ],
   "source": [
    "# write your code from here\n",
    "import pandas as pd\n",
    "import numpy as np\n",
    "from sklearn.model_selection import train_test_split\n",
    "from sklearn.ensemble import RandomForestClassifier\n",
    "from sklearn.metrics import roc_auc_score, accuracy_score\n",
    "\n",
    "def adversarial_validation(train_df, test_df, features, classifier=None, test_size=0.3, random_state=42):\n",
    "    \"\"\"\n",
    "    Perform adversarial validation to detect data drift between train and test sets.\n",
    "    \n",
    "    Parameters:\n",
    "    - train_df: pd.DataFrame, training dataset\n",
    "    - test_df: pd.DataFrame, test dataset\n",
    "    - features: list of str, feature columns to use\n",
    "    - classifier: sklearn-like classifier (optional, default RandomForestClassifier)\n",
    "    - test_size: float, proportion for validation split\n",
    "    - random_state: int, random seed\n",
    "    \n",
    "    Returns:\n",
    "    - auc: float, ROC-AUC score of the adversarial classifier\n",
    "    - accuracy: float, accuracy of the adversarial classifier\n",
    "    \"\"\"\n",
    "    # Label datasets\n",
    "    train_df = train_df.copy()\n",
    "    test_df = test_df.copy()\n",
    "    train_df['is_test'] = 0\n",
    "    test_df['is_test'] = 1\n",
    "\n",
    "    # Combine datasets\n",
    "    combined = pd.concat([train_df[features + ['is_test']], test_df[features + ['is_test']]], axis=0)\n",
    "    \n",
    "    X = combined[features]\n",
    "    y = combined['is_test']\n",
    "    \n",
    "    # Split for classifier training\n",
    "    X_train, X_val, y_train, y_val = train_test_split(X, y, test_size=test_size, random_state=random_state, stratify=y)\n",
    "    \n",
    "    # Define classifier if none provided\n",
    "    if classifier is None:\n",
    "        classifier = RandomForestClassifier(n_estimators=100, random_state=random_state)\n",
    "    \n",
    "    # Train classifier\n",
    "    classifier.fit(X_train, y_train)\n",
    "    \n",
    "    # Predict probabilities on validation set\n",
    "    y_pred_proba = classifier.predict_proba(X_val)[:, 1]\n",
    "    y_pred = classifier.predict(X_val)\n",
    "    \n",
    "    # Calculate metrics\n",
    "    auc = roc_auc_score(y_val, y_pred_proba)\n",
    "    accuracy = accuracy_score(y_val, y_pred)\n",
    "    \n",
    "    print(f\"Adversarial Validation Results:\")\n",
    "    print(f\"ROC-AUC: {auc:.4f}\")\n",
    "    print(f\"Accuracy: {accuracy:.4f}\")\n",
    "    \n",
    "    if auc > 0.7:\n",
    "        print(\"Warning: High AUC indicates data drift between train and test sets.\")\n",
    "    else:\n",
    "        print(\"Low AUC suggests little to no data drift.\")\n",
    "    \n",
    "    return auc, accuracy\n",
    "\n",
    "# Example usage:\n",
    "# Suppose train_df and test_df are pandas DataFrames with numerical features ['f1', 'f2', 'f3']\n",
    "\n",
    "# Simulated data:\n",
    "np.random.seed(42)\n",
    "train_df = pd.DataFrame({\n",
    "    'f1': np.random.normal(0, 1, 1000),\n",
    "    'f2': np.random.normal(5, 2, 1000),\n",
    "    'f3': np.random.normal(-3, 1, 1000)\n",
    "})\n",
    "\n",
    "test_df = pd.DataFrame({\n",
    "    'f1': np.random.normal(0.5, 1, 1000),  # Slight shift on f1\n"
   ]
  }
 ],
 "metadata": {
  "kernelspec": {
   "display_name": "Python 3",
   "language": "python",
   "name": "python3"
  },
  "language_info": {
   "codemirror_mode": {
    "name": "ipython",
    "version": 3
   },
   "file_extension": ".py",
   "mimetype": "text/x-python",
   "name": "python",
   "nbconvert_exporter": "python",
   "pygments_lexer": "ipython3",
   "version": "3.10.12"
  }
 },
 "nbformat": 4,
 "nbformat_minor": 2
}
