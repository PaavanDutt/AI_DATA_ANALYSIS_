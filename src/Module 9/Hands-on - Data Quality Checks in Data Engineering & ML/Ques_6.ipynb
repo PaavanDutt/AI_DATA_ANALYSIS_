{
 "cells": [
  {
   "cell_type": "markdown",
   "metadata": {},
   "source": [
    "### Detect Data Drift in ML Models\n",
    "**Objective**: Monitor and detect changes in data distributions that impact ML model performance.\n",
    "\n",
    "**Task**: Categorical Feature Drift\n",
    "\n",
    "**Steps**:\n",
    "1. Load the baseline distribution for a categorical feature (e.g., gender ) from your training dataset.\n",
    "2. Load the same feature from your current production data.\n",
    "3. Use chi-squared tests to compare the distributions of the categorical feature.\n",
    "4. Step 4: If significant drift is detected, investigate the cause and update the model as needed."
   ]
  },
  {
   "cell_type": "code",
   "execution_count": 1,
   "metadata": {},
   "outputs": [
    {
     "name": "stdout",
     "output_type": "stream",
     "text": [
      "Chi-squared statistic: 0.5469\n",
      "P-value: 0.4596\n",
      "No significant data drift detected.\n"
     ]
    },
    {
     "data": {
      "text/plain": [
       "(False, 0.45959738618394197)"
      ]
     },
     "execution_count": 1,
     "metadata": {},
     "output_type": "execute_result"
    }
   ],
   "source": [
    "# write your code from here\n",
    "import pandas as pd\n",
    "from scipy.stats import chi2_contingency\n",
    "\n",
    "def detect_categorical_drift_chi2(baseline_series, current_series, alpha=0.05):\n",
    "    \"\"\"\n",
    "    Detect drift in a categorical feature using Chi-squared test.\n",
    "    \n",
    "    Parameters:\n",
    "    - baseline_series: pd.Series with categorical data from baseline (train)\n",
    "    - current_series: pd.Series with categorical data from production (current)\n",
    "    - alpha: significance level\n",
    "    \n",
    "    Returns:\n",
    "    - drift_detected: bool\n",
    "    - p_value: float\n",
    "    \"\"\"\n",
    "    # Calculate frequency counts for both datasets\n",
    "    baseline_counts = baseline_series.value_counts().sort_index()\n",
    "    current_counts = current_series.value_counts().sort_index()\n",
    "\n",
    "    # Align categories (fill missing categories with zero counts)\n",
    "    all_categories = baseline_counts.index.union(current_counts.index)\n",
    "    baseline_counts = baseline_counts.reindex(all_categories, fill_value=0)\n",
    "    current_counts = current_counts.reindex(all_categories, fill_value=0)\n",
    "    \n",
    "    # Create contingency table\n",
    "    contingency_table = pd.DataFrame({\n",
    "        'baseline': baseline_counts,\n",
    "        'current': current_counts\n",
    "    })\n",
    "    \n",
    "    # Perform Chi-squared test\n",
    "    chi2_stat, p_value, dof, expected = chi2_contingency(contingency_table.T)\n",
    "    \n",
    "    print(f\"Chi-squared statistic: {chi2_stat:.4f}\")\n",
    "    print(f\"P-value: {p_value:.4f}\")\n",
    "    \n",
    "    drift_detected = p_value < alpha\n",
    "    if drift_detected:\n",
    "        print(\"Data drift detected in the categorical feature.\")\n",
    "    else:\n",
    "        print(\"No significant data drift detected.\")\n",
    "    \n",
    "    return drift_detected, p_value\n",
    "\n",
    "# Example usage:\n",
    "\n",
    "# Baseline training data\n",
    "baseline_gender = pd.Series(['Male', 'Female', 'Female', 'Male', 'Female', 'Male', 'Male'])\n",
    "\n",
    "# Current production data (shift towards Female)\n",
    "current_gender = pd.Series(['Female', 'Female', 'Female', 'Male', 'Female', 'Female', 'Male', 'Female'])\n",
    "\n",
    "detect_categorical_drift_chi2(baseline_gender, current_gender)\n"
   ]
  }
 ],
 "metadata": {
  "kernelspec": {
   "display_name": "Python 3",
   "language": "python",
   "name": "python3"
  },
  "language_info": {
   "codemirror_mode": {
    "name": "ipython",
    "version": 3
   },
   "file_extension": ".py",
   "mimetype": "text/x-python",
   "name": "python",
   "nbconvert_exporter": "python",
   "pygments_lexer": "ipython3",
   "version": "3.10.12"
  }
 },
 "nbformat": 4,
 "nbformat_minor": 2
}
