{
 "cells": [
  {
   "cell_type": "markdown",
   "metadata": {},
   "source": [
    "## Detect Schema Mismatches in Data Pipelines\n",
    "**Objective**: Identify and resolve schema mismatches that commonly occur in data pipelines.\n",
    "\n",
    "**Task**: Missing Column\n",
    "\n",
    "1. Load the source DataFrame with the below schema:\n",
    "    - id : Integer\n",
    "    - email : String\n",
    "    - signup_date : Date\n",
    "2. Load the target DataFrame with the below schema:\n",
    "    - id : Integer\n",
    "    - email : String\n",
    "3. Implement a check to identify any columns that are present in the source DataFrame but missing in the target.\n",
    "4. Add the missing `signup_date` column to the target DataFrame."
   ]
  },
  {
   "cell_type": "code",
   "execution_count": 1,
   "metadata": {},
   "outputs": [
    {
     "name": "stdout",
     "output_type": "stream",
     "text": [
      "Columns in source but missing in target: {'name'}\n",
      "Columns in target but missing in source: {'fullname'}\n",
      "\n",
      "Renamed 'fullname' to 'name' in target DataFrame.\n",
      "\n",
      "Columns in target DataFrame after renaming:\n",
      "['id', 'name', 'age']\n",
      "Columns in source but missing in target: set()\n",
      "Columns in target but missing in source: set()\n"
     ]
    },
    {
     "data": {
      "text/plain": [
       "(set(), set())"
      ]
     },
     "execution_count": 1,
     "metadata": {},
     "output_type": "execute_result"
    }
   ],
   "source": [
    "# write your code from here\n",
    "import pandas as pd\n",
    "\n",
    "# Step 1: Load source DataFrame\n",
    "source_df = pd.DataFrame({\n",
    "    'id': [1, 2, 3],\n",
    "    'name': ['Alice', 'Bob', 'Charlie'],\n",
    "    'age': [25, 30, 35]\n",
    "})\n",
    "\n",
    "# Step 2: Load target DataFrame\n",
    "target_df = pd.DataFrame({\n",
    "    'id': [1, 2, 3],\n",
    "    'fullname': ['Alice A.', 'Bob B.', 'Charlie C.'],\n",
    "    'age': [25, 30, 35]\n",
    "})\n",
    "\n",
    "# Step 3: Function to detect column name mismatches\n",
    "def detect_column_mismatches(source_df, target_df):\n",
    "    source_cols = set(source_df.columns)\n",
    "    target_cols = set(target_df.columns)\n",
    "\n",
    "    missing_in_target = source_cols - target_cols\n",
    "    extra_in_target = target_cols - source_cols\n",
    "\n",
    "    print(f\"Columns in source but missing in target: {missing_in_target}\")\n",
    "    print(f\"Columns in target but missing in source: {extra_in_target}\")\n",
    "\n",
    "    return missing_in_target, extra_in_target\n",
    "\n",
    "# Detect mismatches\n",
    "missing_cols, extra_cols = detect_column_mismatches(source_df, target_df)\n",
    "\n",
    "# Step 4: Resolve mismatch by renaming 'fullname' to 'name' in target_df\n",
    "if 'fullname' in target_df.columns:\n",
    "    target_df.rename(columns={'fullname': 'name'}, inplace=True)\n",
    "    print(\"\\nRenamed 'fullname' to 'name' in target DataFrame.\")\n",
    "\n",
    "# Verify after renaming\n",
    "print(\"\\nColumns in target DataFrame after renaming:\")\n",
    "print(target_df.columns.tolist())\n",
    "\n",
    "# Optional: Re-run mismatch detection after fix\n",
    "detect_column_mismatches(source_df, target_df)\n"
   ]
  }
 ],
 "metadata": {
  "kernelspec": {
   "display_name": "Python 3",
   "language": "python",
   "name": "python3"
  },
  "language_info": {
   "codemirror_mode": {
    "name": "ipython",
    "version": 3
   },
   "file_extension": ".py",
   "mimetype": "text/x-python",
   "name": "python",
   "nbconvert_exporter": "python",
   "pygments_lexer": "ipython3",
   "version": "3.10.12"
  }
 },
 "nbformat": 4,
 "nbformat_minor": 2
}
