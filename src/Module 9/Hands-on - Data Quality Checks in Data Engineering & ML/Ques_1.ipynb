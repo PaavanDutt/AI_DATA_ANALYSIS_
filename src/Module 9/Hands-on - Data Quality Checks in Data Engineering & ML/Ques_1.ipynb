{
 "cells": [
  {
   "cell_type": "markdown",
   "metadata": {},
   "source": [
    "### Detect Data Drift using Kolmogorov-Smirnov Test\n",
    "**Description**: Use statistical tests to detect data drift between two datasets."
   ]
  },
  {
   "cell_type": "code",
   "execution_count": 1,
   "metadata": {},
   "outputs": [
    {
     "name": "stdout",
     "output_type": "stream",
     "text": [
      "KS test for feature 'example_feature':\n",
      "KS statistic: 0.2420\n",
      "P-value: 0.0000\n",
      "Data drift detected in feature 'example_feature'.\n"
     ]
    },
    {
     "data": {
      "text/plain": [
       "(True, 4.2252283893369713e-26)"
      ]
     },
     "execution_count": 1,
     "metadata": {},
     "output_type": "execute_result"
    }
   ],
   "source": [
    "# write your code from here\n",
    "import numpy as np\n",
    "import pandas as pd\n",
    "from scipy.stats import ks_2samp\n",
    "\n",
    "def detect_data_drift_ks(reference_data, current_data, feature, alpha=0.05):\n",
    "    \"\"\"\n",
    "    Detect data drift in a specific feature using Kolmogorov-Smirnov test.\n",
    "    \n",
    "    Parameters:\n",
    "    - reference_data: pd.Series or np.array for the reference dataset feature.\n",
    "    - current_data: pd.Series or np.array for the current dataset feature.\n",
    "    - feature: str, the name of the feature.\n",
    "    - alpha: significance level for rejecting the null hypothesis (default=0.05).\n",
    "    \n",
    "    Returns:\n",
    "    - drift_detected: bool, True if drift is detected.\n",
    "    - p_value: float, p-value of the KS test.\n",
    "    \"\"\"\n",
    "    \n",
    "    statistic, p_value = ks_2samp(reference_data, current_data)\n",
    "    \n",
    "    drift_detected = p_value < alpha\n",
    "    \n",
    "    print(f\"KS test for feature '{feature}':\")\n",
    "    print(f\"KS statistic: {statistic:.4f}\")\n",
    "    print(f\"P-value: {p_value:.4f}\")\n",
    "    if drift_detected:\n",
    "        print(f\"Data drift detected in feature '{feature}'.\")\n",
    "    else:\n",
    "        print(f\"No data drift detected in feature '{feature}'.\")\n",
    "    \n",
    "    return drift_detected, p_value\n",
    "\n",
    "# Example usage:\n",
    "\n",
    "# Simulated reference and current datasets (could be pandas DataFrames)\n",
    "np.random.seed(42)\n",
    "reference_feature = np.random.normal(loc=0, scale=1, size=1000)\n",
    "current_feature = np.random.normal(loc=0.5, scale=1, size=1000)  # Slight shift in mean\n",
    "\n",
    "detect_data_drift_ks(reference_feature, current_feature, feature=\"example_feature\")\n"
   ]
  }
 ],
 "metadata": {
  "kernelspec": {
   "display_name": "Python 3",
   "language": "python",
   "name": "python3"
  },
  "language_info": {
   "codemirror_mode": {
    "name": "ipython",
    "version": 3
   },
   "file_extension": ".py",
   "mimetype": "text/x-python",
   "name": "python",
   "nbconvert_exporter": "python",
   "pygments_lexer": "ipython3",
   "version": "3.10.12"
  }
 },
 "nbformat": 4,
 "nbformat_minor": 2
}
