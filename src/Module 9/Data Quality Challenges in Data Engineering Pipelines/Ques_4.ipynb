{
 "cells": [
  {
   "cell_type": "markdown",
   "metadata": {},
   "source": [
    "### Complex Schema Validation with Avro\n",
    "**Description**: Implement a solution in Python to validate records against a complex nested Avro schema.\n",
    "\n",
    "Eg., Complex schema ( nested_schema.avsc ):\n",
    "\n",
    "**Steps**:\n",
    "1. Load schema\n",
    "2. Example data to validate\n",
    "3. Validate against schema\n",
    "4. Read back to check"
   ]
  },
  {
   "cell_type": "code",
   "execution_count": 1,
   "metadata": {},
   "outputs": [
    {
     "name": "stdout",
     "output_type": "stream",
     "text": [
      "Defaulting to user installation because normal site-packages is not writeable\n",
      "Collecting fastavro\n",
      "  Downloading fastavro-1.11.1-cp310-cp310-manylinux_2_17_x86_64.manylinux2014_x86_64.whl (3.1 MB)\n",
      "\u001b[2K     \u001b[90m━━━━━━━━━━━━━━━━━━━━━━━━━━━━━━━━━━━━━━━━\u001b[0m \u001b[32m3.1/3.1 MB\u001b[0m \u001b[31m8.6 MB/s\u001b[0m eta \u001b[36m0:00:00\u001b[0m:00:01\u001b[0m0:01\u001b[0m\n",
      "\u001b[?25hInstalling collected packages: fastavro\n",
      "Successfully installed fastavro-1.11.1\n",
      "\n",
      "\u001b[1m[\u001b[0m\u001b[34;49mnotice\u001b[0m\u001b[1;39;49m]\u001b[0m\u001b[39;49m A new release of pip is available: \u001b[0m\u001b[31;49m23.0.1\u001b[0m\u001b[39;49m -> \u001b[0m\u001b[32;49m25.1.1\u001b[0m\n",
      "\u001b[1m[\u001b[0m\u001b[34;49mnotice\u001b[0m\u001b[1;39;49m]\u001b[0m\u001b[39;49m To update, run: \u001b[0m\u001b[32;49mpip install --upgrade pip\u001b[0m\n"
     ]
    }
   ],
   "source": [
    "# write your code from here\n",
    "!pip install fastavro\n"
   ]
  },
  {
   "cell_type": "code",
   "execution_count": 2,
   "metadata": {},
   "outputs": [
    {
     "name": "stdout",
     "output_type": "stream",
     "text": [
      "✅ Validating valid record:\n",
      "True\n",
      "\n",
      "❌ Validating invalid record:\n",
      "Validation error: [\n",
      "  \"User.age is <thirty> of type <class 'str'> expected int\"\n",
      "]\n",
      "False\n",
      "\n",
      "📦 Reading back record:\n",
      "{'username': 'johndoe', 'age': 30, 'address': {'street': '123 Main St', 'city': 'Metropolis', 'zip': 12345}, 'preferences': {'newsletter': True, 'notifications': ['email', 'sms']}}\n"
     ]
    }
   ],
   "source": [
    "import json\n",
    "from fastavro import parse_schema, writer, reader, validation\n",
    "import io\n",
    "\n",
    "# Step 1: Load schema\n",
    "with open(\"/workspaces/AI_DATA_ANALYSIS_/src/Module 9/Data Quality Challenges in Data Engineering Pipelines/nested_schema.avsc\", \"r\") as f:\n",
    "    schema = json.load(f)\n",
    "parsed_schema = parse_schema(schema)\n",
    "\n",
    "# Step 2: Example data\n",
    "valid_record = {\n",
    "    \"username\": \"johndoe\",\n",
    "    \"age\": 30,\n",
    "    \"address\": {\n",
    "        \"street\": \"123 Main St\",\n",
    "        \"city\": \"Metropolis\",\n",
    "        \"zip\": 12345\n",
    "    },\n",
    "    \"preferences\": {\n",
    "        \"newsletter\": True,\n",
    "        \"notifications\": [\"email\", \"sms\"]\n",
    "    }\n",
    "}\n",
    "\n",
    "invalid_record = {\n",
    "    \"username\": \"janedoe\",\n",
    "    \"age\": \"thirty\",  # Invalid type\n",
    "    \"address\": {\n",
    "        \"street\": \"456 Side St\",\n",
    "        \"city\": \"Gotham\",\n",
    "        \"zip\": \"abcde\"  # Invalid type\n",
    "    },\n",
    "    \"preferences\": {\n",
    "        \"newsletter\": \"yes\",  # Should be boolean\n",
    "        \"notifications\": [\"push\"]\n",
    "    }\n",
    "}\n",
    "\n",
    "# Step 3: Validate records\n",
    "def validate_record(record, schema):\n",
    "    try:\n",
    "        validation.validate(record, schema)\n",
    "        return True\n",
    "    except validation.ValidationError as e:\n",
    "        print(f\"Validation error: {e}\")\n",
    "        return False\n",
    "\n",
    "print(\"✅ Validating valid record:\")\n",
    "print(validate_record(valid_record, parsed_schema))\n",
    "\n",
    "print(\"\\n❌ Validating invalid record:\")\n",
    "print(validate_record(invalid_record, parsed_schema))\n",
    "\n",
    "# Step 4: Write to in-memory buffer and read back to check\n",
    "buffer = io.BytesIO()\n",
    "writer(buffer, parsed_schema, [valid_record])\n",
    "buffer.seek(0)\n",
    "\n",
    "print(\"\\n📦 Reading back record:\")\n",
    "for rec in reader(buffer):\n",
    "    print(rec)\n"
   ]
  }
 ],
 "metadata": {
  "kernelspec": {
   "display_name": "Python 3",
   "language": "python",
   "name": "python3"
  },
  "language_info": {
   "codemirror_mode": {
    "name": "ipython",
    "version": 3
   },
   "file_extension": ".py",
   "mimetype": "text/x-python",
   "name": "python",
   "nbconvert_exporter": "python",
   "pygments_lexer": "ipython3",
   "version": "3.10.12"
  }
 },
 "nbformat": 4,
 "nbformat_minor": 2
}
