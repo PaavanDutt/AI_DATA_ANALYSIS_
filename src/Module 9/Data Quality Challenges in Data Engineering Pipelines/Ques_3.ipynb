{
 "cells": [
  {
   "cell_type": "markdown",
   "metadata": {},
   "source": [
    "### Metadata Management for Data Quality\n",
    "**Description**: Store and use metadata to manage data quality in a pipeline.\n",
    "\n",
    "**Steps**:\n",
    "1. Load metadata\n",
    "2. Load data\n",
    "3. Use metadata to validate data quality\n",
    "4. Show valid data\n"
   ]
  },
  {
   "cell_type": "code",
   "execution_count": 6,
   "metadata": {},
   "outputs": [
    {
     "name": "stdout",
     "output_type": "stream",
     "text": [
      "✅ Valid Data:\n",
      "    name  age              email\n",
      "0  Alice   29  alice@example.com\n"
     ]
    }
   ],
   "source": [
    "import pandas as pd\n",
    "\n",
    "# Step 1: Load metadata\n",
    "# Metadata could define data types, valid ranges, required fields, etc.\n",
    "metadata = {\n",
    "    \"name\": {\"type\": \"str\", \"required\": True},\n",
    "    \"age\": {\"type\": \"int\", \"min\": 0, \"max\": 120, \"required\": True},\n",
    "    \"email\": {\"type\": \"str\", \"required\": False}\n",
    "}\n",
    "\n",
    "# Step 2: Load data (example data)\n",
    "data = pd.DataFrame([\n",
    "    {\"name\": \"Alice\", \"age\": 29, \"email\": \"alice@example.com\"},\n",
    "    {\"name\": \"Bob\", \"age\": -5, \"email\": \"bob@example.com\"},\n",
    "    {\"name\": \"Charlie\", \"age\": 135, \"email\": \"charlie@example.com\"},\n",
    "    {\"name\": \"\", \"age\": 45, \"email\": None},\n",
    "])\n",
    "\n",
    "# Step 3: Validate data using metadata\n",
    "def validate_row(row, metadata):\n",
    "    for col, rules in metadata.items():\n",
    "        value = row.get(col)\n",
    "\n",
    "        # Check required\n",
    "        if rules.get(\"required\") and (value is None or (isinstance(value, str) and value.strip() == \"\")):\n",
    "            return False\n",
    "\n",
    "        # Check type\n",
    "        expected_type = rules.get(\"type\")\n",
    "        if expected_type:\n",
    "            if expected_type == \"int\" and not isinstance(value, int):\n",
    "                return False\n",
    "            if expected_type == \"str\" and not isinstance(value, str):\n",
    "                return False\n",
    "\n",
    "        # Check min/max\n",
    "        if isinstance(value, int):\n",
    "            if \"min\" in rules and value < rules[\"min\"]:\n",
    "                return False\n",
    "            if \"max\" in rules and value > rules[\"max\"]:\n",
    "                return False\n",
    "    return True\n",
    "\n",
    "# Apply validation\n",
    "valid_data = data[data.apply(lambda row: validate_row(row, metadata), axis=1)]\n",
    "\n",
    "# Step 4: Show valid data\n",
    "print(\"✅ Valid Data:\")\n",
    "print(valid_data)\n"
   ]
  }
 ],
 "metadata": {
  "kernelspec": {
   "display_name": "Python 3",
   "language": "python",
   "name": "python3"
  },
  "language_info": {
   "codemirror_mode": {
    "name": "ipython",
    "version": 3
   },
   "file_extension": ".py",
   "mimetype": "text/x-python",
   "name": "python",
   "nbconvert_exporter": "python",
   "pygments_lexer": "ipython3",
   "version": "3.10.12"
  }
 },
 "nbformat": 4,
 "nbformat_minor": 2
}
