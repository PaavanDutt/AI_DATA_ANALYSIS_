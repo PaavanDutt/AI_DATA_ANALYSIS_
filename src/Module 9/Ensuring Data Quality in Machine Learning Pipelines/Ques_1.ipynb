{
 "cells": [
  {
   "cell_type": "markdown",
   "metadata": {},
   "source": [
    "### Garbage In, Garbage Out (GIGO): Cleaning Missing Data\n",
    "**Description**: Load a dataset (e.g., Titanic dataset) and identify missing values. Use\n",
    "appropriate techniques to handle these missing values."
   ]
  },
  {
   "cell_type": "code",
   "execution_count": 2,
   "metadata": {},
   "outputs": [
    {
     "name": "stdout",
     "output_type": "stream",
     "text": [
      "🔍 Original data:\n",
      "   survived  pclass     sex   age embarked   fare  deck  embark_town\n",
      "0         1       1  female  29.0        C  72.00     B    Cherbourg\n",
      "1         0       3    male   NaN        S   7.25  None  Southampton\n",
      "2         1       2  female  24.0        Q  13.00     E   Queenstown\n",
      "3         0       3    male  35.0     None   8.05  None         None\n",
      "4         1       1  female   NaN        C    NaN  None    Cherbourg\n",
      "\n",
      "❓ Missing values:\n",
      "survived       0\n",
      "pclass         0\n",
      "sex            0\n",
      "age            2\n",
      "embarked       1\n",
      "fare           1\n",
      "deck           3\n",
      "embark_town    1\n",
      "dtype: int64\n",
      "\n",
      "✅ Cleaned data:\n",
      "   survived  pclass     sex   age embarked    fare  embark_town\n",
      "0         1       1  female  29.0        C  72.000    Cherbourg\n",
      "1         0       3    male  29.0        S   7.250  Southampton\n",
      "2         1       2  female  24.0        Q  13.000   Queenstown\n",
      "3         0       3    male  35.0        C   8.050    Cherbourg\n",
      "4         1       1  female  29.0        C  25.075    Cherbourg\n",
      "\n",
      "✅ Remaining missing values (should be 0):\n",
      "0\n"
     ]
    }
   ],
   "source": [
    "# Write your code from here\n",
    "\n",
    "import pandas as pd\n",
    "\n",
    "# Step 1: Sample Titanic-like dataset with intentional missing values\n",
    "data = {\n",
    "    \"survived\": [1, 0, 1, 0, 1],\n",
    "    \"pclass\": [1, 3, 2, 3, 1],\n",
    "    \"sex\": [\"female\", \"male\", \"female\", \"male\", \"female\"],\n",
    "    \"age\": [29.0, None, 24.0, 35.0, None],\n",
    "    \"embarked\": [\"C\", \"S\", \"Q\", None, \"C\"],\n",
    "    \"fare\": [72.0, 7.25, 13.0, 8.05, None],\n",
    "    \"deck\": [\"B\", None, \"E\", None, None],  # too sparse\n",
    "    \"embark_town\": [\"Cherbourg\", \"Southampton\", \"Queenstown\", None, \"Cherbourg\"]\n",
    "}\n",
    "\n",
    "df = pd.DataFrame(data)\n",
    "\n",
    "print(\"🔍 Original data:\")\n",
    "print(df)\n",
    "\n",
    "# Step 2: Check missing values\n",
    "print(\"\\n❓ Missing values:\")\n",
    "print(df.isnull().sum())\n",
    "\n",
    "# Step 3: Handle missing values\n",
    "df.drop(columns=[\"deck\"], inplace=True)  # too many missing values\n",
    "\n",
    "# Impute numerical: age (median), fare (mean)\n",
    "df[\"age\"].fillna(df[\"age\"].median(), inplace=True)\n",
    "df[\"fare\"].fillna(df[\"fare\"].mean(), inplace=True)\n",
    "\n",
    "# Impute categorical: embarked, embark_town\n",
    "df[\"embarked\"].fillna(df[\"embarked\"].mode()[0], inplace=True)\n",
    "df[\"embark_town\"].fillna(df[\"embark_town\"].mode()[0], inplace=True)\n",
    "\n",
    "# Step 4: Confirm data is clean\n",
    "print(\"\\n✅ Cleaned data:\")\n",
    "print(df)\n",
    "\n",
    "print(\"\\n✅ Remaining missing values (should be 0):\")\n",
    "print(df.isnull().sum().sum())\n"
   ]
  }
 ],
 "metadata": {
  "kernelspec": {
   "display_name": "Python 3",
   "language": "python",
   "name": "python3"
  },
  "language_info": {
   "codemirror_mode": {
    "name": "ipython",
    "version": 3
   },
   "file_extension": ".py",
   "mimetype": "text/x-python",
   "name": "python",
   "nbconvert_exporter": "python",
   "pygments_lexer": "ipython3",
   "version": "3.10.12"
  }
 },
 "nbformat": 4,
 "nbformat_minor": 2
}
