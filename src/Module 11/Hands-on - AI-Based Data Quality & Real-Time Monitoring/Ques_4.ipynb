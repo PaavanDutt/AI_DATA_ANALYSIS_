{
 "cells": [
  {
   "cell_type": "markdown",
   "metadata": {},
   "source": [
    "## Isolation Forest for Anomaly Detection\n",
    "**Objective**: Understand and apply the Isolation Forest algorithm to identify anomalies in datasets.\n",
    "\n",
    "### Task: Anomaly Detection in Network Traffic\n",
    "**Steps**:\n",
    "1. Extract Features from Dataset:\n",
    "    - Load `network_traffic.csv` .\n",
    "2. Isolation Forest Model\n",
    "3. Display Anomalies"
   ]
  },
  {
   "cell_type": "code",
   "execution_count": 1,
   "metadata": {},
   "outputs": [
    {
     "name": "stdout",
     "output_type": "stream",
     "text": [
      "Number of anomalies detected: 1\n",
      "    duration  src_bytes  dst_bytes  wrong_fragment  urgent  count  srv_count  \\\n",
      "14      1000      50000      60000               0       0     50         50   \n",
      "\n",
      "    anomaly  \n",
      "14       -1  \n"
     ]
    }
   ],
   "source": [
    "# write your code from here\n",
    "import pandas as pd\n",
    "from sklearn.ensemble import IsolationForest\n",
    "\n",
    "# Step 1: Load dataset and extract features\n",
    "df = pd.read_csv('/workspaces/AI_DATA_ANALYSIS_/src/Module 11/Hands-on - AI-Based Data Quality & Real-Time Monitoring/network_traffic.csv')\n",
    "\n",
    "# For this example, let's assume the dataset has numeric features suitable for anomaly detection\n",
    "# You can customize feature selection as needed; for now, we'll use all numeric columns\n",
    "X = df.select_dtypes(include=['float64', 'int64'])\n",
    "\n",
    "# Step 2: Initialize and fit Isolation Forest model\n",
    "iso_forest = IsolationForest(n_estimators=100, contamination=0.05, random_state=42)\n",
    "iso_forest.fit(X)\n",
    "\n",
    "# Step 3: Predict anomalies\n",
    "df['anomaly'] = iso_forest.predict(X)  # 1 = normal, -1 = anomaly\n",
    "\n",
    "# Display anomalies\n",
    "anomalies = df[df['anomaly'] == -1]\n",
    "\n",
    "print(f\"Number of anomalies detected: {len(anomalies)}\")\n",
    "print(anomalies)\n",
    "\n",
    "# Optional: Save anomalies to a CSV\n",
    "anomalies.to_csv('network_traffic_anomalies.csv', index=False)\n"
   ]
  }
 ],
 "metadata": {
  "kernelspec": {
   "display_name": "Python 3",
   "language": "python",
   "name": "python3"
  },
  "language_info": {
   "codemirror_mode": {
    "name": "ipython",
    "version": 3
   },
   "file_extension": ".py",
   "mimetype": "text/x-python",
   "name": "python",
   "nbconvert_exporter": "python",
   "pygments_lexer": "ipython3",
   "version": "3.10.12"
  }
 },
 "nbformat": 4,
 "nbformat_minor": 2
}
