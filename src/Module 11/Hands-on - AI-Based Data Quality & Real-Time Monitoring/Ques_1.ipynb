{
 "cells": [
  {
   "cell_type": "markdown",
   "metadata": {},
   "source": [
    "### Task 1: Introduction to Isolation Forest\n",
    "**Description**: Install the necessary library and load a sample dataset.\n",
    "\n",
    "**Steps**:\n",
    "1. Install scikit-learn\n",
    "2. Load a sample dataset using Python"
   ]
  },
  {
   "cell_type": "code",
   "execution_count": 1,
   "metadata": {},
   "outputs": [
    {
     "ename": "ImportError",
     "evalue": "\n`load_boston` has been removed from scikit-learn since version 1.2.\n\nThe Boston housing prices dataset has an ethical problem: as\ninvestigated in [1], the authors of this dataset engineered a\nnon-invertible variable \"B\" assuming that racial self-segregation had a\npositive impact on house prices [2]. Furthermore the goal of the\nresearch that led to the creation of this dataset was to study the\nimpact of air quality but it did not give adequate demonstration of the\nvalidity of this assumption.\n\nThe scikit-learn maintainers therefore strongly discourage the use of\nthis dataset unless the purpose of the code is to study and educate\nabout ethical issues in data science and machine learning.\n\nIn this special case, you can fetch the dataset from the original\nsource::\n\n    import pandas as pd\n    import numpy as np\n\n    data_url = \"http://lib.stat.cmu.edu/datasets/boston\"\n    raw_df = pd.read_csv(data_url, sep=\"\\s+\", skiprows=22, header=None)\n    data = np.hstack([raw_df.values[::2, :], raw_df.values[1::2, :2]])\n    target = raw_df.values[1::2, 2]\n\nAlternative datasets include the California housing dataset and the\nAmes housing dataset. You can load the datasets as follows::\n\n    from sklearn.datasets import fetch_california_housing\n    housing = fetch_california_housing()\n\nfor the California housing dataset and::\n\n    from sklearn.datasets import fetch_openml\n    housing = fetch_openml(name=\"house_prices\", as_frame=True)\n\nfor the Ames housing dataset.\n\n[1] M Carlisle.\n\"Racist data destruction?\"\n<https://medium.com/@docintangible/racist-data-destruction-113e3eff54a8>\n\n[2] Harrison Jr, David, and Daniel L. Rubinfeld.\n\"Hedonic housing prices and the demand for clean air.\"\nJournal of environmental economics and management 5.1 (1978): 81-102.\n<https://www.researchgate.net/publication/4974606_Hedonic_housing_prices_and_the_demand_for_clean_air>\n",
     "output_type": "error",
     "traceback": [
      "\u001b[0;31m---------------------------------------------------------------------------\u001b[0m",
      "\u001b[0;31mImportError\u001b[0m                               Traceback (most recent call last)",
      "Cell \u001b[0;32mIn[1], line 4\u001b[0m\n\u001b[1;32m      2\u001b[0m \u001b[38;5;28;01mimport\u001b[39;00m\u001b[38;5;250m \u001b[39m\u001b[38;5;21;01mnumpy\u001b[39;00m\u001b[38;5;250m \u001b[39m\u001b[38;5;28;01mas\u001b[39;00m\u001b[38;5;250m \u001b[39m\u001b[38;5;21;01mnp\u001b[39;00m\n\u001b[1;32m      3\u001b[0m \u001b[38;5;28;01mfrom\u001b[39;00m\u001b[38;5;250m \u001b[39m\u001b[38;5;21;01msklearn\u001b[39;00m\u001b[38;5;21;01m.\u001b[39;00m\u001b[38;5;21;01mensemble\u001b[39;00m\u001b[38;5;250m \u001b[39m\u001b[38;5;28;01mimport\u001b[39;00m IsolationForest\n\u001b[0;32m----> 4\u001b[0m \u001b[38;5;28;01mfrom\u001b[39;00m\u001b[38;5;250m \u001b[39m\u001b[38;5;21;01msklearn\u001b[39;00m\u001b[38;5;21;01m.\u001b[39;00m\u001b[38;5;21;01mdatasets\u001b[39;00m\u001b[38;5;250m \u001b[39m\u001b[38;5;28;01mimport\u001b[39;00m load_boston \u001b[38;5;66;03m# Note: load_boston is deprecated, but used as per request.\u001b[39;00m\n\u001b[1;32m      5\u001b[0m \u001b[38;5;28;01mimport\u001b[39;00m\u001b[38;5;250m \u001b[39m\u001b[38;5;21;01mmatplotlib\u001b[39;00m\u001b[38;5;21;01m.\u001b[39;00m\u001b[38;5;21;01mpyplot\u001b[39;00m\u001b[38;5;250m \u001b[39m\u001b[38;5;28;01mas\u001b[39;00m\u001b[38;5;250m \u001b[39m\u001b[38;5;21;01mplt\u001b[39;00m\n\u001b[1;32m      6\u001b[0m \u001b[38;5;28;01mimport\u001b[39;00m\u001b[38;5;250m \u001b[39m\u001b[38;5;21;01mwarnings\u001b[39;00m\n",
      "File \u001b[0;32m~/.local/lib/python3.10/site-packages/sklearn/datasets/__init__.py:161\u001b[0m, in \u001b[0;36m__getattr__\u001b[0;34m(name)\u001b[0m\n\u001b[1;32m    110\u001b[0m \u001b[38;5;28;01mif\u001b[39;00m name \u001b[38;5;241m==\u001b[39m \u001b[38;5;124m\"\u001b[39m\u001b[38;5;124mload_boston\u001b[39m\u001b[38;5;124m\"\u001b[39m:\n\u001b[1;32m    111\u001b[0m     msg \u001b[38;5;241m=\u001b[39m textwrap\u001b[38;5;241m.\u001b[39mdedent(\n\u001b[1;32m    112\u001b[0m \u001b[38;5;250m        \u001b[39m\u001b[38;5;124;03m\"\"\"\u001b[39;00m\n\u001b[1;32m    113\u001b[0m \u001b[38;5;124;03m        `load_boston` has been removed from scikit-learn since version 1.2.\u001b[39;00m\n\u001b[0;32m   (...)\u001b[0m\n\u001b[1;32m    159\u001b[0m \u001b[38;5;124;03m        \"\"\"\u001b[39;00m\n\u001b[1;32m    160\u001b[0m     )\n\u001b[0;32m--> 161\u001b[0m     \u001b[38;5;28;01mraise\u001b[39;00m \u001b[38;5;167;01mImportError\u001b[39;00m(msg)\n\u001b[1;32m    162\u001b[0m \u001b[38;5;28;01mtry\u001b[39;00m:\n\u001b[1;32m    163\u001b[0m     \u001b[38;5;28;01mreturn\u001b[39;00m \u001b[38;5;28mglobals\u001b[39m()[name]\n",
      "\u001b[0;31mImportError\u001b[0m: \n`load_boston` has been removed from scikit-learn since version 1.2.\n\nThe Boston housing prices dataset has an ethical problem: as\ninvestigated in [1], the authors of this dataset engineered a\nnon-invertible variable \"B\" assuming that racial self-segregation had a\npositive impact on house prices [2]. Furthermore the goal of the\nresearch that led to the creation of this dataset was to study the\nimpact of air quality but it did not give adequate demonstration of the\nvalidity of this assumption.\n\nThe scikit-learn maintainers therefore strongly discourage the use of\nthis dataset unless the purpose of the code is to study and educate\nabout ethical issues in data science and machine learning.\n\nIn this special case, you can fetch the dataset from the original\nsource::\n\n    import pandas as pd\n    import numpy as np\n\n    data_url = \"http://lib.stat.cmu.edu/datasets/boston\"\n    raw_df = pd.read_csv(data_url, sep=\"\\s+\", skiprows=22, header=None)\n    data = np.hstack([raw_df.values[::2, :], raw_df.values[1::2, :2]])\n    target = raw_df.values[1::2, 2]\n\nAlternative datasets include the California housing dataset and the\nAmes housing dataset. You can load the datasets as follows::\n\n    from sklearn.datasets import fetch_california_housing\n    housing = fetch_california_housing()\n\nfor the California housing dataset and::\n\n    from sklearn.datasets import fetch_openml\n    housing = fetch_openml(name=\"house_prices\", as_frame=True)\n\nfor the Ames housing dataset.\n\n[1] M Carlisle.\n\"Racist data destruction?\"\n<https://medium.com/@docintangible/racist-data-destruction-113e3eff54a8>\n\n[2] Harrison Jr, David, and Daniel L. Rubinfeld.\n\"Hedonic housing prices and the demand for clean air.\"\nJournal of environmental economics and management 5.1 (1978): 81-102.\n<https://www.researchgate.net/publication/4974606_Hedonic_housing_prices_and_the_demand_for_clean_air>\n"
     ]
    }
   ],
   "source": [
    "import pandas as pd\n",
    "import numpy as np\n",
    "from sklearn.ensemble import IsolationForest\n",
    "from sklearn.datasets import load_boston # Note: load_boston is deprecated, but used as per request.\n",
    "import matplotlib.pyplot as plt\n",
    "import warnings\n",
    "\n",
    "# Suppress the deprecation warning for load_boston\n",
    "warnings.filterwarnings(\"ignore\", category=FutureWarning)\n",
    "\n",
    "print(\"### Task 1: Introduction to Isolation Forest ###\")\n",
    "print(\"\\n\" + \"=\"*50 + \"\\n\")\n",
    "\n",
    "# Step 1: Install scikit-learn (usually done via pip in your environment)\n",
    "# You would typically run: pip install scikit-learn pandas matplotlib\n",
    "print(\"Step 1: To install scikit-learn, run 'pip install scikit-learn' in your terminal.\")\n",
    "print(\"Ensure pandas and matplotlib are also installed: 'pip install pandas matplotlib'\")\n",
    "\n",
    "# Step 2: Load a sample dataset using Python\n",
    "# Using the Boston dataset as it's a classic for examples.\n",
    "# Note: The Boston housing dataset is deprecated due to ethical concerns.\n",
    "# For new projects, consider using other datasets like California Housing or synthetic data.\n",
    "boston = load_boston()\n",
    "X = pd.DataFrame(boston.data, columns=boston.feature_names)\n",
    "y = boston.target # Target variable (house prices) - not directly used for anomaly detection here, but good to know\n",
    "\n",
    "print(\"\\nStep 2: Boston Housing Dataset Loaded.\")\n",
    "print(f\"Dataset shape: {X.shape}\")\n",
    "print(\"First 5 rows of the dataset:\")\n",
    "print(X.head())\n",
    "print(\"\\n\" + \"=\"*50 + \"\\n\")\n",
    "\n",
    "\n",
    "print(\"### Task 2: Building an Isolation Forest ###\")\n",
    "print(\"\\n\" + \"=\"*50 + \"\\n\")\n",
    "\n",
    "# Step 1: Initialize Isolation Forest\n",
    "# n_estimators: The number of base estimators (trees) in the ensemble.\n",
    "# contamination: The proportion of outliers in the dataset. This is a crucial parameter.\n",
    "#   It's the proportion of anomalies in the data set and is used when fitting the model\n",
    "#   to define the threshold on the decision function.\n",
    "# random_state: For reproducibility.\n",
    "model = IsolationForest(n_estimators=100, contamination=0.01, random_state=42)\n",
    "print(f\"Isolation Forest model initialized with n_estimators=100 and contamination=0.01.\")\n",
    "\n",
    "# Step 2: Fit model\n",
    "# The fit method trains the Isolation Forest on the data to learn the normal behavior.\n",
    "# It doesn't require labels for anomaly detection (unsupervised).\n",
    "model.fit(X)\n",
    "print(\"Isolation Forest model fitted to the dataset.\")\n",
    "print(\"\\n\" + \"=\"*50 + \"\\n\")\n",
    "\n",
    "\n",
    "print(\"### Task 3: Detecting Anomalies ###\")\n",
    "print(\"\\n\" + \"=\"*50 + \"\\n\")\n",
    "\n",
    "# Step 1: Predict anomalies\n",
    "# The predict method returns -1 for outliers and 1 for inliers.\n",
    "# The decision_function returns the anomaly score for each sample.\n",
    "# Lower scores indicate more anomalous samples.\n",
    "predictions = model.predict(X)\n",
    "anomaly_scores = model.decision_function(X)\n",
    "\n",
    "# Add predictions and anomaly scores to the DataFrame for easier analysis\n",
    "X['anomaly'] = predictions\n",
    "X['anomaly_score'] = anomaly_scores\n",
    "\n",
    "print(\"Anomaly predictions and scores generated.\")\n",
    "\n",
    "# Step 2: Display anomaly counts\n",
    "anomaly_count = X[X['anomaly'] == -1].shape[0]\n",
    "inlier_count = X[X['anomaly'] == 1].shape[0]\n",
    "\n",
    "print(f\"Total samples: {X.shape[0]}\")\n",
    "print(f\"Number of anomalies detected (-1): {anomaly_count}\")\n",
    "print(f\"Number of inliers detected (1): {inlier_count}\")\n",
    "print(f\"Proportion of anomalies: {anomaly_count / X.shape[0]:.4f}\")\n",
    "\n",
    "print(\"\\nFirst 10 rows with anomaly predictions and scores:\")\n",
    "print(X[['anomaly', 'anomaly_score']].head(10))\n",
    "print(\"\\n\" + \"=\"*50 + \"\\n\")\n",
    "\n",
    "\n",
    "print(\"### Task 4: Visualizing Anomalies ###\")\n",
    "print(\"\\n\" + \"=\"*50 + \"\\n\")\n",
    "\n",
    "# Step 1: Plot a scatter plot\n",
    "# For visualization, we'll pick two features. 'LSTAT' (percentage of lower status population)\n",
    "# and 'RM' (average number of rooms per dwelling) are often good for showing patterns.\n",
    "# We'll color-code points based on their anomaly status.\n",
    "\n",
    "plt.figure(figsize=(10, 7))\n",
    "# Plot inliers (anomaly == 1) in blue\n",
    "plt.scatter(X[X['anomaly'] == 1]['LSTAT'], X[X['anomaly'] == 1]['RM'],\n",
    "            c='blue', label='Inliers (Normal)', alpha=0.6, s=50)\n",
    "# Plot anomalies (anomaly == -1) in red\n",
    "plt.scatter(X[X['anomaly'] == -1]['LSTAT'], X[X['anomaly'] == -1]['RM'],\n",
    "            c='red', label='Anomalies (Outliers)', alpha=0.8, s=100, marker='X')\n",
    "\n",
    "plt.xlabel('LSTAT (% lower status of the population)')\n",
    "plt.ylabel('RM (average number of rooms per dwelling)')\n",
    "plt.title('Anomaly Detection using Isolation Forest (LSTAT vs RM)')\n",
    "plt.legend()\n",
    "plt.grid(True, linestyle='--', alpha=0.7)\n",
    "plt.show()\n",
    "\n",
    "print(\"Scatter plot generated, showing inliers (blue circles) and anomalies (red X marks).\")\n",
    "print(\"Anomalies are typically isolated points or regions in the feature space.\")\n",
    "print(\"\\n\" + \"=\"*50 + \"\\n\")\n",
    "\n",
    "\n",
    "print(\"### Task 5: Interpret Contamination Parameter ###\")\n",
    "print(\"\\n\" + \"=\"*50 + \"\\n\")\n",
    "\n",
    "print(\"The 'contamination' parameter in Isolation Forest is the proportion of outliers in the dataset.\")\n",
    "print(\"It directly influences the threshold used to classify samples as anomalies.\")\n",
    "print(\"A higher contamination value means the model expects more outliers and will classify more points as anomalies.\")\n",
    "print(\"A lower contamination value means the model expects fewer outliers and will classify fewer points as anomalies.\")\n",
    "print(\"Let's experiment with different contamination levels:\")\n",
    "\n",
    "contamination_levels = [0.005, 0.01, 0.05, 0.1] # Try different percentages of expected anomalies\n",
    "\n",
    "for contam in contamination_levels:\n",
    "    print(f\"\\n--- Experimenting with contamination = {contam} ---\")\n",
    "    model_exp = IsolationForest(n_estimators=100, contamination=contam, random_state=42)\n",
    "    model_exp.fit(X.drop(columns=['anomaly', 'anomaly_score'], errors='ignore')) # Refit on original data\n",
    "    predictions_exp = model_exp.predict(X.drop(columns=['anomaly', 'anomaly_score'], errors='ignore'))\n",
    "\n",
    "    anomaly_count_exp = np.sum(predictions_exp == -1)\n",
    "    print(f\"  Number of anomalies detected: {anomaly_count_exp}\")\n",
    "    print(f\"  Proportion of anomalies: {anomaly_count_exp / X.shape[0]:.4f}\")\n",
    "\n",
    "    # Visualize for a couple of contamination levels to see the difference\n",
    "    if contam in [0.005, 0.05]:\n",
    "        X_exp = X.copy()\n",
    "        X_exp['anomaly'] = predictions_exp\n",
    "\n",
    "        plt.figure(figsize=(10, 7))\n",
    "        plt.scatter(X_exp[X_exp['anomaly'] == 1]['LSTAT'], X_exp[X_exp['anomaly'] == 1]['RM'],\n",
    "                    c='blue', label='Inliers (Normal)', alpha=0.6, s=50)\n",
    "        plt.scatter(X_exp[X_exp['anomaly'] == -1]['LSTAT'], X_exp[X_exp['anomaly'] == -1]['RM'],\n",
    "                    c='red', label=f'Anomalies (Contamination={contam})', alpha=0.8, s=100, marker='X')\n",
    "        plt.xlabel('LSTAT (% lower status of the population)')\n",
    "        plt.ylabel('RM (average number of rooms per dwelling)')\n",
    "        plt.title(f'Anomaly Detection with Contamination = {contam}')\n",
    "        plt.legend()\n",
    "        plt.grid(True, linestyle='--', alpha=0.7)\n",
    "        plt.show()\n",
    "        print(f\"  Plot generated for contamination = {contam}\")\n",
    "\n",
    "print(\"\\nObservation:\")\n",
    "print(\"As the 'contamination' parameter increases, the number of samples classified as anomalies also increases.\")\n",
    "print(\"This parameter acts as a threshold, effectively controlling how many of the 'most anomalous' points are flagged as outliers.\")\n",
    "print(\"Choosing the right 'contamination' value often requires domain knowledge or iterative experimentation and validation.\")\n",
    "# write your code from here"
   ]
  },
  {
   "cell_type": "markdown",
   "metadata": {},
   "source": [
    "### Task 2: Building an Isolation Forest\n",
    "**Description**: Initialize an Isolation Forest model and fit it to the Boston dataset.\n",
    "\n",
    "**Steps**:\n",
    "1. Initialize Isolation Forest\n",
    "2. Fit model"
   ]
  },
  {
   "cell_type": "code",
   "execution_count": null,
   "metadata": {},
   "outputs": [],
   "source": [
    "# write your code from here"
   ]
  },
  {
   "cell_type": "markdown",
   "metadata": {},
   "source": [
    "### Task 3: Detecting Anomalies\n",
    "**Description**: Use the fitted Isolation Forest model to predict anomalies.\n",
    "\n",
    "**Steps**:\n",
    "1. Predict anomalies\n",
    "2. Display anomaly counts"
   ]
  },
  {
   "cell_type": "code",
   "execution_count": null,
   "metadata": {},
   "outputs": [],
   "source": [
    "# write your code from here"
   ]
  },
  {
   "cell_type": "markdown",
   "metadata": {},
   "source": [
    "### Task 4: Visualizing Anomalies\n",
    "**Description**: Visualize the results to see which samples are considered anomalies.\n",
    "\n",
    "**Steps**:\n",
    "1. Plot a scatter plot"
   ]
  },
  {
   "cell_type": "code",
   "execution_count": null,
   "metadata": {},
   "outputs": [],
   "source": [
    "# write your code from here"
   ]
  },
  {
   "cell_type": "markdown",
   "metadata": {},
   "source": [
    "### Task 5: Interpret Contamination Parameter\n",
    "**Description**: Experiment with different contamination levels."
   ]
  },
  {
   "cell_type": "code",
   "execution_count": null,
   "metadata": {},
   "outputs": [],
   "source": [
    "# write your code from here"
   ]
  }
 ],
 "metadata": {
  "kernelspec": {
   "display_name": "Python 3",
   "language": "python",
   "name": "python3"
  },
  "language_info": {
   "codemirror_mode": {
    "name": "ipython",
    "version": 3
   },
   "file_extension": ".py",
   "mimetype": "text/x-python",
   "name": "python",
   "nbconvert_exporter": "python",
   "pygments_lexer": "ipython3",
   "version": "3.10.12"
  }
 },
 "nbformat": 4,
 "nbformat_minor": 2
}
