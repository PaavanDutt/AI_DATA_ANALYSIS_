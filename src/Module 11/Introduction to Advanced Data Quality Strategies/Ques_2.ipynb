{
 "cells": [
  {
   "cell_type": "markdown",
   "metadata": {},
   "source": [
    "### Handling Unstructured Data with Python\n",
    "**Description**: Extract structured data from unstructured text using Python.\n",
    "\n",
    "**Steps**:\n",
    "1. Load and analyze an unstructured text document.\n",
    "2. Extract information using regex."
   ]
  },
  {
   "cell_type": "code",
   "execution_count": 1,
   "metadata": {},
   "outputs": [
    {
     "name": "stdout",
     "output_type": "stream",
     "text": [
      "### Extracted Structured Data ###\n",
      "{'name': 'John Doe', 'email': 'john.doe@example.com', 'phone': '(555) 123-4567'}\n",
      "{'name': 'Jane Smith', 'email': 'jane.smith@sample.org', 'phone': '(555) 987-6543'}\n",
      "\n",
      "### Extracted Dates ###\n",
      "March 5, 2025\n",
      "March 10, 2025\n"
     ]
    }
   ],
   "source": [
    "# write your code from here\n",
    "import re\n",
    "\n",
    "# Step 1: Load and analyze unstructured text\n",
    "text = \"\"\"\n",
    "Meeting Notes - March 5, 2025\n",
    "Attendee: John Doe\n",
    "Email: john.doe@example.com\n",
    "Phone: (555) 123-4567\n",
    "\n",
    "Attendee: Jane Smith\n",
    "Email: jane.smith@sample.org\n",
    "Phone: (555) 987-6543\n",
    "\n",
    "Note: Follow up by March 10, 2025.\n",
    "\"\"\"\n",
    "\n",
    "# Step 2: Define regex patterns and extract information\n",
    "pattern = r\"Attendee:\\s*(?P<name>.+?)\\nEmail:\\s*(?P<email>.+?)\\nPhone:\\s*(?P<phone>.+?)\\n\"\n",
    "\n",
    "matches = re.finditer(pattern, text)\n",
    "\n",
    "structured_data = [match.groupdict() for match in matches]\n",
    "\n",
    "# Optional: Extract all dates\n",
    "dates = re.findall(r\"\\b(?:January|February|March|April|May|June|July|August|September|October|November|December)\\s+\\d{1,2},\\s+\\d{4}\", text)\n",
    "\n",
    "# Step 3: Display results\n",
    "print(\"### Extracted Structured Data ###\")\n",
    "for entry in structured_data:\n",
    "    print(entry)\n",
    "\n",
    "print(\"\\n### Extracted Dates ###\")\n",
    "for date in dates:\n",
    "    print(date)\n"
   ]
  }
 ],
 "metadata": {
  "kernelspec": {
   "display_name": "Python 3",
   "language": "python",
   "name": "python3"
  },
  "language_info": {
   "codemirror_mode": {
    "name": "ipython",
    "version": 3
   },
   "file_extension": ".py",
   "mimetype": "text/x-python",
   "name": "python",
   "nbconvert_exporter": "python",
   "pygments_lexer": "ipython3",
   "version": "3.10.12"
  }
 },
 "nbformat": 4,
 "nbformat_minor": 2
}
