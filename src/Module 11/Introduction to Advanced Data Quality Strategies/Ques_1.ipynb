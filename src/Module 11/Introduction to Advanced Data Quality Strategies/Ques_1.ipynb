{
 "cells": [
  {
   "cell_type": "markdown",
   "metadata": {},
   "source": [
    "### Task 1: Data Profiling to Understand Data Quality\n",
    "**Description**: Use basic statistical methods to profile a dataset and identify potential quality issues.\n",
    "\n",
    "**Steps**:\n",
    "1. Load the dataset using pandas in Python.\n",
    "2. Understand the data by checking its basic statistics.\n",
    "3. Identify null values.\n",
    "4. Check unique values for categorical columns.\n",
    "5. Review outliers using box plots."
   ]
  },
  {
   "cell_type": "code",
   "execution_count": 1,
   "metadata": {},
   "outputs": [
    {
     "name": "stdout",
     "output_type": "stream",
     "text": [
      "### Basic Statistics ###\n",
      "               age gender  purchase_amount\n",
      "count     6.000000      6         7.000000\n",
      "unique         NaN      2              NaN\n",
      "top            NaN      M              NaN\n",
      "freq           NaN      3              NaN\n",
      "mean     44.500000    NaN       524.285714\n",
      "std      37.489999    NaN      1092.807655\n",
      "min      22.000000    NaN        50.000000\n",
      "25%      26.250000    NaN        85.000000\n",
      "50%      30.000000    NaN       100.000000\n",
      "75%      37.500000    NaN       175.000000\n",
      "max     120.000000    NaN      3000.000000\n",
      "\n",
      "### Missing Values ###\n",
      "age                1\n",
      "gender             1\n",
      "purchase_amount    0\n",
      "dtype: int64\n",
      "\n",
      "### Unique Values (Categoricals) ###\n",
      "gender: ['M' 'F' None]\n",
      "\n",
      "### Visualizing Outliers with Box Plots ###\n"
     ]
    },
    {
     "data": {
      "image/png": "[encoded data removed]",
      "text/plain": [
       "<Figure size 640x480 with 1 Axes>"
      ]
     },
     "metadata": {},
     "output_type": "display_data"
    },
    {
     "data": {
      "image/png": "[encoded data removed]",
      "text/plain": [
       "<Figure size 640x480 with 1 Axes>"
      ]
     },
     "metadata": {},
     "output_type": "display_data"
    }
   ],
   "source": [
    "# write your code from here\n",
    "# Required installations (run in terminal):\n",
    "# pip install pandas seaborn matplotlib\n",
    "\n",
    "import pandas as pd\n",
    "import seaborn as sns\n",
    "import matplotlib.pyplot as plt\n",
    "\n",
    "# 1. Load the dataset\n",
    "# Replace with your file path or URL\n",
    "# Example: df = pd.read_csv(\"ecommerce_data.csv\")\n",
    "data = {\n",
    "    \"age\": [25, 30, 22, None, 40, 30, 120],\n",
    "    \"gender\": [\"M\", \"F\", \"F\", \"M\", \"F\", None, \"M\"],\n",
    "    \"purchase_amount\": [100, 150, 80, 200, 3000, 50, 90]\n",
    "}\n",
    "df = pd.DataFrame(data)\n",
    "\n",
    "# 2. Basic statistics\n",
    "print(\"### Basic Statistics ###\")\n",
    "print(df.describe(include='all'))\n",
    "\n",
    "# 3. Identify null values\n",
    "print(\"\\n### Missing Values ###\")\n",
    "print(df.isnull().sum())\n",
    "\n",
    "# 4. Unique values for categorical columns\n",
    "print(\"\\n### Unique Values (Categoricals) ###\")\n",
    "for col in df.select_dtypes(include='object'):\n",
    "    print(f\"{col}: {df[col].unique()}\")\n",
    "\n",
    "# 5. Outliers using box plots\n",
    "print(\"\\n### Visualizing Outliers with Box Plots ###\")\n",
    "numeric_cols = df.select_dtypes(include=['float64', 'int64']).columns\n",
    "for col in numeric_cols:\n",
    "    sns.boxplot(x=df[col])\n",
    "    plt.title(f\"Box Plot - {col}\")\n",
    "    plt.show()\n"
   ]
  },
  {
   "cell_type": "markdown",
   "metadata": {},
   "source": [
    "### Task 2: Implement Simple Data Validation\n",
    "**Description**: Write a Python script to validate the data types and constraints of each column in a dataset.\n",
    "\n",
    "**Steps**:\n",
    "1. Define constraints for each column.\n",
    "2. Validate each column based on its constraints."
   ]
  },
  {
   "cell_type": "code",
   "execution_count": 2,
   "metadata": {},
   "outputs": [
    {
     "name": "stdout",
     "output_type": "stream",
     "text": [
      "### Validation Results ###\n",
      "\n",
      "Column: user_id is valid.\n",
      "\n",
      "Column: age\n",
      " - Values below minimum (0) in rows: [2]\n",
      " - Values above maximum (120) in rows: [3]\n",
      "\n",
      "Column: gender\n",
      " - Invalid values in rows: [3]\n",
      "\n",
      "Column: purchase_amount\n",
      " - Values below minimum (0) in rows: [3]\n",
      " - Missing values in rows: [2]\n"
     ]
    }
   ],
   "source": [
    "# write your code from here\n",
    "import pandas as pd\n",
    "import numpy as np\n",
    "\n",
    "# Sample dataset\n",
    "data = {\n",
    "    \"user_id\": [1, 2, 3, 4],\n",
    "    \"age\": [25, 30, -1, 130],  # Invalid ages\n",
    "    \"gender\": [\"M\", \"F\", \"O\", \"X\"],  # \"X\" is invalid\n",
    "    \"purchase_amount\": [100.0, 200.5, None, -50.0]  # Negative and missing value\n",
    "}\n",
    "df = pd.DataFrame(data)\n",
    "\n",
    "# 1. Define constraints\n",
    "constraints = {\n",
    "    \"user_id\": {\"dtype\": \"int64\"},\n",
    "    \"age\": {\"dtype\": \"int64\", \"min\": 0, \"max\": 120},\n",
    "    \"gender\": {\"dtype\": \"object\", \"allowed\": [\"M\", \"F\", \"O\"]},\n",
    "    \"purchase_amount\": {\"dtype\": \"float64\", \"min\": 0}\n",
    "}\n",
    "\n",
    "# 2. Validate each column\n",
    "def validate_column(column, rules):\n",
    "    errors = []\n",
    "\n",
    "    # Check data type\n",
    "    if column not in df.columns:\n",
    "        errors.append(\"Missing column.\")\n",
    "        return errors\n",
    "\n",
    "    if df[column].dtype != rules[\"dtype\"]:\n",
    "        errors.append(f\"Expected dtype {rules['dtype']}, got {df[column].dtype}\")\n",
    "\n",
    "    # Check min value\n",
    "    if \"min\" in rules:\n",
    "        invalid_min = df[column] < rules[\"min\"]\n",
    "        if invalid_min.any():\n",
    "            errors.append(f\"Values below minimum ({rules['min']}) in rows: {df[invalid_min].index.tolist()}\")\n",
    "\n",
    "    # Check max value\n",
    "    if \"max\" in rules:\n",
    "        invalid_max = df[column] > rules[\"max\"]\n",
    "        if invalid_max.any():\n",
    "            errors.append(f\"Values above maximum ({rules['max']}) in rows: {df[invalid_max].index.tolist()}\")\n",
    "\n",
    "    # Check allowed values\n",
    "    if \"allowed\" in rules:\n",
    "        invalid = ~df[column].isin(rules[\"allowed\"])\n",
    "        if invalid.any():\n",
    "            errors.append(f\"Invalid values in rows: {df[invalid].index.tolist()}\")\n",
    "\n",
    "    # Check for nulls\n",
    "    if df[column].isnull().any():\n",
    "        errors.append(f\"Missing values in rows: {df[df[column].isnull()].index.tolist()}\")\n",
    "\n",
    "    return errors\n",
    "\n",
    "# Run validations\n",
    "print(\"### Validation Results ###\")\n",
    "for col, rule in constraints.items():\n",
    "    issues = validate_column(col, rule)\n",
    "    if issues:\n",
    "        print(f\"\\nColumn: {col}\")\n",
    "        for issue in issues:\n",
    "            print(\" -\", issue)\n",
    "    else:\n",
    "        print(f\"\\nColumn: {col} is valid.\")\n"
   ]
  },
  {
   "cell_type": "markdown",
   "metadata": {},
   "source": [
    "### Task 3: Detect Missing Data Patterns\n",
    "**Description**: Analyze and visualize missing data patterns in a dataset.\n",
    "\n",
    "**Steps**:\n",
    "1. Visualize missing data using a heatmap.\n",
    "2. Identify patterns in missing data."
   ]
  },
  {
   "cell_type": "code",
   "execution_count": 3,
   "metadata": {},
   "outputs": [
    {
     "ename": "ModuleNotFoundError",
     "evalue": "No module named 'missingno'",
     "output_type": "error",
     "traceback": [
      "\u001b[0;31m---------------------------------------------------------------------------\u001b[0m",
      "\u001b[0;31mModuleNotFoundError\u001b[0m                       Traceback (most recent call last)",
      "Cell \u001b[0;32mIn[3], line 8\u001b[0m\n\u001b[1;32m      6\u001b[0m \u001b[38;5;28;01mimport\u001b[39;00m\u001b[38;5;250m \u001b[39m\u001b[38;5;21;01mseaborn\u001b[39;00m\u001b[38;5;250m \u001b[39m\u001b[38;5;28;01mas\u001b[39;00m\u001b[38;5;250m \u001b[39m\u001b[38;5;21;01msns\u001b[39;00m\n\u001b[1;32m      7\u001b[0m \u001b[38;5;28;01mimport\u001b[39;00m\u001b[38;5;250m \u001b[39m\u001b[38;5;21;01mmatplotlib\u001b[39;00m\u001b[38;5;21;01m.\u001b[39;00m\u001b[38;5;21;01mpyplot\u001b[39;00m\u001b[38;5;250m \u001b[39m\u001b[38;5;28;01mas\u001b[39;00m\u001b[38;5;250m \u001b[39m\u001b[38;5;21;01mplt\u001b[39;00m\n\u001b[0;32m----> 8\u001b[0m \u001b[38;5;28;01mimport\u001b[39;00m\u001b[38;5;250m \u001b[39m\u001b[38;5;21;01mmissingno\u001b[39;00m\u001b[38;5;250m \u001b[39m\u001b[38;5;28;01mas\u001b[39;00m\u001b[38;5;250m \u001b[39m\u001b[38;5;21;01mmsno\u001b[39;00m\n\u001b[1;32m     10\u001b[0m \u001b[38;5;66;03m# Sample dataset with missing values\u001b[39;00m\n\u001b[1;32m     11\u001b[0m data \u001b[38;5;241m=\u001b[39m {\n\u001b[1;32m     12\u001b[0m     \u001b[38;5;124m\"\u001b[39m\u001b[38;5;124muser_id\u001b[39m\u001b[38;5;124m\"\u001b[39m: [\u001b[38;5;241m1\u001b[39m, \u001b[38;5;241m2\u001b[39m, \u001b[38;5;241m3\u001b[39m, \u001b[38;5;241m4\u001b[39m, \u001b[38;5;241m5\u001b[39m],\n\u001b[1;32m     13\u001b[0m     \u001b[38;5;124m\"\u001b[39m\u001b[38;5;124mage\u001b[39m\u001b[38;5;124m\"\u001b[39m: [\u001b[38;5;241m25\u001b[39m, \u001b[38;5;28;01mNone\u001b[39;00m, \u001b[38;5;241m30\u001b[39m, \u001b[38;5;28;01mNone\u001b[39;00m, \u001b[38;5;241m22\u001b[39m],\n\u001b[1;32m     14\u001b[0m     \u001b[38;5;124m\"\u001b[39m\u001b[38;5;124mgender\u001b[39m\u001b[38;5;124m\"\u001b[39m: [\u001b[38;5;124m\"\u001b[39m\u001b[38;5;124mM\u001b[39m\u001b[38;5;124m\"\u001b[39m, \u001b[38;5;124m\"\u001b[39m\u001b[38;5;124mF\u001b[39m\u001b[38;5;124m\"\u001b[39m, \u001b[38;5;28;01mNone\u001b[39;00m, \u001b[38;5;124m\"\u001b[39m\u001b[38;5;124mM\u001b[39m\u001b[38;5;124m\"\u001b[39m, \u001b[38;5;28;01mNone\u001b[39;00m],\n\u001b[1;32m     15\u001b[0m     \u001b[38;5;124m\"\u001b[39m\u001b[38;5;124mincome\u001b[39m\u001b[38;5;124m\"\u001b[39m: [\u001b[38;5;241m50000\u001b[39m, \u001b[38;5;28;01mNone\u001b[39;00m, \u001b[38;5;241m62000\u001b[39m, \u001b[38;5;241m58000\u001b[39m, \u001b[38;5;28;01mNone\u001b[39;00m]\n\u001b[1;32m     16\u001b[0m }\n",
      "\u001b[0;31mModuleNotFoundError\u001b[0m: No module named 'missingno'"
     ]
    }
   ],
   "source": [
    "# write your code from here\n",
    "# Required installations (run in terminal):\n",
    "# pip install pandas seaborn matplotlib missingno\n",
    "\n",
    "import pandas as pd\n",
    "import seaborn as sns\n",
    "import matplotlib.pyplot as plt\n",
    "import missingno as msno\n",
    "\n",
    "# Sample dataset with missing values\n",
    "data = {\n",
    "    \"user_id\": [1, 2, 3, 4, 5],\n",
    "    \"age\": [25, None, 30, None, 22],\n",
    "    \"gender\": [\"M\", \"F\", None, \"M\", None],\n",
    "    \"income\": [50000, None, 62000, 58000, None]\n",
    "}\n",
    "df = pd.DataFrame(data)\n",
    "\n",
    "# 1. Visualize missing data using heatmap\n",
    "print(\"### Missing Data Heatmap ###\")\n",
    "plt.figure(figsize=(8, 4))\n",
    "sns.heatmap(df.isnull(), cbar=False, cmap=\"viridis\", yticklabels=False)\n",
    "plt.title(\"Missing Data Heatmap\")\n",
    "plt.show()\n",
    "\n",
    "# Optional: Use missingno for advanced visualization\n",
    "print(\"### Missingno Matrix ###\")\n",
    "msno.matrix(df)\n",
    "plt.show()\n",
    "\n",
    "# 2. Identify patterns in missing data\n",
    "print(\"\\n### Missing Data Count Per Column ###\")\n",
    "print(df.isnull().sum())\n",
    "\n",
    "print(\"\\n### Missing Data Pattern Correlations ###\")\n",
    "# Use missingno's heatmap to show nullity correlations\n",
    "msno.heatmap(df)\n",
    "plt.show()\n",
    "\n",
    "# Additional: Check if missing values in 'age' relate to 'gender' or 'income'\n",
    "print(\"\\n### Pattern Check: Rows with missing 'age' ###\")\n",
    "print(df[df['age'].isnull()])\n"
   ]
  },
  {
   "cell_type": "markdown",
   "metadata": {},
   "source": [
    "### Task 4: Integrate Automated Data Quality Checks\n",
    "**Description**: Integrate automated data quality checks using the Great Expectations library for a dataset.\n",
    "\n",
    "**Steps**:\n",
    "1. Install and initialize Great Expectations.\n",
    "2. Set up Great Expectations.\n",
    "3. Add further checks and validate."
   ]
  },
  {
   "cell_type": "code",
   "execution_count": 4,
   "metadata": {},
   "outputs": [
    {
     "ename": "AttributeError",
     "evalue": "module 'great_expectations' has no attribute 'from_pandas'",
     "output_type": "error",
     "traceback": [
      "\u001b[0;31m---------------------------------------------------------------------------\u001b[0m",
      "\u001b[0;31mAttributeError\u001b[0m                            Traceback (most recent call last)",
      "Cell \u001b[0;32mIn[4], line 18\u001b[0m\n\u001b[1;32m     15\u001b[0m df \u001b[38;5;241m=\u001b[39m pd\u001b[38;5;241m.\u001b[39mDataFrame(data)\n\u001b[1;32m     17\u001b[0m \u001b[38;5;66;03m# Step 3: Convert pandas DataFrame to GE dataset\u001b[39;00m\n\u001b[0;32m---> 18\u001b[0m dataset \u001b[38;5;241m=\u001b[39m \u001b[43mge\u001b[49m\u001b[38;5;241;43m.\u001b[39;49m\u001b[43mfrom_pandas\u001b[49m(df)\n\u001b[1;32m     20\u001b[0m \u001b[38;5;66;03m# Step 4: Add expectations (automated data checks)\u001b[39;00m\n\u001b[1;32m     21\u001b[0m dataset\u001b[38;5;241m.\u001b[39mexpect_column_values_to_not_be_null(\u001b[38;5;124m\"\u001b[39m\u001b[38;5;124muser_id\u001b[39m\u001b[38;5;124m\"\u001b[39m)\n",
      "\u001b[0;31mAttributeError\u001b[0m: module 'great_expectations' has no attribute 'from_pandas'"
     ]
    }
   ],
   "source": [
    "# write your code from here\n",
    "# Step 1: Install Great Expectations (run in terminal, not in script)\n",
    "# pip install great_expectations\n",
    "\n",
    "import pandas as pd\n",
    "import great_expectations as ge\n",
    "\n",
    "# Step 2: Sample dataset\n",
    "data = {\n",
    "    \"user_id\": [1, 2, 3, 4, 5],\n",
    "    \"age\": [25, 30, 150, None, 22],  # 150 and None are issues\n",
    "    \"gender\": [\"M\", \"F\", \"F\", \"X\", None],  # \"X\" and None are issues\n",
    "    \"purchase_amount\": [100.0, 250.5, -50.0, 300.0, None]  # -50 and None are issues\n",
    "}\n",
    "df = pd.DataFrame(data)\n",
    "\n",
    "# Step 3: Convert pandas DataFrame to GE dataset\n",
    "dataset = ge.from_pandas(df)\n",
    "\n",
    "# Step 4: Add expectations (automated data checks)\n",
    "dataset.expect_column_values_to_not_be_null(\"user_id\")\n",
    "dataset.expect_column_values_to_be_between(\"age\", min_value=0, max_value=120, mostly=1.0)\n",
    "dataset.expect_column_values_to_be_in_set(\"gender\", [\"M\", \"F\", \"O\"], mostly=1.0)\n",
    "dataset.expect_column_values_to_be_greater_than(\"purchase_amount\", 0, mostly=1.0)\n",
    "\n",
    "# Step 5: Validate and print results\n",
    "results = dataset.validate()\n",
    "\n",
    "print(\"\\n### Great Expectations Validation Results ###\")\n",
    "for res in results[\"results\"]:\n",
    "    print(f\"{res['expectation_config']['expectation_type']}: {'✅ Passed' if res['success'] else '❌ Failed'}\")\n",
    "\n",
    "# Optional: Full output\n",
    "# print(results)\n"
   ]
  }
 ],
 "metadata": {
  "kernelspec": {
   "display_name": "Python 3",
   "language": "python",
   "name": "python3"
  },
  "language_info": {
   "codemirror_mode": {
    "name": "ipython",
    "version": 3
   },
   "file_extension": ".py",
   "mimetype": "text/x-python",
   "name": "python",
   "nbconvert_exporter": "python",
   "pygments_lexer": "ipython3",
   "version": "3.10.12"
  }
 },
 "nbformat": 4,
 "nbformat_minor": 2
}
