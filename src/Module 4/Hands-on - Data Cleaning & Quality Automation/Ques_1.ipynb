{
 "cells": [
  {
   "cell_type": "code",
   "execution_count": 1,
   "metadata": {},
   "outputs": [
    {
     "name": "stdout",
     "output_type": "stream",
     "text": [
      "      A     B\n",
      "0   cat  10.0\n",
      "1   dog  20.0\n",
      "2   cat  15.0\n",
      "3   dog  20.0\n",
      "4  bird   5.0\n"
     ]
    }
   ],
   "source": [
    "# Question 1: Handling Missing Values with Conditional Filling\n",
    "# Description: Fill missing values in a specific column based on a condition from another column.\n",
    "\n",
    "import pandas as pd\n",
    "import numpy as np\n",
    "\n",
    "# Sample data\n",
    "data = {'A': ['cat', 'dog', 'cat', 'dog', 'bird'],\n",
    "        'B': [10, np.nan, 15, np.nan, 5]}\n",
    "df = pd.DataFrame(data)\n",
    "\n",
    "# Define a function for conditional filling\n",
    "def fill_based_on_condition(row):\n",
    "    if pd.isna(row['B']):\n",
    "        if row['A'] == 'dog':\n",
    "            return 20\n",
    "        else:\n",
    "            return row['B']  # keep NaN or fill some default\n",
    "    else:\n",
    "        return row['B']\n",
    "\n",
    "# Apply the function row-wise\n",
    "df['B'] = df.apply(fill_based_on_condition, axis=1)\n",
    "\n",
    "print(df)\n"
   ]
  },
  {
   "cell_type": "code",
   "execution_count": null,
   "metadata": {},
   "outputs": [],
   "source": [
    "# Question 2: Removing Outliers by Rescaling\n",
    "# Description: Remove outliers by standardizing a numerical column using z-scores.\n",
    "\n"
   ]
  },
  {
   "cell_type": "code",
   "execution_count": 2,
   "metadata": {},
   "outputs": [
    {
     "name": "stdout",
     "output_type": "stream",
     "text": [
      "      Name  Age\n",
      "0    Alice   25\n",
      "1      Bob    0\n",
      "2  Charlie   30\n",
      "3    David    0\n"
     ]
    }
   ],
   "source": [
    "# Question 3: Applying Data Type Conversion\n",
    "# Description: Convert the 'Age' column to integers after filling missing values.\n",
    "\n",
    "import pandas as pd\n",
    "import numpy as np\n",
    "\n",
    "# Sample data\n",
    "data = {'Name': ['Alice', 'Bob', 'Charlie', 'David'],\n",
    "        'Age': [25, np.nan, 30, np.nan]}\n",
    "df = pd.DataFrame(data)\n",
    "\n",
    "# Step 1: Fill missing values in 'Age' with a default, e.g., 0 or the mean age\n",
    "df['Age'] = df['Age'].fillna(0)  # or use df['Age'].fillna(df['Age'].mean())\n",
    "\n",
    "# Step 2: Convert 'Age' column to integer type\n",
    "df['Age'] = df['Age'].astype(int)\n",
    "\n",
    "print(df)\n"
   ]
  },
  {
   "cell_type": "code",
   "execution_count": 3,
   "metadata": {},
   "outputs": [],
   "source": [
    "# Question 4: Automating Data Cleaning with Functions\n",
    "# Description: Create a function that automates the process of filling missing values, removing duplicates, and standardizing column names.\n",
    "\n",
    "import pandas as pd\n",
    "\n",
    "def clean_data(df, fillna_dict=None, fillna_value=None):\n",
    "    \"\"\"\n",
    "    Automates data cleaning:\n",
    "    - Fill missing values per column or a default value.\n",
    "    - Remove duplicate rows.\n",
    "    - Standardize column names (lowercase, underscores instead of spaces).\n",
    "\n",
    "    Parameters:\n",
    "        df (pd.DataFrame): Input dataframe to clean.\n",
    "        fillna_dict (dict, optional): Dictionary of {column: fill_value} to fill missing values.\n",
    "        fillna_value (scalar, optional): Default fill value for all missing values (used if fillna_dict is None).\n",
    "    \n",
    "    Returns:\n",
    "        pd.DataFrame: Cleaned dataframe.\n",
    "    \"\"\"\n",
    "    df = df.copy()\n",
    "\n",
    "    # Fill missing values\n",
    "    if fillna_dict is not None:\n",
    "        for col, val in fillna_dict.items():\n",
    "            if col in df.columns:\n",
    "                df[col] = df[col].fillna(val)\n",
    "    elif fillna_value is not None:\n",
    "        df = df.fillna(fillna_value)\n",
    "\n",
    "    # Remove duplicates\n",
    "    df = df.drop_duplicates()\n",
    "\n",
    "    # Standardize column names\n",
    "    df.columns = df.columns.str.strip().str.lower().str.replace(' ', '_')\n",
    "\n",
    "    return df\n",
    "\n"
   ]
  },
  {
   "cell_type": "code",
   "execution_count": 4,
   "metadata": {},
   "outputs": [
    {
     "name": "stdout",
     "output_type": "stream",
     "text": [
      "   Score  Score_normalized\n",
      "0     20              0.50\n",
      "1     15              0.25\n",
      "2     30              1.00\n",
      "3     10              0.00\n",
      "4     25              0.75\n"
     ]
    }
   ],
   "source": [
    "# Question 5: Complex Data Normalization\n",
    "# Description: Normalize a numeric column to a range using min-max scaling.\n",
    "\n",
    "import pandas as pd\n",
    "\n",
    "# Sample data\n",
    "data = {'Score': [20, 15, 30, 10, 25]}\n",
    "df = pd.DataFrame(data)\n",
    "\n",
    "# Min-max normalization\n",
    "df['Score_normalized'] = (df['Score'] - df['Score'].min()) / (df['Score'].max() - df['Score'].min())\n",
    "\n",
    "print(df)\n"
   ]
  },
  {
   "cell_type": "code",
   "execution_count": 5,
   "metadata": {},
   "outputs": [
    {
     "name": "stdout",
     "output_type": "stream",
     "text": [
      "   Score  Score_normalized  Score_scaled_sklearn\n",
      "0     20              0.50                  0.50\n",
      "1     15              0.25                  0.25\n",
      "2     30              1.00                  1.00\n",
      "3     10              0.00                  0.00\n",
      "4     25              0.75                  0.75\n"
     ]
    }
   ],
   "source": [
    "from sklearn.preprocessing import MinMaxScaler\n",
    "\n",
    "scaler = MinMaxScaler()\n",
    "df['Score_scaled_sklearn'] = scaler.fit_transform(df[['Score']])\n",
    "\n",
    "print(df)\n"
   ]
  }
 ],
 "metadata": {
  "kernelspec": {
   "display_name": "Python 3",
   "language": "python",
   "name": "python3"
  },
  "language_info": {
   "codemirror_mode": {
    "name": "ipython",
    "version": 3
   },
   "file_extension": ".py",
   "mimetype": "text/x-python",
   "name": "python",
   "nbconvert_exporter": "python",
   "pygments_lexer": "ipython3",
   "version": "3.10.12"
  }
 },
 "nbformat": 4,
 "nbformat_minor": 2
}
