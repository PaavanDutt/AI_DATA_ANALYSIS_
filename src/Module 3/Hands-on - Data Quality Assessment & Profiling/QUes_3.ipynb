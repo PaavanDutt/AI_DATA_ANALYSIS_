{
 "cells": [
  {
   "cell_type": "code",
   "execution_count": null,
   "metadata": {},
   "outputs": [],
   "source": [
    "# Part 1: Load a Dataset & Check Missing Values\n",
    "\n",
    "# Task 1: Iris Dataset\n",
    "# - Load the dataset using Pandas.\n",
    "# - Check for missing values in the entire dataset.\n",
    "\n",
    "\n",
    "\n",
    "\n",
    "\n",
    "\n",
    "\n",
    "\n",
    "# Part 2: Identify Duplicates & Inconsistencies\n",
    "\n",
    "# Task 2: Inconsistent Entries in a Sample Dataset\n",
    "# - Assume you have a dataset with a 'Gender' column. Identify inconsistent entries like 'M', 'Male', or 'male'.\n",
    "\n",
    "\n",
    "\n",
    "\n",
    "\n",
    "\n",
    "\n",
    "\n",
    "\n",
    "# Part 3: Generate a Data Quality Report\n",
    "\n",
    "# Task 3: Iris Dataset Summary\n",
    "# - Generate basic descriptive statistics for the Iris dataset.\n",
    "\n",
    "\n",
    "\n",
    "\n"
   ]
  },
  {
   "cell_type": "code",
   "execution_count": 1,
   "metadata": {},
   "outputs": [
    {
     "name": "stdout",
     "output_type": "stream",
     "text": [
      "Missing values per column:\n",
      "SepalLength    0\n",
      "SepalWidth     0\n",
      "PetalLength    0\n",
      "PetalWidth     0\n",
      "Species        0\n",
      "dtype: int64\n"
     ]
    }
   ],
   "source": [
    "import pandas as pd\n",
    "\n",
    "# Load the Iris dataset from UCI repository or local CSV\n",
    "url = \"https://archive.ics.uci.edu/ml/machine-learning-databases/iris/iris.data\"\n",
    "column_names = ['SepalLength', 'SepalWidth', 'PetalLength', 'PetalWidth', 'Species']\n",
    "\n",
    "iris_df = pd.read_csv(url, names=column_names)\n",
    "\n",
    "# Check for missing values in the entire dataset\n",
    "missing_values = iris_df.isnull().sum()\n",
    "\n",
    "print(\"Missing values per column:\")\n",
    "print(missing_values)\n"
   ]
  },
  {
   "cell_type": "code",
   "execution_count": 2,
   "metadata": {},
   "outputs": [
    {
     "name": "stdout",
     "output_type": "stream",
     "text": [
      "Inconsistent 'Gender' entries:\n",
      "  Gender\n",
      "0      F\n",
      "1      M\n"
     ]
    }
   ],
   "source": [
    "sample_data = {\n",
    "    'Name': ['Alice', 'Bob', 'Charlie', 'David', 'Eva'],\n",
    "    'Gender': ['F', 'M', 'Male', 'female', 'male']\n",
    "}\n",
    "df = pd.DataFrame(sample_data)\n",
    "\n",
    "# Normalize 'Gender' entries to lowercase strings for comparison\n",
    "df['Gender_normalized'] = df['Gender'].str.lower()\n",
    "\n",
    "# Define allowed consistent values, e.g., 'male' and 'female'\n",
    "allowed_genders = {'male', 'female'}\n",
    "\n",
    "# Find inconsistent entries\n",
    "inconsistent_entries = df[~df['Gender_normalized'].isin(allowed_genders)]\n",
    "\n",
    "print(\"Inconsistent 'Gender' entries:\")\n",
    "print(inconsistent_entries[['Gender']])\n"
   ]
  },
  {
   "cell_type": "code",
   "execution_count": 3,
   "metadata": {},
   "outputs": [
    {
     "name": "stdout",
     "output_type": "stream",
     "text": [
      "Basic statistics summary of Iris dataset:\n",
      "       SepalLength  SepalWidth  PetalLength  PetalWidth\n",
      "count   150.000000  150.000000   150.000000  150.000000\n",
      "mean      5.843333    3.054000     3.758667    1.198667\n",
      "std       0.828066    0.433594     1.764420    0.763161\n",
      "min       4.300000    2.000000     1.000000    0.100000\n",
      "25%       5.100000    2.800000     1.600000    0.300000\n",
      "50%       5.800000    3.000000     4.350000    1.300000\n",
      "75%       6.400000    3.300000     5.100000    1.800000\n",
      "max       7.900000    4.400000     6.900000    2.500000\n"
     ]
    }
   ],
   "source": [
    "# Generate basic descriptive statistics for the Iris dataset\n",
    "stats_summary = iris_df.describe()\n",
    "\n",
    "print(\"Basic statistics summary of Iris dataset:\")\n",
    "print(stats_summary)\n"
   ]
  }
 ],
 "metadata": {
  "kernelspec": {
   "display_name": "Python 3",
   "language": "python",
   "name": "python3"
  },
  "language_info": {
   "codemirror_mode": {
    "name": "ipython",
    "version": 3
   },
   "file_extension": ".py",
   "mimetype": "text/x-python",
   "name": "python",
   "nbconvert_exporter": "python",
   "pygments_lexer": "ipython3",
   "version": "3.10.12"
  }
 },
 "nbformat": 4,
 "nbformat_minor": 2
}
