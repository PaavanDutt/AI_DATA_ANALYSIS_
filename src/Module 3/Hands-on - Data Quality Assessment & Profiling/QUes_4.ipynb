{
 "cells": [
  {
   "cell_type": "code",
   "execution_count": null,
   "metadata": {},
   "outputs": [],
   "source": [
    "# Part 1: Load a Dataset & Check Missing Values\n",
    "\n",
    "# Task 1: Customer Dataset\n",
    "# - Load a custom CSV file named customer_data.csv .\n",
    "# - Find any missing values in specific columns like 'Email' and 'Phone'.\n",
    "\n",
    "\n",
    "\n",
    "\n",
    "\n",
    "\n",
    "# Part 2: Identify Duplicates & Inconsistencies\n",
    "\n",
    "# Task 2: Duplicate Emails in Customer Dataset\n",
    "# - Identify duplicate emails which might indicate duplicate customer records.\n",
    "\n",
    "\n",
    "\n",
    "\n",
    "\n",
    "\n",
    "\n",
    "# Part 3: Generate a Data Quality Report\n",
    "\n",
    "# Task 3: Customer Dataset Report\n",
    "# - Summarize the data quality with missing values, duplicates, and inconsistencies for customer_data.csv .\n",
    "\n",
    "\n",
    "\n",
    "\n",
    "\n"
   ]
  },
  {
   "cell_type": "code",
   "execution_count": 1,
   "metadata": {},
   "outputs": [
    {
     "name": "stdout",
     "output_type": "stream",
     "text": [
      "Missing values in 'Email' column: 1\n",
      "Missing values in 'Phone' column: 1\n"
     ]
    }
   ],
   "source": [
    "import pandas as pd\n",
    "\n",
    "# Load the customer dataset from CSV file\n",
    "customer_df = pd.read_csv('/workspaces/AI_DATA_ANALYSIS_/src/Module 3/Hands-on - Data Quality Assessment & Profiling/customer_data.csv')\n",
    "\n",
    "# Check for missing values specifically in 'Email' and 'Phone' columns\n",
    "missing_email = customer_df['Email'].isnull().sum()\n",
    "missing_phone = customer_df['Phone'].isnull().sum()\n",
    "\n",
    "print(f\"Missing values in 'Email' column: {missing_email}\")\n",
    "print(f\"Missing values in 'Phone' column: {missing_phone}\")\n"
   ]
  },
  {
   "cell_type": "code",
   "execution_count": 2,
   "metadata": {},
   "outputs": [
    {
     "name": "stdout",
     "output_type": "stream",
     "text": [
      "Number of duplicate emails: 1\n",
      "Duplicate email records:\n",
      "               Email\n",
      "0  alice@example.com\n",
      "6  alice@example.com\n"
     ]
    }
   ],
   "source": [
    "# Find duplicate emails (keep=False marks all duplicates True, not just subsequent ones)\n",
    "duplicate_emails = customer_df[customer_df.duplicated(subset=['Email'], keep=False)]\n",
    "\n",
    "print(f\"Number of duplicate emails: {duplicate_emails['Email'].nunique()}\")\n",
    "print(\"Duplicate email records:\")\n",
    "print(duplicate_emails[['Email']])\n"
   ]
  },
  {
   "cell_type": "code",
   "execution_count": 3,
   "metadata": {},
   "outputs": [
    {
     "name": "stdout",
     "output_type": "stream",
     "text": [
      "=== Customer Dataset Data Quality Report ===\n",
      "\n",
      "Missing Values per Column:\n",
      "CustomerID    0\n",
      "Name          0\n",
      "Email         1\n",
      "Phone         1\n",
      "Gender        0\n",
      "dtype: int64\n",
      "\n",
      "Number of Duplicate Rows: 0\n",
      "\n",
      "Inconsistent 'Gender' entries:\n",
      "  Gender\n",
      "3      M\n",
      "4      F\n"
     ]
    }
   ],
   "source": [
    "# Missing values per column\n",
    "missing_values = customer_df.isnull().sum()\n",
    "\n",
    "# Duplicate rows count (considering full row duplicates)\n",
    "num_duplicate_rows = customer_df.duplicated().sum()\n",
    "\n",
    "# Inconsistencies example: Let's say 'Gender' column exists and should only contain 'Male' or 'Female'\n",
    "if 'Gender' in customer_df.columns:\n",
    "    gender_normalized = customer_df['Gender'].str.lower()\n",
    "    allowed_genders = {'male', 'female'}\n",
    "    inconsistent_genders = customer_df[~gender_normalized.isin(allowed_genders)]\n",
    "else:\n",
    "    inconsistent_genders = pd.DataFrame()  # empty if no Gender column\n",
    "\n",
    "# Print Data Quality Report\n",
    "print(\"=== Customer Dataset Data Quality Report ===\\n\")\n",
    "\n",
    "print(\"Missing Values per Column:\")\n",
    "print(missing_values)\n",
    "\n",
    "print(f\"\\nNumber of Duplicate Rows: {num_duplicate_rows}\")\n",
    "\n",
    "if not inconsistent_genders.empty:\n",
    "    print(\"\\nInconsistent 'Gender' entries:\")\n",
    "    print(inconsistent_genders[['Gender']])\n",
    "else:\n",
    "    print(\"\\nNo inconsistencies detected in 'Gender' column or column not present.\")\n",
    "\n"
   ]
  }
 ],
 "metadata": {
  "kernelspec": {
   "display_name": "Python 3",
   "language": "python",
   "name": "python3"
  },
  "language_info": {
   "codemirror_mode": {
    "name": "ipython",
    "version": 3
   },
   "file_extension": ".py",
   "mimetype": "text/x-python",
   "name": "python",
   "nbconvert_exporter": "python",
   "pygments_lexer": "ipython3",
   "version": "3.10.12"
  }
 },
 "nbformat": 4,
 "nbformat_minor": 2
}
