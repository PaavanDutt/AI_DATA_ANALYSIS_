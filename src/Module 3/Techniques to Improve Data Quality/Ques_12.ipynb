{
 "cells": [
  {
   "cell_type": "markdown",
   "metadata": {},
   "source": [
    "gfhfh"
   ]
  },
  {
   "cell_type": "code",
   "execution_count": null,
   "metadata": {},
   "outputs": [],
   "source": [
    "# Activity 2: Dealing with Duplicates & Redundancy\n",
    "\n",
    "# Task A: Identifying Duplicate Records\n",
    "\n",
    "# 7. Identify Complete Duplicates:\n",
    "# - Load a dataset and identify duplicated rows.\n",
    "# - Use Pandas to detect duplicates.\n",
    "\n",
    "\n",
    "\n",
    "\n",
    "\n",
    "\n",
    "# 8. Identify Duplicates based on Specific Columns:\n",
    "# - Check for duplicates in specified columns.\n",
    "\n",
    "\n",
    "\n",
    "\n",
    "\n",
    "\n",
    "\n",
    "# 9. Count Duplicate Rows:\n",
    "# - Calculate and print the number of duplicate rows.\n",
    "\n",
    "\n",
    "\n",
    "\n",
    "\n"
   ]
  },
  {
   "cell_type": "code",
   "execution_count": 1,
   "metadata": {},
   "outputs": [
    {
     "name": "stdout",
     "output_type": "stream",
     "text": [
      "Original Data:\n",
      "   employee_id             name   age department   salary  \\\n",
      "0            1         John Doe  28.0      Sales  55000.0   \n",
      "1            2       Jane Smith  34.0        NaN  62000.0   \n",
      "2            3      Bob Johnson   NaN  Marketing  58000.0   \n",
      "3            4   Alice Williams  29.0  Marketing      NaN   \n",
      "4            5      Chris Evans  45.0      Sales  70000.0   \n",
      "5            6      Emily Davis  38.0         HR  67000.0   \n",
      "6            7              NaN  41.0         HR  65000.0   \n",
      "7            8       Mary Clark  30.0      Sales  59000.0   \n",
      "8            9      James Lewis  37.0        NaN  62000.0   \n",
      "9           10  Patricia Taylor  32.0         HR  66000.0   \n",
      "\n",
      "                         email  \n",
      "0         john.doe@example.com  \n",
      "1       jane.smith@example.com  \n",
      "2      bob.johnson@example.com  \n",
      "3   alice.williams@example.com  \n",
      "4                          NaN  \n",
      "5      emily.davis@example.com  \n",
      "6    michael.brown@example.com  \n",
      "7       mary.clark@example.com  \n",
      "8      james.lewis@example.com  \n",
      "9  patricia.taylor@example.com  \n",
      "\n",
      "Complete duplicate rows:\n",
      "Empty DataFrame\n",
      "Columns: [employee_id, name, age, department, salary, email]\n",
      "Index: []\n",
      "\n",
      "Duplicate rows based on 'name' and 'email':\n",
      "Empty DataFrame\n",
      "Columns: [employee_id, name, age, department, salary, email]\n",
      "Index: []\n",
      "\n",
      "Number of complete duplicate rows: 0\n",
      "Number of duplicate rows based on 'name' and 'email': 0\n"
     ]
    }
   ],
   "source": [
    "import pandas as pd\n",
    "\n",
    "# Load dataset - replace with your actual dataset file path\n",
    "df = pd.read_csv('/workspaces/AI_DATA_ANALYSIS_/src/Module 3/Techniques to Improve Data Quality/employees.csv')\n",
    "\n",
    "print(\"Original Data:\")\n",
    "print(df)\n",
    "\n",
    "# Task 7: Identify complete duplicate rows\n",
    "duplicates_complete = df[df.duplicated()]\n",
    "print(\"\\nComplete duplicate rows:\")\n",
    "print(duplicates_complete)\n",
    "\n",
    "# Task 8: Identify duplicates based on specific columns\n",
    "# Example: Find duplicates based on 'name' and 'email' columns\n",
    "duplicates_specific = df[df.duplicated(subset=['name', 'email'])]\n",
    "print(\"\\nDuplicate rows based on 'name' and 'email':\")\n",
    "print(duplicates_specific)\n",
    "\n",
    "# Task 9: Count total number of duplicate rows\n",
    "num_duplicates_complete = df.duplicated().sum()\n",
    "num_duplicates_specific = df.duplicated(subset=['name', 'email']).sum()\n",
    "\n",
    "print(f\"\\nNumber of complete duplicate rows: {num_duplicates_complete}\")\n",
    "print(f\"Number of duplicate rows based on 'name' and 'email': {num_duplicates_specific}\")\n"
   ]
  },
  {
   "cell_type": "code",
   "execution_count": null,
   "metadata": {},
   "outputs": [],
   "source": [
    "# Task B: Deduplication Techniques\n",
    "\n",
    "# 10. Remove Complete Duplicates:\n",
    "# - Drop duplicate rows and keep only the first occurrence.\n",
    "\n",
    "\n",
    "\n",
    "\n",
    "\n",
    "\n",
    "# 11. Subset Deduplication:\n",
    "# - Remove duplicates based on a subset of columns.\n",
    "\n",
    "\n",
    "\n",
    "\n",
    "\n",
    "\n",
    "# 12. Keep Last Occurrence:\n",
    "# - Drop duplicates but keep the last occurrence in the dataset.\n",
    "\n",
    "\n",
    "\n",
    "\n",
    "\n"
   ]
  }
 ],
 "metadata": {
  "kernelspec": {
   "display_name": "Python 3",
   "language": "python",
   "name": "python3"
  },
  "language_info": {
   "codemirror_mode": {
    "name": "ipython",
    "version": 3
   },
   "file_extension": ".py",
   "mimetype": "text/x-python",
   "name": "python",
   "nbconvert_exporter": "python",
   "pygments_lexer": "ipython3",
   "version": "3.10.12"
  }
 },
 "nbformat": 4,
 "nbformat_minor": 2
}
