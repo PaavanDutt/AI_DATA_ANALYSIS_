{
 "cells": [
  {
   "cell_type": "code",
   "execution_count": 3,
   "metadata": {},
   "outputs": [
    {
     "name": "stdout",
     "output_type": "stream",
     "text": [
      "WARNING:recordlinkage:indexing - performance warning - A full index can result in large number of record pairs.\n",
      "Predicted duplicate pairs:\n",
      "[(2, 1), (4, 3)]\n"
     ]
    }
   ],
   "source": [
    "# Question: Advanced Deduplication Using Machine Learning\n",
    "# Description: Implement ML-based deduplication based on feature similarity.\n",
    "\n",
    "\n",
    "import pandas as pd\n",
    "import recordlinkage\n",
    "from recordlinkage.preprocessing import clean\n",
    "from sklearn.ensemble import RandomForestClassifier\n",
    "\n",
    "# Sample dataset with possible duplicates\n",
    "data = {\n",
    "    'id': [1, 2, 3, 4],\n",
    "    'name': ['John Smith', 'Jon Smith', 'Jane Doe', 'J. Doe'],\n",
    "    'address': ['123 Elm St', '123 Elm Street', '456 Oak St', '456 Oak Street'],\n",
    "    'phone': ['555-1234', '555-1234', '555-5678', '555-5678']\n",
    "}\n",
    "df = pd.DataFrame(data).set_index('id')\n",
    "\n",
    "# Step 1: Preprocess (clean text)\n",
    "df['name_clean'] = df['name'].str.lower().str.replace(r'\\W', '', regex=True)\n",
    "df['address_clean'] = df['address'].str.lower().str.replace(r'\\W', '', regex=True)\n",
    "\n",
    "# Step 2: Create candidate pairs for comparison using indexing\n",
    "indexer = recordlinkage.Index()\n",
    "indexer.full()  # All pairs\n",
    "candidate_links = indexer.index(df)\n",
    "\n",
    "# Step 3: Compare pairs on multiple features\n",
    "compare = recordlinkage.Compare()\n",
    "\n",
    "# Name similarity (string similarity)\n",
    "compare.string('name_clean', 'name_clean', method='jarowinkler', threshold=0.85, label='name_sim')\n",
    "\n",
    "# Address similarity\n",
    "compare.string('address_clean', 'address_clean', method='jarowinkler', threshold=0.85, label='address_sim')\n",
    "\n",
    "# Phone exact match\n",
    "compare.exact('phone', 'phone', label='phone_exact')\n",
    "\n",
    "features = compare.compute(candidate_links, df)\n",
    "\n",
    "# Step 4: Label data for training (example labels, in real cases you need manually labeled data)\n",
    "# Here, we create labels based on perfect match of phone numbers (as proxy)\n",
    "features['is_duplicate'] = features['phone_exact']\n",
    "\n",
    "# Step 5: Train classifier\n",
    "X = features[['name_sim', 'address_sim', 'phone_exact']]\n",
    "y = features['is_duplicate']\n",
    "\n",
    "model = RandomForestClassifier(random_state=42)\n",
    "model.fit(X, y)\n",
    "\n",
    "# Step 6: Predict duplicates\n",
    "features['predicted_duplicate'] = model.predict(X)\n",
    "\n",
    "# Get pairs predicted as duplicates\n",
    "duplicates = features[features['predicted_duplicate'] == 1]\n",
    "print(\"Predicted duplicate pairs:\")\n",
    "print(duplicates.index.tolist())\n"
   ]
  },
  {
   "cell_type": "code",
   "execution_count": 2,
   "metadata": {},
   "outputs": [
    {
     "name": "stdout",
     "output_type": "stream",
     "text": [
      "Defaulting to user installation because normal site-packages is not writeable\n",
      "Collecting recordlinkage\n",
      "  Downloading recordlinkage-0.16-py3-none-any.whl (926 kB)\n",
      "\u001b[2K     \u001b[90m━━━━━━━━━━━━━━━━━━━━━━━━━━━━━━━━━━━━━━━\u001b[0m \u001b[32m926.9/926.9 kB\u001b[0m \u001b[31m3.4 MB/s\u001b[0m eta \u001b[36m0:00:00\u001b[0m00:01\u001b[0m00:01\u001b[0m\n",
      "\u001b[?25hRequirement already satisfied: scipy>=1 in /home/vscode/.local/lib/python3.10/site-packages (from recordlinkage) (1.15.3)\n",
      "Requirement already satisfied: numpy>=1.13 in /home/vscode/.local/lib/python3.10/site-packages (from recordlinkage) (1.26.4)\n",
      "Requirement already satisfied: joblib in /home/vscode/.local/lib/python3.10/site-packages (from recordlinkage) (1.5.0)\n",
      "Requirement already satisfied: pandas<3,>=1 in /home/vscode/.local/lib/python3.10/site-packages (from recordlinkage) (2.1.4)\n",
      "Requirement already satisfied: scikit-learn>=1 in /home/vscode/.local/lib/python3.10/site-packages (from recordlinkage) (1.6.1)\n",
      "Collecting jellyfish>=1\n",
      "  Downloading jellyfish-1.2.0-cp310-cp310-manylinux_2_17_x86_64.manylinux2014_x86_64.whl (357 kB)\n",
      "\u001b[2K     \u001b[90m━━━━━━━━━━━━━━━━━━━━━━━━━━━━━━━━━━━━━━\u001b[0m \u001b[32m357.0/357.0 kB\u001b[0m \u001b[31m22.1 MB/s\u001b[0m eta \u001b[36m0:00:00\u001b[0m\n",
      "\u001b[?25hRequirement already satisfied: tzdata>=2022.1 in /home/vscode/.local/lib/python3.10/site-packages (from pandas<3,>=1->recordlinkage) (2025.2)\n",
      "Requirement already satisfied: pytz>=2020.1 in /home/vscode/.local/lib/python3.10/site-packages (from pandas<3,>=1->recordlinkage) (2025.2)\n",
      "Requirement already satisfied: python-dateutil>=2.8.2 in /home/vscode/.local/lib/python3.10/site-packages (from pandas<3,>=1->recordlinkage) (2.9.0.post0)\n",
      "Requirement already satisfied: threadpoolctl>=3.1.0 in /home/vscode/.local/lib/python3.10/site-packages (from scikit-learn>=1->recordlinkage) (3.6.0)\n",
      "Requirement already satisfied: six>=1.5 in /home/vscode/.local/lib/python3.10/site-packages (from python-dateutil>=2.8.2->pandas<3,>=1->recordlinkage) (1.17.0)\n",
      "Installing collected packages: jellyfish, recordlinkage\n",
      "Successfully installed jellyfish-1.2.0 recordlinkage-0.16\n",
      "\n",
      "\u001b[1m[\u001b[0m\u001b[34;49mnotice\u001b[0m\u001b[1;39;49m]\u001b[0m\u001b[39;49m A new release of pip is available: \u001b[0m\u001b[31;49m23.0.1\u001b[0m\u001b[39;49m -> \u001b[0m\u001b[32;49m25.1.1\u001b[0m\n",
      "\u001b[1m[\u001b[0m\u001b[34;49mnotice\u001b[0m\u001b[1;39;49m]\u001b[0m\u001b[39;49m To update, run: \u001b[0m\u001b[32;49mpip install --upgrade pip\u001b[0m\n"
     ]
    }
   ],
   "source": [
    "!pip install recordlinkage\n"
   ]
  }
 ],
 "metadata": {
  "kernelspec": {
   "display_name": "Python 3",
   "language": "python",
   "name": "python3"
  },
  "language_info": {
   "codemirror_mode": {
    "name": "ipython",
    "version": 3
   },
   "file_extension": ".py",
   "mimetype": "text/x-python",
   "name": "python",
   "nbconvert_exporter": "python",
   "pygments_lexer": "ipython3",
   "version": "3.10.12"
  }
 },
 "nbformat": 4,
 "nbformat_minor": 2
}
