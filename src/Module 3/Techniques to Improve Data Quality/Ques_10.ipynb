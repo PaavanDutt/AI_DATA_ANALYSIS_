{
 "cells": [
  {
   "cell_type": "code",
   "execution_count": 1,
   "metadata": {},
   "outputs": [
    {
     "ename": "ModuleNotFoundError",
     "evalue": "No module named 'recordlinkage'",
     "output_type": "error",
     "traceback": [
      "\u001b[0;31m---------------------------------------------------------------------------\u001b[0m",
      "\u001b[0;31mModuleNotFoundError\u001b[0m                       Traceback (most recent call last)",
      "Cell \u001b[0;32mIn[1], line 6\u001b[0m\n\u001b[1;32m      1\u001b[0m \u001b[38;5;66;03m# Question: Advanced Deduplication Using Machine Learning\u001b[39;00m\n\u001b[1;32m      2\u001b[0m \u001b[38;5;66;03m# Description: Implement ML-based deduplication based on feature similarity.\u001b[39;00m\n\u001b[1;32m      5\u001b[0m \u001b[38;5;28;01mimport\u001b[39;00m\u001b[38;5;250m \u001b[39m\u001b[38;5;21;01mpandas\u001b[39;00m\u001b[38;5;250m \u001b[39m\u001b[38;5;28;01mas\u001b[39;00m\u001b[38;5;250m \u001b[39m\u001b[38;5;21;01mpd\u001b[39;00m\n\u001b[0;32m----> 6\u001b[0m \u001b[38;5;28;01mimport\u001b[39;00m\u001b[38;5;250m \u001b[39m\u001b[38;5;21;01mrecordlinkage\u001b[39;00m\n\u001b[1;32m      7\u001b[0m \u001b[38;5;28;01mfrom\u001b[39;00m\u001b[38;5;250m \u001b[39m\u001b[38;5;21;01mrecordlinkage\u001b[39;00m\u001b[38;5;21;01m.\u001b[39;00m\u001b[38;5;21;01mpreprocessing\u001b[39;00m\u001b[38;5;250m \u001b[39m\u001b[38;5;28;01mimport\u001b[39;00m clean\n\u001b[1;32m      8\u001b[0m \u001b[38;5;28;01mfrom\u001b[39;00m\u001b[38;5;250m \u001b[39m\u001b[38;5;21;01msklearn\u001b[39;00m\u001b[38;5;21;01m.\u001b[39;00m\u001b[38;5;21;01mensemble\u001b[39;00m\u001b[38;5;250m \u001b[39m\u001b[38;5;28;01mimport\u001b[39;00m RandomForestClassifier\n",
      "\u001b[0;31mModuleNotFoundError\u001b[0m: No module named 'recordlinkage'"
     ]
    }
   ],
   "source": [
    "# Question: Advanced Deduplication Using Machine Learning\n",
    "# Description: Implement ML-based deduplication based on feature similarity.\n",
    "\n",
    "\n",
    "import pandas as pd\n",
    "import recordlinkage\n",
    "from recordlinkage.preprocessing import clean\n",
    "from sklearn.ensemble import RandomForestClassifier\n",
    "\n",
    "# Sample dataset with possible duplicates\n",
    "data = {\n",
    "    'id': [1, 2, 3, 4],\n",
    "    'name': ['John Smith', 'Jon Smith', 'Jane Doe', 'J. Doe'],\n",
    "    'address': ['123 Elm St', '123 Elm Street', '456 Oak St', '456 Oak Street'],\n",
    "    'phone': ['555-1234', '555-1234', '555-5678', '555-5678']\n",
    "}\n",
    "df = pd.DataFrame(data).set_index('id')\n",
    "\n",
    "# Step 1: Preprocess (clean text)\n",
    "df['name_clean'] = df['name'].str.lower().str.replace(r'\\W', '', regex=True)\n",
    "df['address_clean'] = df['address'].str.lower().str.replace(r'\\W', '', regex=True)\n",
    "\n",
    "# Step 2: Create candidate pairs for comparison using indexing\n",
    "indexer = recordlinkage.Index()\n",
    "indexer.full()  # All pairs\n",
    "candidate_links = indexer.index(df)\n",
    "\n",
    "# Step 3: Compare pairs on multiple features\n",
    "compare = recordlinkage.Compare()\n",
    "\n",
    "# Name similarity (string similarity)\n",
    "compare.string('name_clean', 'name_clean', method='jarowinkler', threshold=0.85, label='name_sim')\n",
    "\n",
    "# Address similarity\n",
    "compare.string('address_clean', 'address_clean', method='jarowinkler', threshold=0.85, label='address_sim')\n",
    "\n",
    "# Phone exact match\n",
    "compare.exact('phone', 'phone', label='phone_exact')\n",
    "\n",
    "features = compare.compute(candidate_links, df)\n",
    "\n",
    "# Step 4: Label data for training (example labels, in real cases you need manually labeled data)\n",
    "# Here, we create labels based on perfect match of phone numbers (as proxy)\n",
    "features['is_duplicate'] = features['phone_exact']\n",
    "\n",
    "# Step 5: Train classifier\n",
    "X = features[['name_sim', 'address_sim', 'phone_exact']]\n",
    "y = features['is_duplicate']\n",
    "\n",
    "model = RandomForestClassifier(random_state=42)\n",
    "model.fit(X, y)\n",
    "\n",
    "# Step 6: Predict duplicates\n",
    "features['predicted_duplicate'] = model.predict(X)\n",
    "\n",
    "# Get pairs predicted as duplicates\n",
    "duplicates = features[features['predicted_duplicate'] == 1]\n",
    "print(\"Predicted duplicate pairs:\")\n",
    "print(duplicates.index.tolist())\n"
   ]
  }
 ],
 "metadata": {
  "kernelspec": {
   "display_name": "Python 3",
   "language": "python",
   "name": "python3"
  },
  "language_info": {
   "codemirror_mode": {
    "name": "ipython",
    "version": 3
   },
   "file_extension": ".py",
   "mimetype": "text/x-python",
   "name": "python",
   "nbconvert_exporter": "python",
   "pygments_lexer": "ipython3",
   "version": "3.10.12"
  }
 },
 "nbformat": 4,
 "nbformat_minor": 2
}
