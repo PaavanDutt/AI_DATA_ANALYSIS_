{
 "cells": [
  {
   "cell_type": "code",
   "execution_count": 1,
   "metadata": {},
   "outputs": [
    {
     "name": "stdout",
     "output_type": "stream",
     "text": [
      "Data after imputation:\n",
      "   feature1  feature2  target\n",
      "0        10         1   100.0\n",
      "1        20         3   200.0\n",
      "2        30         5   246.0\n",
      "3        40         7   400.0\n",
      "4        50         9   500.0\n",
      "5        60        11   563.0\n",
      "6        70        13   700.0\n",
      "7        80        15   800.0\n"
     ]
    }
   ],
   "source": [
    "# Question: Predictive Imputation Using Machine Learning\n",
    "# Description: Use a simple predictive model to impute missing values in a column.\n",
    "\n",
    "\n",
    "import pandas as pd\n",
    "from sklearn.ensemble import RandomForestRegressor\n",
    "from sklearn.model_selection import train_test_split\n",
    "\n",
    "# Sample data with missing values in 'target' column\n",
    "data = {\n",
    "    'feature1': [10, 20, 30, 40, 50, 60, 70, 80],\n",
    "    'feature2': [1, 3, 5, 7, 9, 11, 13, 15],\n",
    "    'target': [100, 200, None, 400, 500, None, 700, 800]\n",
    "}\n",
    "df = pd.DataFrame(data)\n",
    "\n",
    "# Separate rows where 'target' is missing and where it's present\n",
    "df_train = df[df['target'].notna()]\n",
    "df_missing = df[df['target'].isna()]\n",
    "\n",
    "# Features and target for training\n",
    "X_train = df_train[['feature1', 'feature2']]\n",
    "y_train = df_train['target']\n",
    "\n",
    "# Features for missing rows\n",
    "X_missing = df_missing[['feature1', 'feature2']]\n",
    "\n",
    "# Train a regression model\n",
    "model = RandomForestRegressor(random_state=42)\n",
    "model.fit(X_train, y_train)\n",
    "\n",
    "# Predict missing target values\n",
    "predicted_values = model.predict(X_missing)\n",
    "\n",
    "# Impute missing values in original dataframe\n",
    "df.loc[df['target'].isna(), 'target'] = predicted_values\n",
    "\n",
    "print(\"Data after imputation:\")\n",
    "print(df)\n",
    "\n"
   ]
  }
 ],
 "metadata": {
  "kernelspec": {
   "display_name": "Python 3",
   "language": "python",
   "name": "python3"
  },
  "language_info": {
   "codemirror_mode": {
    "name": "ipython",
    "version": 3
   },
   "file_extension": ".py",
   "mimetype": "text/x-python",
   "name": "python",
   "nbconvert_exporter": "python",
   "pygments_lexer": "ipython3",
   "version": "3.10.12"
  }
 },
 "nbformat": 4,
 "nbformat_minor": 2
}
