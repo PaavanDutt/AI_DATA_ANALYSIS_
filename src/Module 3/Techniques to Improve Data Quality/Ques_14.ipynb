{
 "cells": [
  {
   "cell_type": "code",
   "execution_count": null,
   "metadata": {},
   "outputs": [],
   "source": [
    "# Activity 4: Data Quality Automation Tools\n",
    "\n",
    "# Task A: Using Great Expectations\n",
    "\n",
    "# 19. Setting Up Expectations:\n",
    "# - Install Great Expectations and set up a basic expectation suite.\n",
    "# - Validate a dataset and list unmet expectations.\n",
    "\n",
    "\n",
    "\n",
    "\n",
    "\n",
    "\n",
    "# 20. Testing for Expectation:\n",
    "# - Create expectations such as “column values must fall within a certain range.”\n",
    "\n",
    "\n",
    "\n",
    "\n",
    "\n",
    "\n",
    "# 21. Generating Data Docs:\n",
    "# - Automatically generate data quality documentation.\n",
    "\n",
    "\n",
    "\n",
    "\n",
    "\n",
    "\n"
   ]
  },
  {
   "cell_type": "code",
   "execution_count": 1,
   "metadata": {},
   "outputs": [
    {
     "name": "stdout",
     "output_type": "stream",
     "text": [
      "Defaulting to user installation because normal site-packages is not writeable\n",
      "Requirement already satisfied: great_expectations in /home/vscode/.local/lib/python3.10/site-packages (1.4.5)\n",
      "Requirement already satisfied: marshmallow<4.0.0,>=3.7.1 in /home/vscode/.local/lib/python3.10/site-packages (from great_expectations) (3.26.1)\n",
      "Requirement already satisfied: cryptography>=3.2 in /home/vscode/.local/lib/python3.10/site-packages (from great_expectations) (45.0.2)\n",
      "Requirement already satisfied: altair<5.0.0,>=4.2.1 in /home/vscode/.local/lib/python3.10/site-packages (from great_expectations) (4.2.2)\n",
      "Requirement already satisfied: jinja2>=3 in /home/vscode/.local/lib/python3.10/site-packages (from great_expectations) (3.1.6)\n",
      "Requirement already satisfied: packaging in /home/vscode/.local/lib/python3.10/site-packages (from great_expectations) (25.0)\n",
      "Requirement already satisfied: tzlocal>=1.2 in /home/vscode/.local/lib/python3.10/site-packages (from great_expectations) (5.3.1)\n",
      "Requirement already satisfied: python-dateutil>=2.8.1 in /home/vscode/.local/lib/python3.10/site-packages (from great_expectations) (2.9.0.post0)\n",
      "Requirement already satisfied: mistune>=0.8.4 in /home/vscode/.local/lib/python3.10/site-packages (from great_expectations) (3.1.3)\n",
      "Requirement already satisfied: numpy>=1.22.4 in /home/vscode/.local/lib/python3.10/site-packages (from great_expectations) (1.26.4)\n",
      "Requirement already satisfied: scipy>=1.6.0 in /home/vscode/.local/lib/python3.10/site-packages (from great_expectations) (1.15.3)\n",
      "Requirement already satisfied: typing-extensions>=4.1.0 in /home/vscode/.local/lib/python3.10/site-packages (from great_expectations) (4.13.2)\n",
      "Requirement already satisfied: ruamel.yaml>=0.16 in /home/vscode/.local/lib/python3.10/site-packages (from great_expectations) (0.18.10)\n",
      "Requirement already satisfied: jsonschema>=2.5.1 in /home/vscode/.local/lib/python3.10/site-packages (from great_expectations) (4.23.0)\n",
      "Requirement already satisfied: posthog<4,>3 in /home/vscode/.local/lib/python3.10/site-packages (from great_expectations) (3.25.0)\n",
      "Requirement already satisfied: requests>=2.20 in /home/vscode/.local/lib/python3.10/site-packages (from great_expectations) (2.32.3)\n",
      "Requirement already satisfied: pandas<2.2,>=1.3.0 in /home/vscode/.local/lib/python3.10/site-packages (from great_expectations) (2.1.4)\n",
      "Requirement already satisfied: tqdm>=4.59.0 in /home/vscode/.local/lib/python3.10/site-packages (from great_expectations) (4.67.1)\n",
      "Requirement already satisfied: pydantic>=1.10.7 in /home/vscode/.local/lib/python3.10/site-packages (from great_expectations) (2.11.4)\n",
      "Requirement already satisfied: pyparsing>=2.4 in /home/vscode/.local/lib/python3.10/site-packages (from great_expectations) (3.2.3)\n",
      "Requirement already satisfied: entrypoints in /home/vscode/.local/lib/python3.10/site-packages (from altair<5.0.0,>=4.2.1->great_expectations) (0.4)\n",
      "Requirement already satisfied: toolz in /home/vscode/.local/lib/python3.10/site-packages (from altair<5.0.0,>=4.2.1->great_expectations) (1.0.0)\n",
      "Requirement already satisfied: cffi>=1.14 in /home/vscode/.local/lib/python3.10/site-packages (from cryptography>=3.2->great_expectations) (1.17.1)\n",
      "Requirement already satisfied: MarkupSafe>=2.0 in /home/vscode/.local/lib/python3.10/site-packages (from jinja2>=3->great_expectations) (3.0.2)\n",
      "Requirement already satisfied: rpds-py>=0.7.1 in /home/vscode/.local/lib/python3.10/site-packages (from jsonschema>=2.5.1->great_expectations) (0.25.1)\n",
      "Requirement already satisfied: referencing>=0.28.4 in /home/vscode/.local/lib/python3.10/site-packages (from jsonschema>=2.5.1->great_expectations) (0.36.2)\n",
      "Requirement already satisfied: jsonschema-specifications>=2023.03.6 in /home/vscode/.local/lib/python3.10/site-packages (from jsonschema>=2.5.1->great_expectations) (2025.4.1)\n",
      "Requirement already satisfied: attrs>=22.2.0 in /home/vscode/.local/lib/python3.10/site-packages (from jsonschema>=2.5.1->great_expectations) (25.3.0)\n",
      "Requirement already satisfied: pytz>=2020.1 in /home/vscode/.local/lib/python3.10/site-packages (from pandas<2.2,>=1.3.0->great_expectations) (2025.2)\n",
      "Requirement already satisfied: tzdata>=2022.1 in /home/vscode/.local/lib/python3.10/site-packages (from pandas<2.2,>=1.3.0->great_expectations) (2025.2)\n",
      "Requirement already satisfied: monotonic>=1.5 in /home/vscode/.local/lib/python3.10/site-packages (from posthog<4,>3->great_expectations) (1.6)\n",
      "Requirement already satisfied: distro>=1.5.0 in /home/vscode/.local/lib/python3.10/site-packages (from posthog<4,>3->great_expectations) (1.9.0)\n",
      "Requirement already satisfied: six>=1.5 in /home/vscode/.local/lib/python3.10/site-packages (from posthog<4,>3->great_expectations) (1.17.0)\n",
      "Requirement already satisfied: backoff>=1.10.0 in /home/vscode/.local/lib/python3.10/site-packages (from posthog<4,>3->great_expectations) (2.2.1)\n",
      "Requirement already satisfied: pydantic-core==2.33.2 in /home/vscode/.local/lib/python3.10/site-packages (from pydantic>=1.10.7->great_expectations) (2.33.2)\n",
      "Requirement already satisfied: annotated-types>=0.6.0 in /home/vscode/.local/lib/python3.10/site-packages (from pydantic>=1.10.7->great_expectations) (0.7.0)\n",
      "Requirement already satisfied: typing-inspection>=0.4.0 in /home/vscode/.local/lib/python3.10/site-packages (from pydantic>=1.10.7->great_expectations) (0.4.0)\n",
      "Requirement already satisfied: urllib3<3,>=1.21.1 in /home/vscode/.local/lib/python3.10/site-packages (from requests>=2.20->great_expectations) (2.4.0)\n",
      "Requirement already satisfied: idna<4,>=2.5 in /home/vscode/.local/lib/python3.10/site-packages (from requests>=2.20->great_expectations) (3.10)\n",
      "Requirement already satisfied: certifi>=2017.4.17 in /home/vscode/.local/lib/python3.10/site-packages (from requests>=2.20->great_expectations) (2025.4.26)\n",
      "Requirement already satisfied: charset-normalizer<4,>=2 in /home/vscode/.local/lib/python3.10/site-packages (from requests>=2.20->great_expectations) (3.4.2)\n",
      "Requirement already satisfied: ruamel.yaml.clib>=0.2.7 in /home/vscode/.local/lib/python3.10/site-packages (from ruamel.yaml>=0.16->great_expectations) (0.2.12)\n",
      "Requirement already satisfied: pycparser in /home/vscode/.local/lib/python3.10/site-packages (from cffi>=1.14->cryptography>=3.2->great_expectations) (2.22)\n",
      "\n",
      "\u001b[1m[\u001b[0m\u001b[34;49mnotice\u001b[0m\u001b[1;39;49m]\u001b[0m\u001b[39;49m A new release of pip is available: \u001b[0m\u001b[31;49m23.0.1\u001b[0m\u001b[39;49m -> \u001b[0m\u001b[32;49m25.1.1\u001b[0m\n",
      "\u001b[1m[\u001b[0m\u001b[34;49mnotice\u001b[0m\u001b[1;39;49m]\u001b[0m\u001b[39;49m To update, run: \u001b[0m\u001b[32;49mpip install --upgrade pip\u001b[0m\n"
     ]
    }
   ],
   "source": [
    "!pip install great_expectations\n"
   ]
  },
  {
   "cell_type": "code",
   "execution_count": 2,
   "metadata": {},
   "outputs": [
    {
     "name": "stdout",
     "output_type": "stream",
     "text": [
      "/bin/bash: line 1: great_expectations: command not found\n"
     ]
    }
   ],
   "source": [
    "!great_expectations init\n"
   ]
  },
  {
   "cell_type": "code",
   "execution_count": 1,
   "metadata": {},
   "outputs": [
    {
     "ename": "ImportError",
     "evalue": "cannot import name 'DataContext' from 'great_expectations' (/home/vscode/.local/lib/python3.10/site-packages/great_expectations/__init__.py)",
     "output_type": "error",
     "traceback": [
      "\u001b[0;31m---------------------------------------------------------------------------\u001b[0m",
      "\u001b[0;31mImportError\u001b[0m                               Traceback (most recent call last)",
      "Cell \u001b[0;32mIn[1], line 1\u001b[0m\n\u001b[0;32m----> 1\u001b[0m \u001b[38;5;28;01mfrom\u001b[39;00m\u001b[38;5;250m \u001b[39m\u001b[38;5;21;01mgreat_expectations\u001b[39;00m\u001b[38;5;250m \u001b[39m\u001b[38;5;28;01mimport\u001b[39;00m DataContext\n\u001b[1;32m      3\u001b[0m context \u001b[38;5;241m=\u001b[39m DataContext()\n\u001b[1;32m      5\u001b[0m \u001b[38;5;66;03m# Create a new expectation suite\u001b[39;00m\n",
      "\u001b[0;31mImportError\u001b[0m: cannot import name 'DataContext' from 'great_expectations' (/home/vscode/.local/lib/python3.10/site-packages/great_expectations/__init__.py)"
     ]
    }
   ],
   "source": [
    "from great_expectations import DataContext\n",
    "\n",
    "context = DataContext()\n",
    "\n",
    "# Create a new expectation suite\n",
    "suite_name = \"my_expectation_suite\"\n",
    "suite = context.create_expectation_suite(suite_name, overwrite_existing=True)\n",
    "print(f\"Created suite: {suite.expectation_suite_name}\")\n"
   ]
  },
  {
   "cell_type": "code",
   "execution_count": 2,
   "metadata": {},
   "outputs": [
    {
     "ename": "ImportError",
     "evalue": "cannot import name 'DataContext' from 'great_expectations' (/home/vscode/.local/lib/python3.10/site-packages/great_expectations/__init__.py)",
     "output_type": "error",
     "traceback": [
      "\u001b[0;31m---------------------------------------------------------------------------\u001b[0m",
      "\u001b[0;31mImportError\u001b[0m                               Traceback (most recent call last)",
      "Cell \u001b[0;32mIn[2], line 1\u001b[0m\n\u001b[0;32m----> 1\u001b[0m \u001b[38;5;28;01mfrom\u001b[39;00m\u001b[38;5;250m \u001b[39m\u001b[38;5;21;01mgreat_expectations\u001b[39;00m\u001b[38;5;250m \u001b[39m\u001b[38;5;28;01mimport\u001b[39;00m DataContext\n\u001b[1;32m      3\u001b[0m context \u001b[38;5;241m=\u001b[39m DataContext()\n\u001b[1;32m      4\u001b[0m \u001b[38;5;28mprint\u001b[39m(\u001b[38;5;124m\"\u001b[39m\u001b[38;5;124mDataContext created successfully!\u001b[39m\u001b[38;5;124m\"\u001b[39m)\n",
      "\u001b[0;31mImportError\u001b[0m: cannot import name 'DataContext' from 'great_expectations' (/home/vscode/.local/lib/python3.10/site-packages/great_expectations/__init__.py)"
     ]
    }
   ],
   "source": [
    "from great_expectations import DataContext\n",
    "\n",
    "context = DataContext()\n",
    "print(\"DataContext created successfully!\")\n"
   ]
  },
  {
   "cell_type": "code",
   "execution_count": 5,
   "metadata": {},
   "outputs": [
    {
     "name": "stdout",
     "output_type": "stream",
     "text": [
      "Name: great-expectations\n",
      "Version: 1.4.5\n",
      "Summary: Always know what to expect from your data.\n",
      "Home-page: https://greatexpectations.io\n",
      "Author: The Great Expectations Team\n",
      "Author-email: team@greatexpectations.io\n",
      "License: Apache-2.0\n",
      "Location: /home/vscode/.local/lib/python3.10/site-packages\n",
      "Requires: altair, cryptography, jinja2, jsonschema, marshmallow, mistune, numpy, packaging, pandas, posthog, pydantic, pyparsing, python-dateutil, requests, ruamel.yaml, scipy, tqdm, typing-extensions, tzlocal\n",
      "Required-by: \n"
     ]
    }
   ],
   "source": [
    "!pip show great_expectations\n"
   ]
  },
  {
   "cell_type": "code",
   "execution_count": null,
   "metadata": {},
   "outputs": [],
   "source": [
    "# Task B: Using DQ Labs\n",
    "\n",
    "# 22. Tool Setup and Configuration:\n",
    "# - Download and configure DQ Labs on your local environment.\n",
    "# - Create a new data quality project.\n",
    "\n",
    "\n",
    "\n",
    "\n",
    "\n",
    "\n",
    "\n",
    "\n",
    "# 23. Data Analysis Automation:\n",
    "# - Apply DQ Labs for automating data profiling and quality checks.\n",
    "\n",
    "\n",
    "\n",
    "\n",
    "\n",
    "\n",
    "\n",
    "# 24. Quality Rule Creation:\n",
    "# - Create quality rules for detecting and handling duplicates or enforcing standards.\n",
    "\n",
    "\n",
    "\n",
    "\n",
    "\n",
    "\n",
    "\n",
    "\n"
   ]
  }
 ],
 "metadata": {
  "kernelspec": {
   "display_name": "Python 3",
   "language": "python",
   "name": "python3"
  },
  "language_info": {
   "codemirror_mode": {
    "name": "ipython",
    "version": 3
   },
   "file_extension": ".py",
   "mimetype": "text/x-python",
   "name": "python",
   "nbconvert_exporter": "python",
   "pygments_lexer": "ipython3",
   "version": "3.10.12"
  }
 },
 "nbformat": 4,
 "nbformat_minor": 2
}
