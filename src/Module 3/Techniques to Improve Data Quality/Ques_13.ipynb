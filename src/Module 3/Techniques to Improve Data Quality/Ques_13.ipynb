{
 "cells": [
  {
   "cell_type": "code",
   "execution_count": null,
   "metadata": {},
   "outputs": [],
   "source": [
    "# Activity 3: Data Standardization & Validation\n",
    "\n",
    "# Task A: Enforcing Data Formats & Constraints\n",
    "\n",
    "# 13. Date Format Standardization:\n",
    "# - Convert all date entries into a uniform format (e.g., YYYY-MM-DD).\n",
    "\n",
    "\n",
    "\n",
    "\n",
    "\n",
    "# 14. Numeric Constraints Enforcement:\n",
    "# - Check and enforce numeric constraints (e.g., age > 0).\n",
    "\n",
    "\n",
    "\n",
    "\n",
    "\n",
    "\n",
    "# 15. String Format Checks:\n",
    "# - Ensure text fields meet certain constraints (e.g., valid email format)."
   ]
  },
  {
   "cell_type": "code",
   "execution_count": 6,
   "metadata": {},
   "outputs": [
    {
     "name": "stdout",
     "output_type": "stream",
     "text": [
      "Original Data:\n",
      "   employee_id            name date_of_joining  age                    email\n",
      "0            1        John Doe      12/31/2020   28     john.doe@example.com\n",
      "1            2      Jane Smith      2021-01-15   -5        jane.smith@domain\n",
      "2            3     Bob Johnson      15-02-2020   35  bob.johnson@example.com\n",
      "3            4  Alice Williams      2020/03/10   40   alice.williams@example\n",
      "\n",
      "After Date Format Standardization:\n",
      "0    2020-12-31\n",
      "1           NaN\n",
      "2           NaN\n",
      "3           NaN\n",
      "Name: date_of_joining, dtype: object\n",
      "\n",
      "Rows with invalid age (<= 0):\n",
      "   employee_id        name date_of_joining  age              email\n",
      "1            2  Jane Smith             NaN   -5  jane.smith@domain\n",
      "\n",
      "After enforcing numeric constraints on age:\n",
      "0    28.0\n",
      "1     NaN\n",
      "2    35.0\n",
      "3    40.0\n",
      "Name: age, dtype: float64\n",
      "\n",
      "Email validation results (True=valid, False=invalid):\n",
      "                     email  email_valid\n",
      "0     john.doe@example.com         True\n",
      "1        jane.smith@domain        False\n",
      "2  bob.johnson@example.com         True\n",
      "3   alice.williams@example        False\n"
     ]
    }
   ],
   "source": [
    "import pandas as pd\n",
    "import re\n",
    "\n",
    "# Sample dataset with dates, numeric, and string fields (replace with your own CSV file)\n",
    "df = pd.DataFrame({\n",
    "    'employee_id': [1, 2, 3, 4],\n",
    "    'name': ['John Doe', 'Jane Smith', 'Bob Johnson', 'Alice Williams'],\n",
    "    'date_of_joining': ['12/31/2020', '2021-01-15', '15-02-2020', '2020/03/10'],  # Various date formats\n",
    "    'age': [28, -5, 35, 40],  # Includes invalid negative age\n",
    "    'email': ['john.doe@example.com', 'jane.smith@domain', 'bob.johnson@example.com', 'alice.williams@example']  # Invalid emails\n",
    "})\n",
    "\n",
    "print(\"Original Data:\")\n",
    "print(df)\n",
    "\n",
    "# Task 13: Date Format Standardization\n",
    "# Convert date_of_joining to uniform YYYY-MM-DD format\n",
    "df['date_of_joining'] = pd.to_datetime(df['date_of_joining'], errors='coerce').dt.strftime('%Y-%m-%d')\n",
    "\n",
    "print(\"\\nAfter Date Format Standardization:\")\n",
    "print(df['date_of_joining'])\n",
    "\n",
    "# Task 14: Numeric Constraints Enforcement (e.g., age > 0)\n",
    "# Find invalid age entries and replace or flag them\n",
    "invalid_ages = df['age'] <= 0\n",
    "print(\"\\nRows with invalid age (<= 0):\")\n",
    "print(df[invalid_ages])\n",
    "\n",
    "# Replace invalid ages with NaN or another strategy\n",
    "df.loc[invalid_ages, 'age'] = pd.NA\n",
    "\n",
    "print(\"\\nAfter enforcing numeric constraints on age:\")\n",
    "print(df['age'])\n",
    "\n",
    "# Task 15: String Format Checks (valid email format)\n",
    "# Simple regex for email validation\n",
    "email_pattern = re.compile(r'^[\\w\\.-]+@[\\w\\.-]+\\.\\w+$')\n",
    "\n",
    "def validate_email(email):\n",
    "    if pd.isna(email):\n",
    "        return False\n",
    "    return bool(email_pattern.match(email))\n",
    "\n",
    "df['email_valid'] = df['email'].apply(validate_email)\n",
    "\n",
    "print(\"\\nEmail validation results (True=valid, False=invalid):\")\n",
    "print(df[['email', 'email_valid']])\n"
   ]
  },
  {
   "cell_type": "code",
   "execution_count": 7,
   "metadata": {},
   "outputs": [
    {
     "name": "stdout",
     "output_type": "stream",
     "text": [
      "Invalid date rows:\n",
      "   employee_id            name date_of_joining   age                    email  \\\n",
      "1            2      Jane Smith             NaN   NaN        jane.smith@domain   \n",
      "2            3     Bob Johnson             NaN  35.0  bob.johnson@example.com   \n",
      "3            4  Alice Williams             NaN  40.0   alice.williams@example   \n",
      "\n",
      "   email_valid date_of_joining_parsed  \n",
      "1        False                    NaN  \n",
      "2         True                    NaN  \n",
      "3        False                    NaN  \n"
     ]
    }
   ],
   "source": [
    "from dateutil.parser import parse\n",
    "import numpy as np\n",
    "\n",
    "def parse_date_with_fallback(date_str):\n",
    "    formats = ['%Y-%m-%d', '%d/%m/%Y', '%m/%d/%Y', '%d-%m-%Y', '%Y/%m/%d']\n",
    "    for fmt in formats:\n",
    "        try:\n",
    "            return pd.to_datetime(date_str, format=fmt)\n",
    "        except (ValueError, TypeError):\n",
    "            continue\n",
    "    # Fallback to dateutil\n",
    "    try:\n",
    "        return parse(date_str)\n",
    "    except (ValueError, TypeError):\n",
    "        return np.nan\n",
    "\n",
    "df['date_of_joining_parsed'] = df['date_of_joining'].apply(parse_date_with_fallback)\n",
    "df['date_of_joining_parsed'] = pd.to_datetime(df['date_of_joining_parsed'], errors='coerce').dt.strftime('%Y-%m-%d')\n",
    "\n",
    "# Flag invalid dates for review\n",
    "invalid_dates = df['date_of_joining_parsed'].isna()\n",
    "print(f\"Invalid date rows:\\n{df[invalid_dates]}\")\n"
   ]
  },
  {
   "cell_type": "code",
   "execution_count": 8,
   "metadata": {},
   "outputs": [],
   "source": [
    "invalid_ages = df['age'] <= 0\n",
    "if invalid_ages.any():\n",
    "    print(\"Invalid age entries detected:\")\n",
    "    print(df.loc[invalid_ages])\n",
    "    df.loc[invalid_ages, 'age'] = np.nan\n",
    "    # Export invalid age rows for manual review\n",
    "    df.loc[invalid_ages].to_csv('invalid_age_entries.csv', index=False)\n"
   ]
  },
  {
   "cell_type": "code",
   "execution_count": 9,
   "metadata": {},
   "outputs": [
    {
     "name": "stdout",
     "output_type": "stream",
     "text": [
      "Invalid email entries:\n",
      "   employee_id            name date_of_joining   age                   email  \\\n",
      "1            2      Jane Smith             NaN   NaN       jane.smith@domain   \n",
      "3            4  Alice Williams             NaN  40.0  alice.williams@example   \n",
      "\n",
      "   email_valid date_of_joining_parsed  \n",
      "1        False                    NaN  \n",
      "3        False                    NaN  \n"
     ]
    }
   ],
   "source": [
    "import numpy as np\n",
    "\n",
    "email_regex = re.compile(\n",
    "    r\"(^[-!#$%&'*+/0-9=?A-Z^_a-z`{|}~]+(\\.[-!#$%&'*+/0-9=?A-Z^_a-z`{|}~]+)*\"\n",
    "    r'|^\"([!#-[\\\\]-~]*|\\\\[ -~])*\")@([A-Za-z0-9-]+\\.)+[A-Za-z]{2,}$'\n",
    ")\n",
    "\n",
    "# Vectorized email check\n",
    "df['email_valid'] = np.where(df['email'].str.match(email_regex), True, False)\n",
    "\n",
    "invalid_emails = df.loc[~df['email_valid']]\n",
    "if not invalid_emails.empty:\n",
    "    print(\"Invalid email entries:\")\n",
    "    print(invalid_emails)\n",
    "    invalid_emails.to_csv('invalid_email_entries.csv', index=False)\n"
   ]
  },
  {
   "cell_type": "code",
   "execution_count": 2,
   "metadata": {},
   "outputs": [],
   "source": [
    "from dateutil.parser import parse\n",
    "import numpy as np\n",
    "\n",
    "def robust_date_parse(date_str):\n",
    "    try:\n",
    "        return parse(date_str).date()\n",
    "    except (ValueError, TypeError):\n",
    "        return np.nan\n",
    "\n",
    "df['date_of_joining'] = df['date_of_joining'].apply(robust_date_parse)\n",
    "df['date_of_joining'] = pd.to_datetime(df['date_of_joining'], errors='coerce').dt.strftime('%Y-%m-%d')\n"
   ]
  },
  {
   "cell_type": "code",
   "execution_count": 3,
   "metadata": {},
   "outputs": [
    {
     "name": "stdout",
     "output_type": "stream",
     "text": [
      "Invalid ages (<=0) to be reviewed:\n",
      "   employee_id        name date_of_joining  age              email  \\\n",
      "1            2  Jane Smith             NaN  NaN  jane.smith@domain   \n",
      "\n",
      "   email_valid  age_valid  \n",
      "1        False      False  \n"
     ]
    }
   ],
   "source": [
    "df['age_valid'] = df['age'] > 0\n",
    "\n",
    "# Optionally, filter or export invalid rows for manual correction\n",
    "invalid_ages_df = df[~df['age_valid']]\n",
    "print(\"Invalid ages (<=0) to be reviewed:\")\n",
    "print(invalid_ages_df)\n"
   ]
  },
  {
   "cell_type": "code",
   "execution_count": 4,
   "metadata": {},
   "outputs": [
    {
     "name": "stdout",
     "output_type": "stream",
     "text": [
      "Defaulting to user installation because normal site-packages is not writeable\n",
      "Collecting email-validator\n",
      "  Downloading email_validator-2.2.0-py3-none-any.whl (33 kB)\n",
      "Requirement already satisfied: idna>=2.0.0 in /home/vscode/.local/lib/python3.10/site-packages (from email-validator) (3.10)\n",
      "Collecting dnspython>=2.0.0\n",
      "  Downloading dnspython-2.7.0-py3-none-any.whl (313 kB)\n",
      "\u001b[2K     \u001b[90m━━━━━━━━━━━━━━━━━━━━━━━━━━━━━━━━━━━━━━━\u001b[0m \u001b[32m313.6/313.6 kB\u001b[0m \u001b[31m2.3 MB/s\u001b[0m eta \u001b[36m0:00:00\u001b[0ma \u001b[36m0:00:01\u001b[0m\n",
      "\u001b[?25hInstalling collected packages: dnspython, email-validator\n",
      "Successfully installed dnspython-2.7.0 email-validator-2.2.0\n",
      "\n",
      "\u001b[1m[\u001b[0m\u001b[34;49mnotice\u001b[0m\u001b[1;39;49m]\u001b[0m\u001b[39;49m A new release of pip is available: \u001b[0m\u001b[31;49m23.0.1\u001b[0m\u001b[39;49m -> \u001b[0m\u001b[32;49m25.1.1\u001b[0m\n",
      "\u001b[1m[\u001b[0m\u001b[34;49mnotice\u001b[0m\u001b[1;39;49m]\u001b[0m\u001b[39;49m To update, run: \u001b[0m\u001b[32;49mpip install --upgrade pip\u001b[0m\n"
     ]
    }
   ],
   "source": [
    "!pip install email-validator\n"
   ]
  },
  {
   "cell_type": "code",
   "execution_count": 5,
   "metadata": {},
   "outputs": [],
   "source": [
    "from email_validator import validate_email, EmailNotValidError\n",
    "\n",
    "def is_valid_email(email):\n",
    "    try:\n",
    "        validate_email(email)\n",
    "        return True\n",
    "    except EmailNotValidError:\n",
    "        return False\n",
    "\n",
    "# Vectorized application\n",
    "df['email_valid'] = df['email'].map(is_valid_email)\n"
   ]
  },
  {
   "cell_type": "code",
   "execution_count": null,
   "metadata": {},
   "outputs": [],
   "source": [
    "# Task B: Addressing Inconsistent Representations\n",
    "\n",
    "# 16. Standardizing Date Formats:\n",
    "# - Identify and correct inconsistent date formats within the dataset.\n",
    "\n",
    "\n",
    "\n",
    "\n",
    "\n",
    "\n",
    "\n",
    "\n",
    "# 17. Pattern Matching for Consistency:\n",
    "# - Standardize phone numbers to a specific pattern (e.g., (123) 456-7890).\n",
    "\n",
    "\n",
    "\n",
    "\n",
    "\n",
    "# 18. Handling Mixed Case Text:\n",
    "# - Convert all text entries to a consistent case (e.g., all uppercase).\n",
    "\n",
    "\n",
    "\n",
    "\n",
    "\n",
    "\n",
    "\n",
    "\n",
    "\n"
   ]
  }
 ],
 "metadata": {
  "kernelspec": {
   "display_name": "Python 3",
   "language": "python",
   "name": "python3"
  },
  "language_info": {
   "codemirror_mode": {
    "name": "ipython",
    "version": 3
   },
   "file_extension": ".py",
   "mimetype": "text/x-python",
   "name": "python",
   "nbconvert_exporter": "python",
   "pygments_lexer": "ipython3",
   "version": "3.10.12"
  }
 },
 "nbformat": 4,
 "nbformat_minor": 2
}
