{
 "cells": [
  {
   "cell_type": "markdown",
   "metadata": {},
   "source": [
    "## Format Compliance for Email\n",
    "\n",
    "**Description**: Check if emails in a list are valid based on a basic regex pattern."
   ]
  },
  {
   "cell_type": "code",
   "execution_count": 1,
   "metadata": {},
   "outputs": [
    {
     "name": "stdout",
     "output_type": "stream",
     "text": [
      "Valid Emails:\n",
      "john.doe@example.com\n",
      "jane_doe123@sub.domain.org\n"
     ]
    }
   ],
   "source": [
    "# Write your code from here\n",
    "import re\n",
    "\n",
    "# Sample list of emails\n",
    "emails = [\n",
    "    \"john.doe@example.com\",\n",
    "    \"invalid-email@\",\n",
    "    \"jane_doe123@sub.domain.org\",\n",
    "    \"noatsymbol.com\",\n",
    "    \"user@domain\"\n",
    "]\n",
    "\n",
    "# Basic regex for email validation\n",
    "email_pattern = re.compile(r\"^[\\w\\.-]+@[\\w\\.-]+\\.\\w+$\")\n",
    "\n",
    "# Validate emails\n",
    "valid_emails = [email for email in emails if email_pattern.match(email)]\n",
    "\n",
    "print(\"Valid Emails:\")\n",
    "for email in valid_emails:\n",
    "    print(email)\n"
   ]
  },
  {
   "cell_type": "markdown",
   "metadata": {},
   "source": [
    "## Format Compliance for Phone Numbers\n",
    "\n",
    "**Description**: Verify if the phone numbers follow a specific pattern."
   ]
  },
  {
   "cell_type": "code",
   "execution_count": 2,
   "metadata": {},
   "outputs": [
    {
     "name": "stdout",
     "output_type": "stream",
     "text": [
      "Valid Phone Numbers:\n",
      "+1-800-1234567\n",
      "+91-9876543210\n",
      "+91-98765-43210\n"
     ]
    }
   ],
   "source": [
    "# Write your code from here\n",
    "\n",
    "import re\n",
    "\n",
    "# Sample list of phone numbers\n",
    "phone_numbers = [\n",
    "    \"+1-800-1234567\",\n",
    "    \"+91-9876543210\",\n",
    "    \"1234567890\",\n",
    "    \"+44 20 7946 0958\",\n",
    "    \"+123-456789\",\n",
    "    \"+91-98765-43210\"\n",
    "]\n",
    "\n",
    "# Regex pattern for phone number format: +CountryCode-AreaCode-Number\n",
    "phone_pattern = re.compile(r\"^\\+\\d{1,3}-\\d{3,5}-?\\d{5,10}$\")\n",
    "\n",
    "# Validate phone numbers\n",
    "valid_numbers = [number for number in phone_numbers if phone_pattern.match(number)]\n",
    "\n",
    "print(\"Valid Phone Numbers:\")\n",
    "for number in valid_numbers:\n",
    "    print(number)\n"
   ]
  },
  {
   "cell_type": "markdown",
   "metadata": {},
   "source": [
    "## Checking Date Validity Format\n",
    "\n",
    "**Description**: Ensure the dates in a list adhere to a specific format (e.g., YYYY-MM-DD)."
   ]
  },
  {
   "cell_type": "code",
   "execution_count": 3,
   "metadata": {},
   "outputs": [
    {
     "name": "stdout",
     "output_type": "stream",
     "text": [
      "Valid Dates:\n",
      "2023-12-25\n",
      "2023-04-15\n",
      "2023-11-05\n"
     ]
    }
   ],
   "source": [
    "# Write your code from here\n",
    "import re\n",
    "from datetime import datetime\n",
    "\n",
    "# Sample list of dates\n",
    "dates = [\n",
    "    \"2023-12-25\",\n",
    "    \"2023-02-30\",\n",
    "    \"2023-04-15\",\n",
    "    \"12-25-2023\",\n",
    "    \"2023-13-01\",\n",
    "    \"2023-11-05\"\n",
    "]\n",
    "\n",
    "# Regex pattern for YYYY-MM-DD\n",
    "date_pattern = re.compile(r\"^\\d{4}-\\d{2}-\\d{2}$\")\n",
    "\n",
    "# Function to validate both format and logical date\n",
    "def is_valid_date(date_str):\n",
    "    if not date_pattern.match(date_str):\n",
    "        return False\n",
    "    try:\n",
    "        datetime.strptime(date_str, \"%Y-%m-%d\")\n",
    "        return True\n",
    "    except ValueError:\n",
    "        return False\n",
    "\n",
    "# Filter valid dates\n",
    "valid_dates = [date for date in dates if is_valid_date(date)]\n",
    "\n",
    "print(\"Valid Dates:\")\n",
    "for date in valid_dates:\n",
    "    print(date)\n"
   ]
  }
 ],
 "metadata": {
  "kernelspec": {
   "display_name": "Python 3",
   "language": "python",
   "name": "python3"
  },
  "language_info": {
   "codemirror_mode": {
    "name": "ipython",
    "version": 3
   },
   "file_extension": ".py",
   "mimetype": "text/x-python",
   "name": "python",
   "nbconvert_exporter": "python",
   "pygments_lexer": "ipython3",
   "version": "3.10.12"
  }
 },
 "nbformat": 4,
 "nbformat_minor": 2
}
