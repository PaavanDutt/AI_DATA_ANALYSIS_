{
 "cells": [
  {
   "cell_type": "markdown",
   "metadata": {},
   "source": [
    "### Task 1: Measure Data Accuracy using a Trusted Source\n",
    "\n",
    "**Description**: You have two datasets of product prices: `company_prices.csv` and\n",
    "`trusted_prices.csv` . Check if the prices in `company_prices.csv` match the prices in\n",
    "`trusted_prices.csv` . Assume both files have a \"product_id\" and \"price\" column."
   ]
  },
  {
   "cell_type": "code",
   "execution_count": 1,
   "metadata": {},
   "outputs": [
    {
     "name": "stdout",
     "output_type": "stream",
     "text": [
      "CSV files created successfully!\n"
     ]
    }
   ],
   "source": [
    "import pandas as pd\n",
    "\n",
    "# Data for company_prices.csv\n",
    "company_data = {\n",
    "    'product_id': [101, 102, 103, 104, 105],\n",
    "    'price': [19.99, 29.49, 15.00, 45.50, 10.99]\n",
    "}\n",
    "company_df = pd.DataFrame(company_data)\n",
    "company_df.to_csv('company_prices.csv', index=False)\n",
    "\n",
    "# Data for trusted_prices.csv\n",
    "trusted_data = {\n",
    "    'product_id': [101, 102, 103, 104, 105],\n",
    "    'price': [19.99, 29.99, 15.00, 45.50, 11.49]\n",
    "}\n",
    "trusted_df = pd.DataFrame(trusted_data)\n",
    "trusted_df.to_csv('trusted_prices.csv', index=False)\n",
    "\n",
    "print(\"CSV files created successfully!\")\n"
   ]
  },
  {
   "cell_type": "code",
   "execution_count": 2,
   "metadata": {},
   "outputs": [
    {
     "name": "stdout",
     "output_type": "stream",
     "text": [
      "Price accuracy: 60.00%\n",
      "Number of mismatches: 2\n",
      "   product_id  price_company  price_trusted\n",
      "1         102          29.49          29.99\n",
      "4         105          10.99          11.49\n"
     ]
    }
   ],
   "source": [
    "import pandas as pd\n",
    "\n",
    "# Load the datasets\n",
    "company_df = pd.read_csv('company_prices.csv')\n",
    "trusted_df = pd.read_csv('trusted_prices.csv')\n",
    "\n",
    "# Merge datasets on product_id\n",
    "merged_df = pd.merge(company_df, trusted_df, on='product_id', suffixes=('_company', '_trusted'))\n",
    "\n",
    "# Compare prices\n",
    "merged_df['price_match'] = merged_df['price_company'] == merged_df['price_trusted']\n",
    "\n",
    "# Calculate accuracy\n",
    "accuracy = merged_df['price_match'].mean() * 100\n",
    "\n",
    "print(f\"Price accuracy: {accuracy:.2f}%\")\n",
    "\n",
    "# Optional: Show mismatches\n",
    "mismatches = merged_df[~merged_df['price_match']]\n",
    "print(f\"Number of mismatches: {len(mismatches)}\")\n",
    "print(mismatches[['product_id', 'price_company', 'price_trusted']])\n"
   ]
  },
  {
   "cell_type": "markdown",
   "metadata": {},
   "source": [
    "### Task 2: Detect Incorrect Values\n",
    "\n",
    "**Description**: In `company_prices.csv` , detect any negative price values which are incorrect values for prices."
   ]
  },
  {
   "cell_type": "code",
   "execution_count": 3,
   "metadata": {},
   "outputs": [
    {
     "name": "stdout",
     "output_type": "stream",
     "text": [
      "No negative prices detected.\n"
     ]
    }
   ],
   "source": [
    "import pandas as pd\n",
    "\n",
    "# Load the company prices dataset\n",
    "company_df = pd.read_csv('company_prices.csv')\n",
    "\n",
    "# Filter rows with negative prices\n",
    "negative_prices = company_df[company_df['price'] < 0]\n",
    "\n",
    "if not negative_prices.empty:\n",
    "    print(\"Negative prices found:\")\n",
    "    print(negative_prices)\n",
    "else:\n",
    "    print(\"No negative prices detected.\")\n"
   ]
  },
  {
   "cell_type": "markdown",
   "metadata": {},
   "source": [
    "### Task 3: Check Missing Data Rates\n",
    "\n",
    "**Description**: Calculate the percentage of missing values in `customer_data.csv` ."
   ]
  },
  {
   "cell_type": "code",
   "execution_count": 4,
   "metadata": {},
   "outputs": [
    {
     "name": "stdout",
     "output_type": "stream",
     "text": [
      "Percentage of missing values per column:\n",
      "CustomerID     0.0\n",
      "Name           0.0\n",
      "Email         10.0\n",
      "Phone         10.0\n",
      "Gender         0.0\n",
      "dtype: float64\n"
     ]
    }
   ],
   "source": [
    "\n",
    "import pandas as pd\n",
    "\n",
    "# Load the customer data\n",
    "customer_df = pd.read_csv('/workspaces/AI_DATA_ANALYSIS_/src/Module 3/Hands-on - Data Quality Assessment & Profiling/customer_data.csv')\n",
    "\n",
    "# Calculate percentage of missing values per column\n",
    "missing_percentage = customer_df.isnull().mean() * 100\n",
    "\n",
    "print(\"Percentage of missing values per column:\")\n",
    "print(missing_percentage)\n"
   ]
  },
  {
   "cell_type": "markdown",
   "metadata": {},
   "source": [
    "### Task 4: Handling Partially Available Records\n",
    "\n",
    "**Description**: In `customer_data.csv` , identify records with missing \"email\" or \"phone number\" and decide whether to drop or fill them."
   ]
  },
  {
   "cell_type": "code",
   "execution_count": 7,
   "metadata": {},
   "outputs": [
    {
     "name": "stdout",
     "output_type": "stream",
     "text": [
      "Records with missing email or phone number: 2\n",
      "   CustomerID     Name                Email         Phone Gender\n",
      "2           3  Charlie  charlie@example.com           NaN   Male\n",
      "7           8    Henry                  NaN  789-012-3456   Male\n",
      "\n",
      "After dropping incomplete records, remaining rows: 8\n",
      "\n",
      "After filling missing values:\n",
      "   CustomerID   Name                Email         Phone Gender\n",
      "7           8  Henry  noemail@example.com  789-012-3456   Male\n",
      "   CustomerID     Name                Email         Phone Gender\n",
      "2           3  Charlie  charlie@example.com  000-000-0000   Male\n"
     ]
    }
   ],
   "source": [
    "# Write your code from here\n",
    "\n",
    "import pandas as pd\n",
    "\n",
    "# Load customer data\n",
    "customer_df = pd.read_csv('/workspaces/AI_DATA_ANALYSIS_/src/Module 3/Hands-on - Data Quality Assessment & Profiling/customer_data.csv')\n",
    "\n",
    "# Identify records with missing email or phone number\n",
    "missing_contact = customer_df[customer_df['Email'].isnull() | customer_df['Phone'].isnull()]\n",
    "\n",
    "print(f\"Records with missing email or phone number: {len(missing_contact)}\")\n",
    "print(missing_contact)\n",
    "\n",
    "# Option 1: Drop records with missing email or phone number\n",
    "dropped_df = customer_df.dropna(subset=['Email', 'Phone'])\n",
    "print(f\"\\nAfter dropping incomplete records, remaining rows: {len(dropped_df)}\")\n",
    "\n",
    "# Option 2: Fill missing values (example fill)\n",
    "filled_df = customer_df.copy()\n",
    "filled_df['Email'].fillna('noemail@example.com', inplace=True)\n",
    "filled_df['Phone'].fillna('000-000-0000', inplace=True)\n",
    "\n",
    "print(f\"\\nAfter filling missing values:\")\n",
    "print(filled_df.loc[filled_df['Email'] == 'noemail@example.com'])\n",
    "print(filled_df.loc[filled_df['Phone'] == '000-000-0000'])"
   ]
  }
 ],
 "metadata": {
  "kernelspec": {
   "display_name": "Python 3",
   "language": "python",
   "name": "python3"
  },
  "language_info": {
   "codemirror_mode": {
    "name": "ipython",
    "version": 3
   },
   "file_extension": ".py",
   "mimetype": "text/x-python",
   "name": "python",
   "nbconvert_exporter": "python",
   "pygments_lexer": "ipython3",
   "version": "3.10.12"
  }
 },
 "nbformat": 4,
 "nbformat_minor": 2
}
