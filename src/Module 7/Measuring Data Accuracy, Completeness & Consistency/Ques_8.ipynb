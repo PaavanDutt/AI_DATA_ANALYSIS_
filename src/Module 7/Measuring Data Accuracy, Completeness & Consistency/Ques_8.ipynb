{
 "cells": [
  {
   "cell_type": "markdown",
   "metadata": {},
   "source": [
    "# Measuring Data Accuracy\n",
    "\n",
    "**Activity Overview**: Assess data accuracy by comparing it to a trusted source and detecting incorrect values or mismatches.\n",
    "\n",
    "## Title: Product Pricing\n",
    "\n",
    "**Task**: Compare a dataset of product prices with the latest official price list.\n",
    "\n",
    "**Steps**:\n",
    "1. Obtain the latest product price list from the official company website.\n",
    "2. Compare the dataset's product prices against the verified list.\n",
    "3. Identify any discrepancies and mark them for correction."
   ]
  },
  {
   "cell_type": "code",
   "execution_count": 1,
   "metadata": {},
   "outputs": [
    {
     "name": "stdout",
     "output_type": "stream",
     "text": [
      "⚠️ Found 2 price discrepancies:\n",
      "   product_id product_name  price  official_price\n",
      "1         102     Widget B   15.0            14.0\n",
      "3         104     Widget D   12.5            13.0\n"
     ]
    }
   ],
   "source": [
    "# Write your code from here\n",
    "import pandas as pd\n",
    "from io import StringIO\n",
    "\n",
    "# Your product prices dataset (possibly outdated or incorrect)\n",
    "product_prices_csv = StringIO(\"\"\"\n",
    "product_id,product_name,price\n",
    "101,Widget A,10.00\n",
    "102,Widget B,15.00\n",
    "103,Widget C,20.00\n",
    "104,Widget D,12.50\n",
    "\"\"\")\n",
    "\n",
    "# Official product prices dataset (trusted source)\n",
    "official_prices_csv = StringIO(\"\"\"\n",
    "product_id,product_name,official_price\n",
    "101,Widget A,10.00\n",
    "102,Widget B,14.00\n",
    "103,Widget C,20.00\n",
    "104,Widget D,13.00\n",
    "\"\"\")\n",
    "\n",
    "# Load datasets into pandas DataFrames\n",
    "your_prices = pd.read_csv(product_prices_csv)\n",
    "official_prices = pd.read_csv(official_prices_csv)\n",
    "\n",
    "# Merge on product_id and product_name\n",
    "merged = your_prices.merge(official_prices, on=['product_id', 'product_name'], how='left')\n",
    "\n",
    "# Find mismatches (prices that don't match official prices)\n",
    "mismatches = merged[~merged['price'].round(2).eq(merged['official_price'].round(2))]\n",
    "\n",
    "# Display results\n",
    "if mismatches.empty:\n",
    "    print(\"✅ All product prices match the official list.\")\n",
    "else:\n",
    "    print(f\"⚠️ Found {len(mismatches)} price discrepancies:\")\n",
    "    print(mismatches[['product_id', 'product_name', 'price', 'official_price']])\n"
   ]
  }
 ],
 "metadata": {
  "kernelspec": {
   "display_name": "Python 3",
   "language": "python",
   "name": "python3"
  },
  "language_info": {
   "codemirror_mode": {
    "name": "ipython",
    "version": 3
   },
   "file_extension": ".py",
   "mimetype": "text/x-python",
   "name": "python",
   "nbconvert_exporter": "python",
   "pygments_lexer": "ipython3",
   "version": "3.10.12"
  }
 },
 "nbformat": 4,
 "nbformat_minor": 2
}
