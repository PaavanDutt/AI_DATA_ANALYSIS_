{
 "cells": [
  {
   "cell_type": "markdown",
   "metadata": {},
   "source": [
    "## Architecture to Monitor Data Quality Over Time\n",
    "\n",
    "**Description**: Design a monitoring system in Python that checks and logs data quality metrics (accuracy, completeness) for a dataset over time.\n",
    "\n",
    "**Steps to follow:**\n",
    "1. Implement a Scheduled Script:\n",
    "    - Use schedule library to periodically run a script.\n",
    "2. Script to Calculate Metrics:\n",
    "    - For simplicity, use a function calculate_quality_metrics() that calculates and logs metrics such as missing rate or mismatch rate.\n",
    "3. Store Logs:\n",
    "    - Use Python's logging library to save these metrics over time."
   ]
  },
  {
   "cell_type": "code",
   "execution_count": 16,
   "metadata": {},
   "outputs": [
    {
     "name": "stdout",
     "output_type": "stream",
     "text": [
      "Defaulting to user installation because normal site-packages is not writeable\n",
      "Requirement already satisfied: pandas in /home/vscode/.local/lib/python3.10/site-packages (2.1.4)\n",
      "Requirement already satisfied: schedule in /home/vscode/.local/lib/python3.10/site-packages (1.2.2)\n",
      "Requirement already satisfied: python-dateutil>=2.8.2 in /home/vscode/.local/lib/python3.10/site-packages (from pandas) (2.9.0.post0)\n",
      "Requirement already satisfied: numpy<2,>=1.22.4 in /home/vscode/.local/lib/python3.10/site-packages (from pandas) (1.26.4)\n",
      "Requirement already satisfied: pytz>=2020.1 in /home/vscode/.local/lib/python3.10/site-packages (from pandas) (2025.2)\n",
      "Requirement already satisfied: tzdata>=2022.1 in /home/vscode/.local/lib/python3.10/site-packages (from pandas) (2025.2)\n",
      "Requirement already satisfied: six>=1.5 in /home/vscode/.local/lib/python3.10/site-packages (from python-dateutil>=2.8.2->pandas) (1.17.0)\n",
      "\n",
      "\u001b[1m[\u001b[0m\u001b[34;49mnotice\u001b[0m\u001b[1;39;49m]\u001b[0m\u001b[39;49m A new release of pip is available: \u001b[0m\u001b[31;49m23.0.1\u001b[0m\u001b[39;49m -> \u001b[0m\u001b[32;49m25.1.1\u001b[0m\n",
      "\u001b[1m[\u001b[0m\u001b[34;49mnotice\u001b[0m\u001b[1;39;49m]\u001b[0m\u001b[39;49m To update, run: \u001b[0m\u001b[32;49mpip install --upgrade pip\u001b[0m\n"
     ]
    }
   ],
   "source": [
    "!pip3 install pandas schedule\n"
   ]
  },
  {
   "cell_type": "code",
   "execution_count": 17,
   "metadata": {},
   "outputs": [],
   "source": [
    "import pandas as pd\n",
    "import schedule\n",
    "import time\n",
    "import os\n",
    "import logging\n",
    "from IPython.display import display, Markdown\n",
    "\n",
    "# Ensure logs folder exists\n",
    "os.makedirs(\"logs\", exist_ok=True)\n",
    "\n",
    "# Setup logging\n",
    "log_file = \"logs/quality.log\"\n",
    "logging.basicConfig(\n",
    "    filename=log_file,\n",
    "    level=logging.INFO,\n",
    "    format=\"%(asctime)s | %(levelname)s | %(message)s\"\n",
    ")\n",
    "\n",
    "# Expected column types\n",
    "EXPECTED_TYPES = {\n",
    "    'name': str,\n",
    "    'age': int,\n",
    "    'salary': float\n",
    "}\n",
    "\n",
    "def calculate_quality_metrics(df, expected_types):\n",
    "    metrics = {}\n",
    "\n",
    "    missing_rates = df.isnull().mean().to_dict()\n",
    "    metrics['missing_rate'] = {k: round(v, 3) for k, v in missing_rates.items()}\n",
    "\n",
    "    mismatch_rate = {}\n",
    "    for col, expected_type in expected_types.items():\n",
    "        if col in df.columns:\n",
    "            mismatches = df[col].apply(lambda x: not isinstance(x, expected_type) if pd.notnull(x) else False)\n",
    "            mismatch_rate[col] = round(mismatches.mean(), 3)\n",
    "    metrics['mismatch_rate'] = mismatch_rate\n",
    "\n",
    "    return metrics\n"
   ]
  },
  {
   "cell_type": "code",
   "execution_count": 21,
   "metadata": {},
   "outputs": [],
   "source": [
    "def monitor_data_quality():\n",
    "    try:\n",
    "        df = pd.read_csv(\"/workspaces/AI_DATA_ANALYSIS_/src/Module 7/Measuring Data Accuracy, Completeness & Consistency/data.csv\")\n",
    "        metrics = calculate_quality_metrics(df, EXPECTED_TYPES)\n",
    "        logging.info(f\"Quality Metrics: {metrics}\")\n",
    "        display(Markdown(f\"**Logged:** `{metrics}`\"))\n",
    "    except Exception as e:\n",
    "        logging.error(f\"Monitoring failed: {e}\")\n",
    "        display(Markdown(f\"**Error:** {e}\"))\n"
   ]
  },
  {
   "cell_type": "code",
   "execution_count": 19,
   "metadata": {},
   "outputs": [
    {
     "data": {
      "text/markdown": [
       "✅ **Scheduler started. Monitoring every 30 seconds...**"
      ],
      "text/plain": [
       "<IPython.core.display.Markdown object>"
      ]
     },
     "metadata": {},
     "output_type": "display_data"
    }
   ],
   "source": [
    "# Run this cell to start scheduled monitoring\n",
    "from threading import Thread\n",
    "\n",
    "def run_scheduler():\n",
    "    schedule.every(30).seconds.do(monitor_data_quality)\n",
    "    while True:\n",
    "        schedule.run_pending()\n",
    "        time.sleep(1)\n",
    "\n",
    "# Start the scheduler in a thread\n",
    "Thread(target=run_scheduler, daemon=True).start()\n",
    "display(Markdown(\"✅ **Scheduler started. Monitoring every 30 seconds...**\"))\n"
   ]
  },
  {
   "cell_type": "code",
   "execution_count": 28,
   "metadata": {},
   "outputs": [
    {
     "name": "stdout",
     "output_type": "stream",
     "text": [
      "2025-05-25 05:28:25,235 - INFO - Data Quality Metrics: {'id_completeness': 1.0, 'name_completeness': 0.75, 'age_completeness': 0.75, 'status_completeness': 1.0, 'status_accuracy': 1.0}\n",
      "2025-05-25 05:29:32,132 - INFO - Data Quality Metrics: {'id_completeness': 1.0, 'name_completeness': 0.75, 'age_completeness': 0.75, 'status_completeness': 1.0, 'status_accuracy': 1.0}\n",
      "2025-05-25 05:31:26,855 - INFO - Data Quality Metrics: {'id_completeness': 1.0, 'name_completeness': 0.75, 'age_completeness': 0.75, 'status_completeness': 1.0, 'status_accuracy': 1.0}\n",
      "2025-05-25 05:35:12,674 - INFO - Quality Metrics: {'missing_rate': {'name': 0.143, 'age': 0.143, 'salary': 0.143}, 'mismatch_rate': {'name': 0.0, 'age': 0.857, 'salary': 0.857}}\n",
      "2025-05-25 05:35:42,711 - INFO - Quality Metrics: {'missing_rate': {'name': 0.143, 'age': 0.143, 'salary': 0.143}, 'mismatch_rate': {'name': 0.0, 'age': 0.857, 'salary': 0.857}}\n",
      "2025-05-25 05:36:12,746 - INFO - Quality Metrics: {'missing_rate': {'name': 0.143, 'age': 0.143, 'salary': 0.143}, 'mismatch_rate': {'name': 0.0, 'age': 0.857, 'salary': 0.857}}\n",
      "2025-05-25 05:36:42,782 - INFO - Quality Metrics: {'missing_rate': {'name': 0.143, 'age': 0.143, 'salary': 0.143}, 'mismatch_rate': {'name': 0.0, 'age': 0.857, 'salary': 0.857}}\n",
      "2025-05-25 05:37:01,070 - INFO - Quality Metrics: {'missing_rate': {'name': 0.143, 'age': 0.143, 'salary': 0.143}, 'mismatch_rate': {'name': 0.0, 'age': 0.857, 'salary': 0.857}}\n",
      "2025-05-25 05:37:12,815 - INFO - Quality Metrics: {'missing_rate': {'name': 0.143, 'age': 0.143, 'salary': 0.143}, 'mismatch_rate': {'name': 0.0, 'age': 0.857, 'salary': 0.857}}\n",
      "2025-05-25 05:37:42,852 - INFO - Quality Metrics: {'missing_rate': {'name': 0.143, 'age': 0.143, 'salary': 0.143}, 'mismatch_rate': {'name': 0.0, 'age': 0.857, 'salary': 0.857}}\n",
      "2025-05-25 05:38:12,894 - INFO - Quality Metrics: {'missing_rate': {'name': 0.143, 'age': 0.143, 'salary': 0.143}, 'mismatch_rate': {'name': 0.0, 'age': 0.857, 'salary': 0.857}}\n",
      "2025-05-25 05:38:42,929 - INFO - Quality Metrics: {'missing_rate': {'name': 0.143, 'age': 0.143, 'salary': 0.143}, 'mismatch_rate': {'name': 0.0, 'age': 0.857, 'salary': 0.857}}\n",
      "2025-05-25 05:39:12,965 - INFO - Quality Metrics: {'missing_rate': {'name': 0.143, 'age': 0.143, 'salary': 0.143}, 'mismatch_rate': {'name': 0.0, 'age': 0.857, 'salary': 0.857}}\n",
      "2025-05-25 05:39:43,003 - INFO - Quality Metrics: {'missing_rate': {'name': 0.143, 'age': 0.143, 'salary': 0.143}, 'mismatch_rate': {'name': 0.0, 'age': 0.857, 'salary': 0.857}}\n",
      "\n"
     ]
    }
   ],
   "source": [
    "with open(\"/workspaces/AI_DATA_ANALYSIS_/src/Module 7/Measuring Data Accuracy, Completeness & Consistency/data_quality.log\", \"r\") as f:\n",
    "    print(f.read())\n"
   ]
  },
  {
   "cell_type": "code",
   "execution_count": 24,
   "metadata": {},
   "outputs": [
    {
     "data": {
      "text/markdown": [
       "**Logged:** `{'missing_rate': {'name': 0.143, 'age': 0.143, 'salary': 0.143}, 'mismatch_rate': {'name': 0.0, 'age': 0.857, 'salary': 0.857}}`"
      ],
      "text/plain": [
       "<IPython.core.display.Markdown object>"
      ]
     },
     "metadata": {},
     "output_type": "display_data"
    }
   ],
   "source": [
    "monitor_data_quality()\n"
   ]
  }
 ],
 "metadata": {
  "kernelspec": {
   "display_name": "Python 3",
   "language": "python",
   "name": "python3"
  },
  "language_info": {
   "codemirror_mode": {
    "name": "ipython",
    "version": 3
   },
   "file_extension": ".py",
   "mimetype": "text/x-python",
   "name": "python",
   "nbconvert_exporter": "python",
   "pygments_lexer": "ipython3",
   "version": "3.10.12"
  }
 },
 "nbformat": 4,
 "nbformat_minor": 2
}
