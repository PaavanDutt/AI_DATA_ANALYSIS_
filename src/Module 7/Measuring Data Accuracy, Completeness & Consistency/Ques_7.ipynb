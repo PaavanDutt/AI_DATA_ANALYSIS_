{
 "cells": [
  {
   "cell_type": "markdown",
   "metadata": {},
   "source": [
    "## Advanced Consistency Check with Hierarchical Data\n",
    "\n",
    "**Description**: You have two datasets `orders.csv` and `order_items.csv` . Perform a consistency check to ensure each order in `orders.csv` has corresponding items in `order_items.csv` ."
   ]
  },
  {
   "cell_type": "code",
   "execution_count": 1,
   "metadata": {},
   "outputs": [
    {
     "name": "stdout",
     "output_type": "stream",
     "text": [
      "✅ Consistency Check Results\n",
      "- Orders with no items: {104}\n",
      "- Orphan item references (order_id in items not in orders): {105}\n"
     ]
    },
    {
     "data": {
      "text/markdown": [
       "### 🔍 Orders with No Items"
      ],
      "text/plain": [
       "<IPython.core.display.Markdown object>"
      ]
     },
     "metadata": {},
     "output_type": "display_data"
    },
    {
     "data": {
      "text/html": [
       "<div>\n",
       "<style scoped>\n",
       "    .dataframe tbody tr th:only-of-type {\n",
       "        vertical-align: middle;\n",
       "    }\n",
       "\n",
       "    .dataframe tbody tr th {\n",
       "        vertical-align: top;\n",
       "    }\n",
       "\n",
       "    .dataframe thead th {\n",
       "        text-align: right;\n",
       "    }\n",
       "</style>\n",
       "<table border=\"1\" class=\"dataframe\">\n",
       "  <thead>\n",
       "    <tr style=\"text-align: right;\">\n",
       "      <th></th>\n",
       "      <th>order_id</th>\n",
       "      <th>customer</th>\n",
       "      <th>date</th>\n",
       "    </tr>\n",
       "  </thead>\n",
       "  <tbody>\n",
       "    <tr>\n",
       "      <th>3</th>\n",
       "      <td>104</td>\n",
       "      <td>David</td>\n",
       "      <td>2024-01-04</td>\n",
       "    </tr>\n",
       "  </tbody>\n",
       "</table>\n",
       "</div>"
      ],
      "text/plain": [
       "   order_id customer        date\n",
       "3       104    David  2024-01-04"
      ]
     },
     "metadata": {},
     "output_type": "display_data"
    },
    {
     "data": {
      "text/markdown": [
       "### 🔍 Orphan Items (Invalid Order References)"
      ],
      "text/plain": [
       "<IPython.core.display.Markdown object>"
      ]
     },
     "metadata": {},
     "output_type": "display_data"
    },
    {
     "data": {
      "text/html": [
       "<div>\n",
       "<style scoped>\n",
       "    .dataframe tbody tr th:only-of-type {\n",
       "        vertical-align: middle;\n",
       "    }\n",
       "\n",
       "    .dataframe tbody tr th {\n",
       "        vertical-align: top;\n",
       "    }\n",
       "\n",
       "    .dataframe thead th {\n",
       "        text-align: right;\n",
       "    }\n",
       "</style>\n",
       "<table border=\"1\" class=\"dataframe\">\n",
       "  <thead>\n",
       "    <tr style=\"text-align: right;\">\n",
       "      <th></th>\n",
       "      <th>item_id</th>\n",
       "      <th>order_id</th>\n",
       "      <th>product</th>\n",
       "      <th>quantity</th>\n",
       "    </tr>\n",
       "  </thead>\n",
       "  <tbody>\n",
       "    <tr>\n",
       "      <th>4</th>\n",
       "      <td>5</td>\n",
       "      <td>105</td>\n",
       "      <td>Tablet</td>\n",
       "      <td>1</td>\n",
       "    </tr>\n",
       "  </tbody>\n",
       "</table>\n",
       "</div>"
      ],
      "text/plain": [
       "   item_id  order_id product  quantity\n",
       "4        5       105  Tablet         1"
      ]
     },
     "metadata": {},
     "output_type": "display_data"
    }
   ],
   "source": [
    "# Write your code from here\n",
    "\n",
    "import pandas as pd\n",
    "from io import StringIO\n",
    "\n",
    "# Simulated CSV content for orders.csv\n",
    "orders_csv = StringIO(\"\"\"\n",
    "order_id,customer,date\n",
    "101,Alice,2024-01-01\n",
    "102,Bob,2024-01-02\n",
    "103,Charlie,2024-01-03\n",
    "104,David,2024-01-04\n",
    "\"\"\")\n",
    "\n",
    "# Simulated CSV content for order_items.csv\n",
    "order_items_csv = StringIO(\"\"\"\n",
    "item_id,order_id,product,quantity\n",
    "1,101,Keyboard,1\n",
    "2,101,Mouse,2\n",
    "3,102,Laptop,1\n",
    "4,103,Monitor,1\n",
    "5,105,Tablet,1\n",
    "\"\"\")\n",
    "\n",
    "# Read CSVs into DataFrames\n",
    "orders_df = pd.read_csv(orders_csv)\n",
    "items_df = pd.read_csv(order_items_csv)\n",
    "\n",
    "# Step 1: Orders with no corresponding items\n",
    "orders_with_items = set(items_df['order_id'].unique())\n",
    "orders_all = set(orders_df['order_id'].unique())\n",
    "orders_missing_items = orders_all - orders_with_items\n",
    "\n",
    "# Step 2: Orphan item references (items with order_id not found in orders)\n",
    "orphan_items = orders_with_items - orders_all\n",
    "\n",
    "# --- Output Results ---\n",
    "print(\"✅ Consistency Check Results\")\n",
    "print(f\"- Orders with no items: {orders_missing_items or 'None'}\")\n",
    "print(f\"- Orphan item references (order_id in items not in orders): {orphan_items or 'None'}\")\n",
    "\n",
    "# Optional: Display rows if you're in Jupyter\n",
    "try:\n",
    "    from IPython.display import display, Markdown\n",
    "    if orders_missing_items:\n",
    "        display(Markdown(\"### 🔍 Orders with No Items\"))\n",
    "        display(orders_df[orders_df['order_id'].isin(orders_missing_items)])\n",
    "\n",
    "    if orphan_items:\n",
    "        display(Markdown(\"### 🔍 Orphan Items (Invalid Order References)\"))\n",
    "        display(items_df[items_df['order_id'].isin(orphan_items)])\n",
    "except ImportError:\n",
    "    pass\n"
   ]
  }
 ],
 "metadata": {
  "kernelspec": {
   "display_name": "Python 3",
   "language": "python",
   "name": "python3"
  },
  "language_info": {
   "codemirror_mode": {
    "name": "ipython",
    "version": 3
   },
   "file_extension": ".py",
   "mimetype": "text/x-python",
   "name": "python",
   "nbconvert_exporter": "python",
   "pygments_lexer": "ipython3",
   "version": "3.10.12"
  }
 },
 "nbformat": 4,
 "nbformat_minor": 2
}
