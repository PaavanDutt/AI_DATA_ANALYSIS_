{
 "cells": [
  {
   "cell_type": "markdown",
   "metadata": {},
   "source": [
    "# Measuring Completeness\n",
    "\n",
    "**Activity Overview**: Evaluate data completeness by checking missing data rates and handling partially available records.\n",
    "\n",
    "## Title: Customer Profiles\n",
    "\n",
    "**Task**: Calculate the missing data rate for customer profiles.\n",
    "\n",
    "**Steps**:\n",
    "1. List all required fields for a complete customer profile (e.g., name, address, email,\n",
    "phone number).\n",
    "2. Analyze the dataset to count how many profiles have missing fields.\n",
    "3. Calculate the percentage of missing data fields across all profiles."
   ]
  },
  {
   "cell_type": "code",
   "execution_count": 1,
   "metadata": {},
   "outputs": [
    {
     "name": "stdout",
     "output_type": "stream",
     "text": [
      "📊 Data Completeness Report\n",
      "--------------------------\n",
      "Total profiles: 5\n",
      "Required fields: ['name', 'address', 'email', 'phone']\n",
      "Missing values per field:\n",
      "name       1\n",
      "address    1\n",
      "email      1\n",
      "phone      1\n",
      "dtype: int64\n",
      "Total missing fields: 4 out of 20 (20.00%)\n",
      "Profiles with any missing required field: 3\n"
     ]
    }
   ],
   "source": [
    "# Write your code from here\n",
    "import pandas as pd\n",
    "from io import StringIO\n",
    "\n",
    "# Sample customer profiles CSV with missing values\n",
    "customer_profiles_csv = StringIO(\"\"\"\n",
    "customer_id,name,address,email,phone\n",
    "1,Alice,123 Apple St,alice@example.com,555-1234\n",
    "2,Bob,,bob@example.com,\n",
    "3,Charlie,789 Cherry Ave,,555-5678\n",
    "4,,456 Banana Blvd,charlie@example.com,555-8765\n",
    "5,Eve,1010 Date Dr,eve@example.com,555-0000\n",
    "\"\"\")\n",
    "\n",
    "# Load dataset\n",
    "df = pd.read_csv(customer_profiles_csv)\n",
    "\n",
    "# Required fields for completeness\n",
    "required_fields = ['name', 'address', 'email', 'phone']\n",
    "\n",
    "# Calculate missing count per field\n",
    "missing_per_field = df[required_fields].isnull().sum()\n",
    "\n",
    "# Total number of fields to check (profiles * required fields)\n",
    "total_fields = df.shape[0] * len(required_fields)\n",
    "\n",
    "# Total missing fields across all profiles\n",
    "total_missing = missing_per_field.sum()\n",
    "\n",
    "# Percentage of missing data fields\n",
    "missing_percentage = (total_missing / total_fields) * 100\n",
    "\n",
    "# Number of profiles with any missing required field\n",
    "profiles_with_missing = df[required_fields].isnull().any(axis=1).sum()\n",
    "\n",
    "# Output results\n",
    "print(\"📊 Data Completeness Report\")\n",
    "print(\"--------------------------\")\n",
    "print(f\"Total profiles: {df.shape[0]}\")\n",
    "print(f\"Required fields: {required_fields}\")\n",
    "print(f\"Missing values per field:\\n{missing_per_field}\")\n",
    "print(f\"Total missing fields: {total_missing} out of {total_fields} ({missing_percentage:.2f}%)\")\n",
    "print(f\"Profiles with any missing required field: {profiles_with_missing}\")\n"
   ]
  }
 ],
 "metadata": {
  "kernelspec": {
   "display_name": "Python 3",
   "language": "python",
   "name": "python3"
  },
  "language_info": {
   "codemirror_mode": {
    "name": "ipython",
    "version": 3
   },
   "file_extension": ".py",
   "mimetype": "text/x-python",
   "name": "python",
   "nbconvert_exporter": "python",
   "pygments_lexer": "ipython3",
   "version": "3.10.12"
  }
 },
 "nbformat": 4,
 "nbformat_minor": 2
}
