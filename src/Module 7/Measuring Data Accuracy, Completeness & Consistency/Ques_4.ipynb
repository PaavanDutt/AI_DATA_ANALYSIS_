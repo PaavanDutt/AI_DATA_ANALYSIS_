{
 "cells": [
  {
   "cell_type": "markdown",
   "metadata": {},
   "source": [
    "## Ensuring Consistency in Multi-source Data Integration\n",
    "\n",
    "**Description**: Validate the integration of two datasets `products_A.csv` and `products_B.csv` . Ensure consistency in product \"category\" information."
   ]
  },
  {
   "cell_type": "code",
   "execution_count": 2,
   "metadata": {},
   "outputs": [
    {
     "name": "stdout",
     "output_type": "stream",
     "text": [
      "Inconsistent category entries:\n",
      "   product_id category_std_A category_std_B\n",
      "2         103          audio  audio devices\n"
     ]
    }
   ],
   "source": [
    "# Write your code from here\n",
    "\n",
    "import pandas as pd\n",
    "\n",
    "# Load datasets\n",
    "df_A = pd.read_csv('products_A.csv')\n",
    "df_B = pd.read_csv('products_B.csv')\n",
    "\n",
    "# Assume the key is 'product_id' and category columns are named 'category' in both\n",
    "key = 'product_id'\n",
    "\n",
    "# Standardize category names: lowercase and strip whitespace\n",
    "df_A['category_std'] = df_A['category'].str.lower().str.strip()\n",
    "df_B['category_std'] = df_B['category'].str.lower().str.strip()\n",
    "\n",
    "# Merge datasets on the key\n",
    "merged_df = pd.merge(df_A[[key, 'category_std']], df_B[[key, 'category_std']], on=key, suffixes=('_A', '_B'))\n",
    "\n",
    "# Identify inconsistencies\n",
    "inconsistent = merged_df[merged_df['category_std_A'] != merged_df['category_std_B']]\n",
    "\n",
    "# Output inconsistencies\n",
    "print(\"Inconsistent category entries:\")\n",
    "print(inconsistent)\n",
    "\n",
    "# Optionally save the report\n",
    "inconsistent.to_csv('category_inconsistencies_report.csv', index=False)\n"
   ]
  },
  {
   "cell_type": "code",
   "execution_count": 1,
   "metadata": {},
   "outputs": [
    {
     "name": "stdout",
     "output_type": "stream",
     "text": [
      "Datasets created: products_A.csv and products_B.csv\n"
     ]
    }
   ],
   "source": [
    "import pandas as pd\n",
    "\n",
    "# Sample data for products_A.csv\n",
    "data_A = {\n",
    "    'product_id': [101, 102, 103, 104, 105],\n",
    "    'product_name': ['Laptop', 'Smartphone', 'Headphones', 'Monitor', 'Keyboard'],\n",
    "    'category': ['Electronics', 'Electronics', 'Audio', 'Electronics', 'Computer Accessories']\n",
    "}\n",
    "\n",
    "# Sample data for products_B.csv\n",
    "data_B = {\n",
    "    'product_id': [101, 102, 103, 104, 105],\n",
    "    'product_name': ['Laptop', 'Smartphone', 'Headphones', 'Monitor', 'Keyboard'],\n",
    "    'category': ['electronics', 'Electronics', 'Audio Devices', 'electronics', 'Computer Accessories']\n",
    "}\n",
    "\n",
    "# Create DataFrames\n",
    "df_A = pd.DataFrame(data_A)\n",
    "df_B = pd.DataFrame(data_B)\n",
    "\n",
    "# Save to CSV locally\n",
    "df_A.to_csv('products_A.csv', index=False)\n",
    "df_B.to_csv('products_B.csv', index=False)\n",
    "\n",
    "print(\"Datasets created: products_A.csv and products_B.csv\")\n"
   ]
  }
 ],
 "metadata": {
  "kernelspec": {
   "display_name": "Python 3",
   "language": "python",
   "name": "python3"
  },
  "language_info": {
   "codemirror_mode": {
    "name": "ipython",
    "version": 3
   },
   "file_extension": ".py",
   "mimetype": "text/x-python",
   "name": "python",
   "nbconvert_exporter": "python",
   "pygments_lexer": "ipython3",
   "version": "3.10.12"
  }
 },
 "nbformat": 4,
 "nbformat_minor": 2
}
