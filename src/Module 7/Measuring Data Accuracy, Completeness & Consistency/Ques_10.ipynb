{
 "cells": [
  {
   "cell_type": "markdown",
   "metadata": {},
   "source": [
    "# Ensuring Consistency\n",
    "\n",
    "**Activity Overview**: Ensure consistency by identifying and resolving conflicting values across datasets.\n",
    "\n",
    "## Title: Customer Address Discrepancies\n",
    "\n",
    "**Task**: Address customer address mismatches between CRM and marketing databases.\n",
    "\n",
    "**Steps**:\n",
    "1. Compare customer addresses in the CRM with those in the marketing database.\n",
    "2. Identify records with conflicting address information.\n",
    "3. Propose a method to consolidate records with verified addresses."
   ]
  },
  {
   "cell_type": "code",
   "execution_count": 2,
   "metadata": {},
   "outputs": [
    {
     "name": "stdout",
     "output_type": "stream",
     "text": [
      "⚠️ Found 2 address conflicts:\n",
      "   customer_id     name      address_crm     address_marketing\n",
      "1            2      Bob  456 Banana Blvd  456 Banana Boulevard\n",
      "2            3  Charlie   789 Cherry Ave     789 Cherry Avenue\n"
     ]
    }
   ],
   "source": [
    "# Write your code from here\n",
    "# Merge datasets on customer_id and name to align records\n",
    "merged_df = crm_df.merge(marketing_df, on=['customer_id', 'name'], suffixes=('_crm', '_marketing'))\n",
    "\n",
    "# Find rows where addresses differ (case-insensitive comparison)\n",
    "address_conflicts = merged_df[\n",
    "    merged_df.apply(lambda row: row['address_crm'].strip().lower() != row['address_marketing'].strip().lower(), axis=1)\n",
    "]\n",
    "\n",
    "print(f\"⚠️ Found {len(address_conflicts)} address conflicts:\")\n",
    "print(address_conflicts[['customer_id', 'name', 'address_crm', 'address_marketing']])\n"
   ]
  },
  {
   "cell_type": "code",
   "execution_count": 3,
   "metadata": {},
   "outputs": [
    {
     "name": "stdout",
     "output_type": "stream",
     "text": [
      "⚠️ Address conflicts after normalization: 1\n",
      "   customer_id     name     address_crm  address_marketing\n",
      "2            3  Charlie  789 Cherry Ave  789 Cherry Avenue\n"
     ]
    }
   ],
   "source": [
    "def normalize_address(addr):\n",
    "    if not isinstance(addr, str):\n",
    "        return addr\n",
    "    replacements = {\n",
    "        'blvd': 'boulevard',\n",
    "        'ave': 'avenue',\n",
    "        'st': 'street',\n",
    "        # add more rules as needed\n",
    "    }\n",
    "    addr = addr.lower()\n",
    "    for abbr, full in replacements.items():\n",
    "        addr = addr.replace(abbr, full)\n",
    "    return addr.strip()\n",
    "\n",
    "merged_df['norm_address_crm'] = merged_df['address_crm'].apply(normalize_address)\n",
    "merged_df['norm_address_marketing'] = merged_df['address_marketing'].apply(normalize_address)\n",
    "\n",
    "# Check conflicts again after normalization\n",
    "normalized_conflicts = merged_df[\n",
    "    merged_df['norm_address_crm'] != merged_df['norm_address_marketing']\n",
    "]\n",
    "\n",
    "print(f\"⚠️ Address conflicts after normalization: {len(normalized_conflicts)}\")\n",
    "print(normalized_conflicts[['customer_id', 'name', 'address_crm', 'address_marketing']])\n"
   ]
  },
  {
   "cell_type": "code",
   "execution_count": 1,
   "metadata": {},
   "outputs": [],
   "source": [
    "import pandas as pd\n",
    "from io import StringIO\n",
    "\n",
    "# CRM customer data\n",
    "crm_csv = StringIO(\"\"\"\n",
    "customer_id,name,address\n",
    "1,Alice,123 Apple St\n",
    "2,Bob,456 Banana Blvd\n",
    "3,Charlie,789 Cherry Ave\n",
    "4,David,1010 Date Dr\n",
    "\"\"\")\n",
    "\n",
    "# Marketing customer data\n",
    "marketing_csv = StringIO(\"\"\"\n",
    "customer_id,name,address\n",
    "1,Alice,123 Apple St\n",
    "2,Bob,456 Banana Boulevard\n",
    "3,Charlie,789 Cherry Avenue\n",
    "4,David,1010 Date Dr\n",
    "\"\"\")\n",
    "\n",
    "# Load dataframes\n",
    "crm_df = pd.read_csv(crm_csv)\n",
    "marketing_df = pd.read_csv(marketing_csv)\n"
   ]
  }
 ],
 "metadata": {
  "kernelspec": {
   "display_name": "Python 3",
   "language": "python",
   "name": "python3"
  },
  "language_info": {
   "codemirror_mode": {
    "name": "ipython",
    "version": 3
   },
   "file_extension": ".py",
   "mimetype": "text/x-python",
   "name": "python",
   "nbconvert_exporter": "python",
   "pygments_lexer": "ipython3",
   "version": "3.10.12"
  }
 },
 "nbformat": 4,
 "nbformat_minor": 2
}
