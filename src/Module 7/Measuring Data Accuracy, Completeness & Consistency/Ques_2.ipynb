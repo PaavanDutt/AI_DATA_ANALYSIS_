{
 "cells": [
  {
   "cell_type": "markdown",
   "metadata": {},
   "source": [
    "## Find Conflicting Values Across Datasets\n",
    "\n",
    "**Description**: You have two datasets: `crm_customers.csv` and `erp_customers.csv` . Find customers with conflicting \"email\" information."
   ]
  },
  {
   "cell_type": "code",
   "execution_count": 1,
   "metadata": {},
   "outputs": [
    {
     "name": "stdout",
     "output_type": "stream",
     "text": [
      "CRM and ERP customer CSV files created successfully!\n"
     ]
    }
   ],
   "source": [
    "import pandas as pd\n",
    "\n",
    "# CRM customers data\n",
    "crm_data = {\n",
    "    'customer_id': [1, 2, 3, 4, 5],\n",
    "    'email': [\n",
    "        'john.doe@example.com',\n",
    "        'jane.smith@example.com',\n",
    "        'bob.jones@example.com',\n",
    "        'alice.wong@example.com',\n",
    "        'mike.brown@example.com'\n",
    "    ]\n",
    "}\n",
    "crm_df = pd.DataFrame(crm_data)\n",
    "crm_df.to_csv('crm_customers.csv', index=False)\n",
    "\n",
    "# ERP customers data\n",
    "erp_data = {\n",
    "    'customer_id': [1, 2, 3, 4, 5],\n",
    "    'email': [\n",
    "        'john.doe@example.com',\n",
    "        'jane.s@example.com',\n",
    "        'bob.jones@example.com',\n",
    "        'alice.wong123@example.com',\n",
    "        'mike.brown@example.com'\n",
    "    ]\n",
    "}\n",
    "erp_df = pd.DataFrame(erp_data)\n",
    "erp_df.to_csv('erp_customers.csv', index=False)\n",
    "\n",
    "print(\"CRM and ERP customer CSV files created successfully!\")\n"
   ]
  },
  {
   "cell_type": "code",
   "execution_count": 2,
   "metadata": {},
   "outputs": [
    {
     "name": "stdout",
     "output_type": "stream",
     "text": [
      "Number of customers with conflicting emails: 2\n",
      "   customer_id               email_crm                  email_erp\n",
      "1            2  jane.smith@example.com         jane.s@example.com\n",
      "3            4  alice.wong@example.com  alice.wong123@example.com\n"
     ]
    }
   ],
   "source": [
    "# Write your code from here\n",
    "import pandas as pd\n",
    "\n",
    "# Load datasets\n",
    "crm_df = pd.read_csv('crm_customers.csv')\n",
    "erp_df = pd.read_csv('erp_customers.csv')\n",
    "\n",
    "# Merge on customer_id\n",
    "merged_df = pd.merge(crm_df, erp_df, on='customer_id', suffixes=('_crm', '_erp'))\n",
    "\n",
    "# Find conflicting emails\n",
    "conflicts = merged_df[merged_df['email_crm'] != merged_df['email_erp']]\n",
    "\n",
    "print(f\"Number of customers with conflicting emails: {len(conflicts)}\")\n",
    "print(conflicts[['customer_id', 'email_crm', 'email_erp']])\n"
   ]
  }
 ],
 "metadata": {
  "kernelspec": {
   "display_name": "Python 3",
   "language": "python",
   "name": "python3"
  },
  "language_info": {
   "codemirror_mode": {
    "name": "ipython",
    "version": 3
   },
   "file_extension": ".py",
   "mimetype": "text/x-python",
   "name": "python",
   "nbconvert_exporter": "python",
   "pygments_lexer": "ipython3",
   "version": "3.10.12"
  }
 },
 "nbformat": 4,
 "nbformat_minor": 2
}
