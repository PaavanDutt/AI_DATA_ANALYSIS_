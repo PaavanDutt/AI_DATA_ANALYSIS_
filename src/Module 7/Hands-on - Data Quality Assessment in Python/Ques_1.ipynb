{
 "cells": [
  {
   "cell_type": "markdown",
   "metadata": {},
   "source": [
    "**Task 1**: Checking Null Values for Completeness\n",
    "\n",
    "**Description**: Verify if there are any null values in a dataset, which indicate incomplete data."
   ]
  },
  {
   "cell_type": "code",
   "execution_count": 1,
   "metadata": {},
   "outputs": [
    {
     "name": "stdout",
     "output_type": "stream",
     "text": [
      "Null values per column:\n",
      "id       0\n",
      "name     0\n",
      "email    1\n",
      "phone    1\n",
      "dtype: int64\n",
      "\n",
      "Any null values in dataset? True\n"
     ]
    }
   ],
   "source": [
    "# Write your code from here\n",
    "import pandas as pd\n",
    "from io import StringIO\n",
    "\n",
    "# Sample dataset with some missing values\n",
    "data_csv = StringIO(\"\"\"\n",
    "id,name,email,phone\n",
    "1,Alice,alice@example.com,555-1234\n",
    "2,Bob,,555-5678\n",
    "3,Charlie,charlie@example.com,\n",
    "4,David,david@example.com,555-8765\n",
    "\"\"\")\n",
    "\n",
    "# Load dataset\n",
    "df = pd.read_csv(data_csv)\n",
    "\n",
    "# Check for null values in each column\n",
    "null_counts = df.isnull().sum()\n",
    "\n",
    "# Check if any null values exist\n",
    "any_nulls = df.isnull().values.any()\n",
    "\n",
    "# Output results\n",
    "print(\"Null values per column:\")\n",
    "print(null_counts)\n",
    "print(\"\\nAny null values in dataset?\", any_nulls)\n"
   ]
  },
  {
   "cell_type": "markdown",
   "metadata": {},
   "source": [
    "**Task 2**: Checking Data Type Validity\n",
    "\n",
    "**Description**: Ensure that columns contain data of expected types, e.g., ages are integers."
   ]
  },
  {
   "cell_type": "code",
   "execution_count": 3,
   "metadata": {},
   "outputs": [
    {
     "name": "stdout",
     "output_type": "stream",
     "text": [
      "⚠️ Found invalid 'age' values:\n",
      "  Row 1: twentyfive\n",
      "  Row 3: 40.5\n"
     ]
    }
   ],
   "source": [
    "import pandas as pd\n",
    "from io import StringIO\n",
    "\n",
    "data_csv = StringIO(\"\"\"\n",
    "id,name,age,email\n",
    "1,Alice,30,alice@example.com\n",
    "2,Bob,twentyfive,bob@example.com\n",
    "3,Charlie,45,charlie@example.com\n",
    "4,David,40.5,david@example.com\n",
    "\"\"\")\n",
    "\n",
    "df = pd.read_csv(data_csv)\n",
    "\n",
    "def validate_column_type(df, column, expected_type):\n",
    "    invalid_rows = []\n",
    "    for i, val in df[column].items():  # Updated here\n",
    "        try:\n",
    "            expected_type(val)\n",
    "        except (ValueError, TypeError):\n",
    "            invalid_rows.append((i, val))\n",
    "    return invalid_rows\n",
    "\n",
    "invalid_ages = validate_column_type(df, 'age', int)\n",
    "\n",
    "if not invalid_ages:\n",
    "    print(f\"✅ All '{'age'}' values are valid {int.__name__}s.\")\n",
    "else:\n",
    "    print(f\"⚠️ Found invalid '{'age'}' values:\")\n",
    "    for idx, val in invalid_ages:\n",
    "        print(f\"  Row {idx}: {val}\")\n"
   ]
  },
  {
   "cell_type": "markdown",
   "metadata": {},
   "source": [
    "**Task 3**: Verify Uniqueness of Identifiers\n",
    "\n",
    "**Description**: Check if a dataset has unique identifiers (e.g., emails)."
   ]
  },
  {
   "cell_type": "code",
   "execution_count": 4,
   "metadata": {},
   "outputs": [
    {
     "name": "stdout",
     "output_type": "stream",
     "text": [
      "⚠️ Found 2 duplicate email entries:\n",
      "   id     name              email\n",
      "0   1    Alice  alice@example.com\n",
      "2   3  Charlie  alice@example.com\n"
     ]
    }
   ],
   "source": [
    "# Write your code from here\n",
    "import pandas as pd\n",
    "from io import StringIO\n",
    "\n",
    "# Sample dataset with duplicate emails\n",
    "data_csv = StringIO(\"\"\"\n",
    "id,name,email\n",
    "1,Alice,alice@example.com\n",
    "2,Bob,bob@example.com\n",
    "3,Charlie,alice@example.com\n",
    "4,David,david@example.com\n",
    "5,Eve,eve@example.com\n",
    "\"\"\")\n",
    "\n",
    "df = pd.read_csv(data_csv)\n",
    "\n",
    "# Check for duplicates in 'email' column\n",
    "duplicates = df[df.duplicated(subset=['email'], keep=False)]\n",
    "\n",
    "if duplicates.empty:\n",
    "    print(\"✅ All emails are unique.\")\n",
    "else:\n",
    "    print(f\"⚠️ Found {len(duplicates)} duplicate email entries:\")\n",
    "    print(duplicates[['id', 'name', 'email']])\n"
   ]
  },
  {
   "cell_type": "markdown",
   "metadata": {},
   "source": [
    "Task 4: Validate Email Format Using Regex\n",
    "\n",
    "Description: Validate if email addresses in a dataset have the correct format."
   ]
  },
  {
   "cell_type": "code",
   "execution_count": 5,
   "metadata": {},
   "outputs": [
    {
     "name": "stdout",
     "output_type": "stream",
     "text": [
      "⚠️ Found 2 invalid email addresses:\n",
      "   id   name               email\n",
      "1   2    Bob  bob_at_example.com\n",
      "3   4  David   david.example.com\n"
     ]
    }
   ],
   "source": [
    "# Write your code from here\n",
    "import pandas as pd\n",
    "import re\n",
    "from io import StringIO\n",
    "\n",
    "# Sample dataset with some invalid emails\n",
    "data_csv = StringIO(\"\"\"\n",
    "id,name,email\n",
    "1,Alice,alice@example.com\n",
    "2,Bob,bob_at_example.com\n",
    "3,Charlie,charlie@example.com\n",
    "4,David,david.example.com\n",
    "5,Eve,eve@example.com\n",
    "\"\"\")\n",
    "\n",
    "df = pd.read_csv(data_csv)\n",
    "\n",
    "# Simple regex pattern for email validation\n",
    "email_pattern = re.compile(r\"^[\\w\\.-]+@[\\w\\.-]+\\.\\w+$\")\n",
    "\n",
    "def validate_email_format(email):\n",
    "    if isinstance(email, str) and email_pattern.match(email):\n",
    "        return True\n",
    "    return False\n",
    "\n",
    "# Apply validation across the email column\n",
    "df['email_valid'] = df['email'].apply(validate_email_format)\n",
    "\n",
    "# Find invalid emails\n",
    "invalid_emails = df[~df['email_valid']]\n",
    "\n",
    "print(f\"⚠️ Found {len(invalid_emails)} invalid email addresses:\")\n",
    "print(invalid_emails[['id', 'name', 'email']])\n"
   ]
  },
  {
   "cell_type": "markdown",
   "metadata": {},
   "source": [
    "Task 5: Check for Logical Age Validity\n",
    "\n",
    "Description: Ensure ages are within a reasonable human range (e.g., 0-120)."
   ]
  },
  {
   "cell_type": "code",
   "execution_count": 6,
   "metadata": {},
   "outputs": [
    {
     "name": "stdout",
     "output_type": "stream",
     "text": [
      "⚠️ Found 3 invalid age entries:\n",
      "   id     name     age\n",
      "1   2      Bob      -5\n",
      "2   3  Charlie     130\n",
      "4   5      Eve  twenty\n"
     ]
    }
   ],
   "source": [
    "# Write your code from here\n",
    "import pandas as pd\n",
    "from io import StringIO\n",
    "\n",
    "# Sample dataset with some invalid ages\n",
    "data_csv = StringIO(\"\"\"\n",
    "id,name,age\n",
    "1,Alice,30\n",
    "2,Bob,-5\n",
    "3,Charlie,130\n",
    "4,David,45\n",
    "5,Eve,twenty\n",
    "\"\"\")\n",
    "\n",
    "df = pd.read_csv(data_csv)\n",
    "\n",
    "def is_valid_age(age):\n",
    "    try:\n",
    "        age_num = int(age)\n",
    "        return 0 <= age_num <= 120\n",
    "    except (ValueError, TypeError):\n",
    "        return False\n",
    "\n",
    "# Apply validity check\n",
    "df['age_valid'] = df['age'].apply(is_valid_age)\n",
    "\n",
    "# Find invalid ages\n",
    "invalid_ages = df[~df['age_valid']]\n",
    "\n",
    "print(f\"⚠️ Found {len(invalid_ages)} invalid age entries:\")\n",
    "print(invalid_ages[['id', 'name', 'age']])\n"
   ]
  },
  {
   "cell_type": "markdown",
   "metadata": {},
   "source": [
    "Task 6: Identify and Handle Missing Data\n",
    "\n",
    "Description: Identify missing values in a dataset and impute them using a simple strategy (e.g., mean)."
   ]
  },
  {
   "cell_type": "code",
   "execution_count": 7,
   "metadata": {},
   "outputs": [
    {
     "name": "stdout",
     "output_type": "stream",
     "text": [
      "Missing values per column:\n",
      "id        0\n",
      "name      0\n",
      "age       2\n",
      "salary    1\n",
      "dtype: int64\n",
      "\n",
      "Imputed missing 'age' values with mean: 38.33\n",
      "\n",
      "Imputed missing 'salary' values with mean: 68750.00\n",
      "\n",
      "Dataset after imputation:\n",
      "   id     name        age   salary\n",
      "0   1    Alice  30.000000  70000.0\n",
      "1   2      Bob  38.333333  65000.0\n",
      "2   3  Charlie  45.000000  68750.0\n",
      "3   4    David  40.000000  72000.0\n",
      "4   5      Eve  38.333333  68000.0\n"
     ]
    }
   ],
   "source": [
    "# Write your code from here\n",
    "import pandas as pd\n",
    "from io import StringIO\n",
    "import numpy as np\n",
    "\n",
    "# Sample dataset with missing values (NaN)\n",
    "data_csv = StringIO(\"\"\"\n",
    "id,name,age,salary\n",
    "1,Alice,30,70000\n",
    "2,Bob,,65000\n",
    "3,Charlie,45,\n",
    "4,David,40,72000\n",
    "5,Eve,,68000\n",
    "\"\"\")\n",
    "\n",
    "df = pd.read_csv(data_csv)\n",
    "\n",
    "# Identify missing values per column\n",
    "missing_counts = df.isnull().sum()\n",
    "print(\"Missing values per column:\")\n",
    "print(missing_counts)\n",
    "\n",
    "# Impute missing values in 'age' and 'salary' with column mean\n",
    "for col in ['age', 'salary']:\n",
    "    if df[col].isnull().any():\n",
    "        mean_value = df[col].mean()\n",
    "        df[col].fillna(mean_value, inplace=True)\n",
    "        print(f\"\\nImputed missing '{col}' values with mean: {mean_value:.2f}\")\n",
    "\n",
    "print(\"\\nDataset after imputation:\")\n",
    "print(df)\n"
   ]
  },
  {
   "cell_type": "markdown",
   "metadata": {},
   "source": [
    "Task 7: Detect Duplicates\n",
    "\n",
    "Description: Detect duplicate rows in the dataset."
   ]
  },
  {
   "cell_type": "code",
   "execution_count": 8,
   "metadata": {},
   "outputs": [
    {
     "name": "stdout",
     "output_type": "stream",
     "text": [
      "✅ No duplicate rows found.\n"
     ]
    }
   ],
   "source": [
    "# Write your code from here\n",
    "import pandas as pd\n",
    "from io import StringIO\n",
    "\n",
    "# Sample dataset with duplicate rows\n",
    "data_csv = StringIO(\"\"\"\n",
    "id,name,email\n",
    "1,Alice,alice@example.com\n",
    "2,Bob,bob@example.com\n",
    "3,Charlie,charlie@example.com\n",
    "4,Alice,alice@example.com\n",
    "5,Eve,eve@example.com\n",
    "\"\"\")\n",
    "\n",
    "df = pd.read_csv(data_csv)\n",
    "\n",
    "# Detect duplicate rows (considering all columns)\n",
    "duplicates = df[df.duplicated(keep=False)]\n",
    "\n",
    "if duplicates.empty:\n",
    "    print(\"✅ No duplicate rows found.\")\n",
    "else:\n",
    "    print(f\"⚠️ Found {len(duplicates)} duplicate rows:\")\n",
    "    print(duplicates)\n"
   ]
  },
  {
   "cell_type": "markdown",
   "metadata": {},
   "source": [
    "Task 8: Validate Correctness of Numerical Values\n",
    "\n",
    "Description: Ensure numerical columns are within a specified range."
   ]
  },
  {
   "cell_type": "code",
   "execution_count": 9,
   "metadata": {},
   "outputs": [
    {
     "name": "stdout",
     "output_type": "stream",
     "text": [
      "⚠️ Invalid values found in 'temperature' (valid range: 0-100):\n",
      "   id  temperature\n",
      "1   2          150\n",
      "⚠️ Invalid values found in 'humidity' (valid range: 0-100):\n",
      "   id  humidity\n",
      "2   3       -10\n"
     ]
    }
   ],
   "source": [
    "# Write your code from here\n",
    "import pandas as pd\n",
    "from io import StringIO\n",
    "\n",
    "# Sample dataset\n",
    "data_csv = StringIO(\"\"\"\n",
    "id,temperature,humidity\n",
    "1,25,45\n",
    "2,150,50\n",
    "3,30,-10\n",
    "4,20,55\n",
    "5,18,60\n",
    "\"\"\")\n",
    "\n",
    "df = pd.read_csv(data_csv)\n",
    "\n",
    "# Define valid ranges for each numerical column\n",
    "valid_ranges = {\n",
    "    'temperature': (0, 100),  # degrees Celsius\n",
    "    'humidity': (0, 100)      # percentage\n",
    "}\n",
    "\n",
    "def validate_range(df, column, min_val, max_val):\n",
    "    invalid = df[(df[column] < min_val) | (df[column] > max_val)]\n",
    "    return invalid\n",
    "\n",
    "# Check each column and collect invalid rows\n",
    "invalid_entries = pd.DataFrame()\n",
    "for col, (min_val, max_val) in valid_ranges.items():\n",
    "    invalid = validate_range(df, col, min_val, max_val)\n",
    "    if not invalid.empty:\n",
    "        print(f\"⚠️ Invalid values found in '{col}' (valid range: {min_val}-{max_val}):\")\n",
    "        print(invalid[['id', col]])\n",
    "        invalid_entries = pd.concat([invalid_entries, invalid])\n",
    "\n",
    "if invalid_entries.empty:\n",
    "    print(\"✅ All numerical values are within specified ranges.\")\n"
   ]
  },
  {
   "cell_type": "markdown",
   "metadata": {},
   "source": [
    "Task 9: Custom Completeness Rule Violation Report\n",
    "\n",
    "Description: Create a report showing which rows violate specific completeness rules, such as mandatory fields being empty."
   ]
  },
  {
   "cell_type": "code",
   "execution_count": 10,
   "metadata": {},
   "outputs": [
    {
     "name": "stdout",
     "output_type": "stream",
     "text": [
      "⚠️ Found 3 rows violating completeness rules:\n",
      "Row 1 missing mandatory fields: ['email']\n",
      "Row 2 missing mandatory fields: ['phone']\n",
      "Row 3 missing mandatory fields: ['email', 'phone']\n"
     ]
    }
   ],
   "source": [
    "# Write your code from here\n",
    "import pandas as pd\n",
    "from io import StringIO\n",
    "\n",
    "# Sample dataset with missing mandatory fields\n",
    "data_csv = StringIO(\"\"\"\n",
    "id,name,email,phone\n",
    "1,Alice,alice@example.com,123-456-7890\n",
    "2,Bob,,987-654-3210\n",
    "3,Charlie,charlie@example.com,\n",
    "4,David,, \n",
    "5,Eve,eve@example.com,555-555-5555\n",
    "\"\"\")\n",
    "\n",
    "df = pd.read_csv(data_csv)\n",
    "\n",
    "# Define mandatory fields\n",
    "mandatory_fields = ['name', 'email', 'phone']\n",
    "\n",
    "def completeness_violations(df, mandatory_fields):\n",
    "    violations = []\n",
    "    for idx, row in df.iterrows():\n",
    "        missing_fields = [field for field in mandatory_fields if pd.isna(row[field]) or str(row[field]).strip() == '']\n",
    "        if missing_fields:\n",
    "            violations.append({'row_index': idx, 'missing_fields': missing_fields})\n",
    "    return violations\n",
    "\n",
    "violations = completeness_violations(df, mandatory_fields)\n",
    "\n",
    "if not violations:\n",
    "    print(\"✅ No completeness violations found.\")\n",
    "else:\n",
    "    print(f\"⚠️ Found {len(violations)} rows violating completeness rules:\")\n",
    "    for v in violations:\n",
    "        print(f\"Row {v['row_index']} missing mandatory fields: {v['missing_fields']}\")\n"
   ]
  },
  {
   "cell_type": "markdown",
   "metadata": {},
   "source": [
    "Task 10: Advanced Regex for Data Validity Check\n",
    "\n",
    "Description: Check for validity with advanced regex patterns, such as validating complex fields with multi-level rules."
   ]
  },
  {
   "cell_type": "code",
   "execution_count": 11,
   "metadata": {},
   "outputs": [
    {
     "name": "stdout",
     "output_type": "stream",
     "text": [
      "⚠️ Found 2 invalid phone numbers:\n",
      "   id   name        phone\n",
      "4   5    Eve     555-1234\n",
      "5   6  Frank  123-45-6789\n"
     ]
    }
   ],
   "source": [
    "# Write your code from here\n",
    "import pandas as pd\n",
    "import re\n",
    "from io import StringIO\n",
    "\n",
    "# Sample dataset with phone numbers\n",
    "data_csv = StringIO(\"\"\"\n",
    "id,name,phone\n",
    "1,Alice,+1-800-555-1234\n",
    "2,Bob,(800)555-1234 ext.123\n",
    "3,Charlie,800.555.1234x456\n",
    "4,David,8005551234\n",
    "5,Eve,555-1234\n",
    "6,Frank,123-45-6789\n",
    "\"\"\")\n",
    "\n",
    "df = pd.read_csv(data_csv)\n",
    "\n",
    "# Advanced regex pattern for US phone numbers with optional country code and extension\n",
    "phone_pattern = re.compile(\n",
    "    r\"\"\"^                    # start of string\n",
    "    (\\+1[-.\\s]?)*            # optional country code +1\n",
    "    \\(?(\\d{3})\\)?[-.\\s]?     # area code with optional parentheses\n",
    "    (\\d{3})[-.\\s]?           # first 3 digits\n",
    "    (\\d{4})                  # last 4 digits\n",
    "    (\\s*(ext|x|ext.)\\s*\\d+)? # optional extension\n",
    "    $                        # end of string\n",
    "    \"\"\",\n",
    "    re.VERBOSE | re.IGNORECASE\n",
    ")\n",
    "\n",
    "def validate_phone(phone):\n",
    "    if isinstance(phone, str) and phone_pattern.match(phone.strip()):\n",
    "        return True\n",
    "    return False\n",
    "\n",
    "df['phone_valid'] = df['phone'].apply(validate_phone)\n",
    "\n",
    "invalid_phones = df[~df['phone_valid']]\n",
    "\n",
    "print(f\"⚠️ Found {len(invalid_phones)} invalid phone numbers:\")\n",
    "print(invalid_phones[['id', 'name', 'phone']])\n"
   ]
  }
 ],
 "metadata": {
  "kernelspec": {
   "display_name": "Python 3",
   "language": "python",
   "name": "python3"
  },
  "language_info": {
   "codemirror_mode": {
    "name": "ipython",
    "version": 3
   },
   "file_extension": ".py",
   "mimetype": "text/x-python",
   "name": "python",
   "nbconvert_exporter": "python",
   "pygments_lexer": "ipython3",
   "version": "3.10.12"
  }
 },
 "nbformat": 4,
 "nbformat_minor": 2
}
