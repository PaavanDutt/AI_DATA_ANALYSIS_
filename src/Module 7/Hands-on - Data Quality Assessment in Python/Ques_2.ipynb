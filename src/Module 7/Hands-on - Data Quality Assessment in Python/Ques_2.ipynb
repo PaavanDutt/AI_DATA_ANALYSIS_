{
 "cells": [
  {
   "cell_type": "markdown",
   "metadata": {},
   "source": [
    "## Check Accuracy & Completeness\n",
    "\n",
    "**Objective**: Learn to assess data quality by checking for accuracy and completeness using Python.\n",
    "\n",
    "For this, you will use a sample dataset students.csv that contains the following\n",
    "columns: ID , Name , Age , Grade , Email .\n",
    "\n",
    "**Steps**:\n",
    "1. Check Accuracy\n",
    "    - Verify Numerical Data Accuracy\n",
    "    - Validate Email Format\n",
    "    - Integer Accuracy Check for Age\n",
    "2. Check Completeness\n",
    "    - Identify Missing Values\n",
    "    - Rows with Missing Data\n",
    "    - Column Specific Missing Value Check"
   ]
  },
  {
   "cell_type": "code",
   "execution_count": 1,
   "metadata": {},
   "outputs": [
    {
     "name": "stdout",
     "output_type": "stream",
     "text": [
      "students.csv created successfully!\n"
     ]
    }
   ],
   "source": [
    "# Write your code from here\n",
    "import pandas as pd\n",
    "\n",
    "# Sample data dictionary\n",
    "data = {\n",
    "    \"ID\": [1, 2, 3, 4, 5, 6, 7, 8, 9, 10],\n",
    "    \"Name\": [\"Alice\", \"Bob\", \"Charlie\", \"David\", \"Eva\", \"Frank\", \"Gina\", \"Harry\", \"Ivy\", \"Jack\"],\n",
    "    \"Age\": [20, 22, 19, \"abc\", 21, 17, 24, 26, 20, 21],\n",
    "    \"Grade\": [85, 90, 105, 75, 88, 92, 79, 65, None, 95],\n",
    "    \"Email\": [\n",
    "        \"alice@example.com\",\n",
    "        \"bob_at_example.com\",\n",
    "        \"charlie@example.com\",\n",
    "        \"david@example.com\",\n",
    "        None,\n",
    "        \"frank@example\",\n",
    "        \"gina@example.com\",\n",
    "        \"harry@example.com\",\n",
    "        \"ivy@example.com\",\n",
    "        \"jack@example.com\"\n",
    "    ]\n",
    "}\n",
    "\n",
    "# Create DataFrame\n",
    "df = pd.DataFrame(data)\n",
    "\n",
    "# Save to CSV locally\n",
    "df.to_csv(\"students.csv\", index=False)\n",
    "\n",
    "print(\"students.csv created successfully!\")\n"
   ]
  },
  {
   "cell_type": "code",
   "execution_count": 2,
   "metadata": {},
   "outputs": [
    {
     "name": "stdout",
     "output_type": "stream",
     "text": [
      "   ID     Name  Age  Grade                Email\n",
      "0   1    Alice   20   85.0    alice@example.com\n",
      "1   2      Bob   22   90.0   bob_at_example.com\n",
      "2   3  Charlie   19  105.0  charlie@example.com\n",
      "3   4    David  abc   75.0    david@example.com\n",
      "4   5      Eva   21   88.0                  NaN\n"
     ]
    }
   ],
   "source": [
    "import pandas as pd\n",
    "\n",
    "# Load the dataset\n",
    "df = pd.read_csv('students.csv')\n",
    "\n",
    "# Show first few rows\n",
    "print(df.head())\n"
   ]
  },
  {
   "cell_type": "code",
   "execution_count": 4,
   "metadata": {},
   "outputs": [
    {
     "name": "stdout",
     "output_type": "stream",
     "text": [
      "Rows with non-numeric Age:\n",
      "    ID   Name  Age  Grade              Email  Age_numeric\n",
      "3   4  David  abc   75.0  david@example.com          NaN\n",
      "Rows with Age out of expected range (5-25):\n",
      "    ID   Name Age  Grade              Email  Age_numeric\n",
      "7   8  Harry  26   65.0  harry@example.com         26.0\n"
     ]
    }
   ],
   "source": [
    "import pandas as pd\n",
    "\n",
    "# Load CSV (or assume df is already loaded)\n",
    "df = pd.read_csv('students.csv')\n",
    "\n",
    "# Convert Age to numeric, invalid parsing becomes NaN\n",
    "df['Age_numeric'] = pd.to_numeric(df['Age'], errors='coerce')\n",
    "\n",
    "# Find rows where Age is not numeric\n",
    "invalid_age = df[df['Age_numeric'].isna()]\n",
    "print(\"Rows with non-numeric Age:\\n\", invalid_age)\n",
    "\n",
    "# Check Age range (5 to 25)\n",
    "age_out_of_range = df[(df['Age_numeric'] < 5) | (df['Age_numeric'] > 25)]\n",
    "print(\"Rows with Age out of expected range (5-25):\\n\", age_out_of_range)\n"
   ]
  },
  {
   "cell_type": "code",
   "execution_count": 5,
   "metadata": {},
   "outputs": [
    {
     "name": "stdout",
     "output_type": "stream",
     "text": [
      "Rows with invalid emails:\n",
      "    ID   Name Age  Grade               Email  Age_numeric\n",
      "1   2    Bob  22   90.0  bob_at_example.com         22.0\n",
      "4   5    Eva  21   88.0                 NaN         21.0\n",
      "5   6  Frank  17   92.0       frank@example         17.0\n"
     ]
    }
   ],
   "source": [
    "import re\n",
    "\n",
    "email_pattern = re.compile(r'^[\\w\\.-]+@[\\w\\.-]+\\.\\w+$')\n",
    "\n",
    "invalid_emails = df[~df['Email'].astype(str).apply(lambda x: bool(email_pattern.match(x)))]\n",
    "print(\"Rows with invalid emails:\\n\", invalid_emails)\n"
   ]
  },
  {
   "cell_type": "code",
   "execution_count": 6,
   "metadata": {},
   "outputs": [
    {
     "name": "stdout",
     "output_type": "stream",
     "text": [
      "Rows where Age is not an integer:\n",
      "    ID     Name  Age  Grade                Email  Age_numeric\n",
      "0   1    Alice   20   85.0    alice@example.com         20.0\n",
      "1   2      Bob   22   90.0   bob_at_example.com         22.0\n",
      "2   3  Charlie   19  105.0  charlie@example.com         19.0\n",
      "3   4    David  abc   75.0    david@example.com          NaN\n",
      "4   5      Eva   21   88.0                  NaN         21.0\n",
      "5   6    Frank   17   92.0        frank@example         17.0\n",
      "6   7     Gina   24   79.0     gina@example.com         24.0\n",
      "7   8    Harry   26   65.0    harry@example.com         26.0\n",
      "8   9      Ivy   20    NaN      ivy@example.com         20.0\n",
      "9  10     Jack   21   95.0     jack@example.com         21.0\n"
     ]
    }
   ],
   "source": [
    "# Check if Age values are integers (and not floats)\n",
    "non_integer_ages = df[~df['Age'].apply(lambda x: isinstance(x, int))]\n",
    "print(\"Rows where Age is not an integer:\\n\", non_integer_ages)\n"
   ]
  },
  {
   "cell_type": "code",
   "execution_count": 7,
   "metadata": {},
   "outputs": [
    {
     "name": "stdout",
     "output_type": "stream",
     "text": [
      "Missing values per column:\n",
      " ID             0\n",
      "Name           0\n",
      "Age            0\n",
      "Grade          1\n",
      "Email          1\n",
      "Age_numeric    1\n",
      "dtype: int64\n"
     ]
    }
   ],
   "source": [
    "missing_values = df.isnull().sum()\n",
    "print(\"Missing values per column:\\n\", missing_values)\n"
   ]
  },
  {
   "cell_type": "code",
   "execution_count": 8,
   "metadata": {},
   "outputs": [
    {
     "name": "stdout",
     "output_type": "stream",
     "text": [
      "Rows with missing data:\n",
      "    ID   Name  Age  Grade              Email  Age_numeric\n",
      "3   4  David  abc   75.0  david@example.com          NaN\n",
      "4   5    Eva   21   88.0                NaN         21.0\n",
      "8   9    Ivy   20    NaN    ivy@example.com         20.0\n"
     ]
    }
   ],
   "source": [
    "rows_with_missing = df[df.isnull().any(axis=1)]\n",
    "print(\"Rows with missing data:\\n\", rows_with_missing)\n"
   ]
  },
  {
   "cell_type": "code",
   "execution_count": 9,
   "metadata": {},
   "outputs": [
    {
     "name": "stdout",
     "output_type": "stream",
     "text": [
      "Rows with missing emails:\n",
      "    ID Name Age  Grade Email  Age_numeric\n",
      "4   5  Eva  21   88.0   NaN         21.0\n"
     ]
    }
   ],
   "source": [
    "missing_emails = df[df['Email'].isnull()]\n",
    "print(\"Rows with missing emails:\\n\", missing_emails)\n"
   ]
  }
 ],
 "metadata": {
  "kernelspec": {
   "display_name": "Python 3",
   "language": "python",
   "name": "python3"
  },
  "language_info": {
   "codemirror_mode": {
    "name": "ipython",
    "version": 3
   },
   "file_extension": ".py",
   "mimetype": "text/x-python",
   "name": "python",
   "nbconvert_exporter": "python",
   "pygments_lexer": "ipython3",
   "version": "3.10.12"
  }
 },
 "nbformat": 4,
 "nbformat_minor": 2
}
